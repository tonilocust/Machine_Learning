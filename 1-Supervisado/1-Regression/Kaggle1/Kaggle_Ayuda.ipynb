{
 "cells": [
  {
   "cell_type": "markdown",
   "metadata": {},
   "source": [
    "#### Aquí encontrarás todo lo que necesitas saber: https://www.kaggle.com/t/ab8726f0cfc84544abbae69a6be88071"
   ]
  },
  {
   "cell_type": "markdown",
   "metadata": {},
   "source": [
    "## Librerias"
   ]
  },
  {
   "cell_type": "code",
   "execution_count": 1,
   "metadata": {},
   "outputs": [],
   "source": [
    "import pandas as pd\n",
    "import numpy as np\n",
    "import urllib.request\n",
    "from PIL import Image\n",
    "from sqlalchemy import create_engine\n",
    "import matplotlib.pyplot as plt"
   ]
  },
  {
   "cell_type": "markdown",
   "metadata": {},
   "source": [
    "## Data"
   ]
  },
  {
   "cell_type": "code",
   "execution_count": 2,
   "metadata": {},
   "outputs": [],
   "source": [
    "### Para que funcione necesitas bajarte los archivos de datos de Kaggle \n",
    "\n",
    "train = pd.read_csv(\"data/train.csv\")\n"
   ]
  },
  {
   "cell_type": "markdown",
   "metadata": {},
   "source": [
    "## Data exploration"
   ]
  },
  {
   "cell_type": "code",
   "execution_count": 3,
   "metadata": {},
   "outputs": [
    {
     "name": "stdout",
     "output_type": "stream",
     "text": [
      "<class 'pandas.core.frame.DataFrame'>\n",
      "RangeIndex: 912 entries, 0 to 911\n",
      "Data columns (total 13 columns):\n",
      " #   Column            Non-Null Count  Dtype  \n",
      "---  ------            --------------  -----  \n",
      " 0   laptop_ID         912 non-null    int64  \n",
      " 1   Company           912 non-null    object \n",
      " 2   Product           912 non-null    object \n",
      " 3   TypeName          912 non-null    object \n",
      " 4   Inches            912 non-null    float64\n",
      " 5   ScreenResolution  912 non-null    object \n",
      " 6   Cpu               912 non-null    object \n",
      " 7   Ram               912 non-null    object \n",
      " 8   Memory            912 non-null    object \n",
      " 9   Gpu               912 non-null    object \n",
      " 10  OpSys             912 non-null    object \n",
      " 11  Weight            912 non-null    object \n",
      " 12  Price_euros       912 non-null    float64\n",
      "dtypes: float64(2), int64(1), object(10)\n",
      "memory usage: 92.8+ KB\n"
     ]
    }
   ],
   "source": [
    "train.info()"
   ]
  },
  {
   "cell_type": "code",
   "execution_count": 4,
   "metadata": {},
   "outputs": [
    {
     "data": {
      "text/html": [
       "<div>\n",
       "<style scoped>\n",
       "    .dataframe tbody tr th:only-of-type {\n",
       "        vertical-align: middle;\n",
       "    }\n",
       "\n",
       "    .dataframe tbody tr th {\n",
       "        vertical-align: top;\n",
       "    }\n",
       "\n",
       "    .dataframe thead th {\n",
       "        text-align: right;\n",
       "    }\n",
       "</style>\n",
       "<table border=\"1\" class=\"dataframe\">\n",
       "  <thead>\n",
       "    <tr style=\"text-align: right;\">\n",
       "      <th></th>\n",
       "      <th>laptop_ID</th>\n",
       "      <th>Company</th>\n",
       "      <th>Product</th>\n",
       "      <th>TypeName</th>\n",
       "      <th>Inches</th>\n",
       "      <th>ScreenResolution</th>\n",
       "      <th>Cpu</th>\n",
       "      <th>Ram</th>\n",
       "      <th>Memory</th>\n",
       "      <th>Gpu</th>\n",
       "      <th>OpSys</th>\n",
       "      <th>Weight</th>\n",
       "      <th>Price_euros</th>\n",
       "    </tr>\n",
       "  </thead>\n",
       "  <tbody>\n",
       "    <tr>\n",
       "      <th>0</th>\n",
       "      <td>1104</td>\n",
       "      <td>Acer</td>\n",
       "      <td>Aspire ES1-523</td>\n",
       "      <td>Notebook</td>\n",
       "      <td>15.6</td>\n",
       "      <td>1366x768</td>\n",
       "      <td>AMD A8-Series 7410 2.2GHz</td>\n",
       "      <td>4GB</td>\n",
       "      <td>500GB HDD</td>\n",
       "      <td>AMD Radeon R5</td>\n",
       "      <td>Windows 10</td>\n",
       "      <td>2.4kg</td>\n",
       "      <td>387.0</td>\n",
       "    </tr>\n",
       "    <tr>\n",
       "      <th>1</th>\n",
       "      <td>114</td>\n",
       "      <td>Dell</td>\n",
       "      <td>XPS 13</td>\n",
       "      <td>Ultrabook</td>\n",
       "      <td>13.3</td>\n",
       "      <td>Quad HD+ / Touchscreen 3200x1800</td>\n",
       "      <td>Intel Core i7 7560U 2.4GHz</td>\n",
       "      <td>8GB</td>\n",
       "      <td>256GB SSD</td>\n",
       "      <td>Intel Iris Plus Graphics 640</td>\n",
       "      <td>Windows 10</td>\n",
       "      <td>1.23kg</td>\n",
       "      <td>1379.0</td>\n",
       "    </tr>\n",
       "    <tr>\n",
       "      <th>2</th>\n",
       "      <td>172</td>\n",
       "      <td>Acer</td>\n",
       "      <td>Aspire A517-51G</td>\n",
       "      <td>Notebook</td>\n",
       "      <td>17.3</td>\n",
       "      <td>IPS Panel Full HD 1920x1080</td>\n",
       "      <td>Intel Core i5 8250U 1.6GHz</td>\n",
       "      <td>8GB</td>\n",
       "      <td>256GB SSD</td>\n",
       "      <td>Nvidia GeForce MX150</td>\n",
       "      <td>Windows 10</td>\n",
       "      <td>3kg</td>\n",
       "      <td>854.0</td>\n",
       "    </tr>\n",
       "    <tr>\n",
       "      <th>3</th>\n",
       "      <td>918</td>\n",
       "      <td>HP</td>\n",
       "      <td>Elitebook 820</td>\n",
       "      <td>Netbook</td>\n",
       "      <td>12.5</td>\n",
       "      <td>Full HD 1920x1080</td>\n",
       "      <td>Intel Core i7 7500U 2.7GHz</td>\n",
       "      <td>8GB</td>\n",
       "      <td>512GB SSD</td>\n",
       "      <td>Intel HD Graphics 620</td>\n",
       "      <td>Windows 10</td>\n",
       "      <td>1.26kg</td>\n",
       "      <td>1483.0</td>\n",
       "    </tr>\n",
       "    <tr>\n",
       "      <th>4</th>\n",
       "      <td>447</td>\n",
       "      <td>Lenovo</td>\n",
       "      <td>IdeaPad 320-15AST</td>\n",
       "      <td>Notebook</td>\n",
       "      <td>17.3</td>\n",
       "      <td>1600x900</td>\n",
       "      <td>AMD A6-Series 9220 2.5GHz</td>\n",
       "      <td>8GB</td>\n",
       "      <td>1TB HDD</td>\n",
       "      <td>AMD Radeon R4</td>\n",
       "      <td>Windows 10</td>\n",
       "      <td>2.8kg</td>\n",
       "      <td>519.0</td>\n",
       "    </tr>\n",
       "  </tbody>\n",
       "</table>\n",
       "</div>"
      ],
      "text/plain": [
       "   laptop_ID Company            Product   TypeName  Inches   \n",
       "0       1104    Acer     Aspire ES1-523   Notebook    15.6  \\\n",
       "1        114    Dell             XPS 13  Ultrabook    13.3   \n",
       "2        172    Acer    Aspire A517-51G   Notebook    17.3   \n",
       "3        918      HP      Elitebook 820    Netbook    12.5   \n",
       "4        447  Lenovo  IdeaPad 320-15AST   Notebook    17.3   \n",
       "\n",
       "                   ScreenResolution                         Cpu  Ram   \n",
       "0                          1366x768   AMD A8-Series 7410 2.2GHz  4GB  \\\n",
       "1  Quad HD+ / Touchscreen 3200x1800  Intel Core i7 7560U 2.4GHz  8GB   \n",
       "2       IPS Panel Full HD 1920x1080  Intel Core i5 8250U 1.6GHz  8GB   \n",
       "3                 Full HD 1920x1080  Intel Core i7 7500U 2.7GHz  8GB   \n",
       "4                          1600x900   AMD A6-Series 9220 2.5GHz  8GB   \n",
       "\n",
       "      Memory                           Gpu       OpSys  Weight  Price_euros  \n",
       "0  500GB HDD                 AMD Radeon R5  Windows 10   2.4kg        387.0  \n",
       "1  256GB SSD  Intel Iris Plus Graphics 640  Windows 10  1.23kg       1379.0  \n",
       "2  256GB SSD          Nvidia GeForce MX150  Windows 10     3kg        854.0  \n",
       "3  512GB SSD         Intel HD Graphics 620  Windows 10  1.26kg       1483.0  \n",
       "4    1TB HDD                 AMD Radeon R4  Windows 10   2.8kg        519.0  "
      ]
     },
     "execution_count": 4,
     "metadata": {},
     "output_type": "execute_result"
    }
   ],
   "source": [
    "train.head()"
   ]
  },
  {
   "cell_type": "markdown",
   "metadata": {},
   "source": [
    "## Data processing"
   ]
  },
  {
   "attachments": {},
   "cell_type": "markdown",
   "metadata": {},
   "source": [
    "Comienzo por la columana weight. La renombro con sus valor de unidad y limpio valores para que sean numericos"
   ]
  },
  {
   "cell_type": "code",
   "execution_count": 5,
   "metadata": {},
   "outputs": [],
   "source": [
    "train = train.rename(columns={'Weight': 'Weight_Kg'})\n",
    "train['Weight_Kg'] = train['Weight_Kg'].str[:-2]"
   ]
  },
  {
   "attachments": {},
   "cell_type": "markdown",
   "metadata": {},
   "source": [
    "Lo mismo para la columna ScreenResolution"
   ]
  },
  {
   "cell_type": "code",
   "execution_count": 6,
   "metadata": {},
   "outputs": [],
   "source": [
    "# Extraer los últimos 9 digitos de la columna ScreenResolution y sobrescribir la columna original\n",
    "train['ScreenResolution'] = train['ScreenResolution'].str[-9:]\n",
    "\n",
    "# Creo las dos nuevas columnas \n",
    "train['SRx'] = 0\n",
    "train['SRy'] = 0\n",
    "\n",
    "# Creo dos nuevas columas y separo la columna original donde aparece x\n",
    "train[['SRx', 'SRy']] = train['ScreenResolution'].str.split('x', expand=True)\n",
    "\n",
    "# Convierto las dos nuevas columnas a tipo numérico\n",
    "train['SRx'] = pd.to_numeric(train['SRx'])\n",
    "train['SRy'] = pd.to_numeric(train['SRy'])\n",
    "\n",
    "# Elimino la original \n",
    "del(train['ScreenResolution'])"
   ]
  },
  {
   "attachments": {},
   "cell_type": "markdown",
   "metadata": {},
   "source": [
    "#### Redondeo columna Inches"
   ]
  },
  {
   "cell_type": "code",
   "execution_count": 7,
   "metadata": {},
   "outputs": [],
   "source": [
    "# Definir una funcion para redondear los valores y aplicar a columna Inches\n",
    "def redondeo(x):\n",
    "    if x % 1 >= 0.6:\n",
    "        return int(x) + 1\n",
    "    else:\n",
    "        return int(x)\n",
    "    \n",
    "train['Inches'] = train['Inches'].apply(redondeo)"
   ]
  },
  {
   "attachments": {},
   "cell_type": "markdown",
   "metadata": {},
   "source": [
    "#### Trato Ram para hacerlo numerico"
   ]
  },
  {
   "cell_type": "code",
   "execution_count": 8,
   "metadata": {},
   "outputs": [],
   "source": [
    "# Renombrar la columna Ram\n",
    "train = train.rename(columns={'Ram': 'Ram_GB'})\n",
    "\n",
    "# Quitar dos ultimos caracteres\n",
    "train['Ram_GB'] = train['Ram_GB'].str[:-2]\n",
    "\n",
    "# Convertir a tipo numerico\n",
    "train['Ram_GB'] = train['Ram_GB'].astype(int)"
   ]
  },
  {
   "attachments": {},
   "cell_type": "markdown",
   "metadata": {},
   "source": [
    "#### Ahora trabajo con OpSys para agrupara por valores numericos"
   ]
  },
  {
   "cell_type": "code",
   "execution_count": 9,
   "metadata": {},
   "outputs": [],
   "source": [
    "#Renombro para agrupar valores Operating system de mac\n",
    "\n",
    "train['OpSys'].replace({'macOS': 'Mac OS', 'Mac OS X': 'Mac OS'}, inplace=True)"
   ]
  },
  {
   "cell_type": "code",
   "execution_count": 10,
   "metadata": {},
   "outputs": [],
   "source": [
    "\n",
    "# Nuevos valores ---> 1 = Windows 10 | 2 = No OS | 3 = Linux | 4 = Windows 7| 5 = Chrome OS | 6 = Mac OS |  7 = Windows 10 S | 8 = Android\n",
    "\n"
   ]
  },
  {
   "cell_type": "code",
   "execution_count": 11,
   "metadata": {},
   "outputs": [
    {
     "data": {
      "text/plain": [
       "OpSys\n",
       "Windows 10      751\n",
       "No OS            47\n",
       "Linux            40\n",
       "Windows 7        31\n",
       "Chrome OS        19\n",
       "Mac OS           16\n",
       "Windows 10 S      7\n",
       "Android           1\n",
       "Name: count, dtype: int64"
      ]
     },
     "execution_count": 11,
     "metadata": {},
     "output_type": "execute_result"
    }
   ],
   "source": [
    "train['OpSys'].value_counts()"
   ]
  },
  {
   "attachments": {},
   "cell_type": "markdown",
   "metadata": {},
   "source": [
    "#### Creo CPU_Brand\n",
    "para agrupar por marcas de procesador"
   ]
  },
  {
   "cell_type": "code",
   "execution_count": 12,
   "metadata": {},
   "outputs": [],
   "source": [
    "# Renombrar la columna Cpu\n",
    "train = train.rename(columns={'Cpu': 'CPU'})\n",
    "\n",
    "train['CPU_Brand'] = np.where(train['CPU'].str.contains('Intel', regex=True), 'Intel',\n",
    "                          np.where(train['CPU'].str.contains('Mac', regex=True), 'Mac', 'AMD'))\n",
    "\n",
    "\n",
    "# Nuevos valores, 1 para intel. 0 = AMD\n",
    "\n",
    "train['CPU_Brand'] = train['CPU_Brand'].replace('AMD', 0)\n",
    "train['CPU_Brand'] = train['CPU_Brand'].replace('Intel', 1)"
   ]
  },
  {
   "attachments": {},
   "cell_type": "markdown",
   "metadata": {},
   "source": [
    "#### Creo Memory2"
   ]
  },
  {
   "cell_type": "code",
   "execution_count": 13,
   "metadata": {},
   "outputs": [],
   "source": [
    "# Creo feature 'Memory2' y asigno valores 0 = solo tiene una memoria. 1 tiene 2 memorias\n",
    "\n",
    "train['Memory2'] = 0\n",
    "train.loc[train['Memory'].str.contains('\\+'), 'Memory2'] = 1"
   ]
  },
  {
   "cell_type": "code",
   "execution_count": 14,
   "metadata": {},
   "outputs": [
    {
     "data": {
      "text/plain": [
       "Memory2\n",
       "0    773\n",
       "1    139\n",
       "Name: count, dtype: int64"
      ]
     },
     "execution_count": 14,
     "metadata": {},
     "output_type": "execute_result"
    }
   ],
   "source": [
    "train['Memory2'].value_counts()"
   ]
  },
  {
   "cell_type": "markdown",
   "metadata": {},
   "source": [
    "## Pasos que si o si debéis realizar para poder participar en la competición:"
   ]
  },
  {
   "cell_type": "code",
   "execution_count": 15,
   "metadata": {},
   "outputs": [
    {
     "data": {
      "text/html": [
       "<div>\n",
       "<style scoped>\n",
       "    .dataframe tbody tr th:only-of-type {\n",
       "        vertical-align: middle;\n",
       "    }\n",
       "\n",
       "    .dataframe tbody tr th {\n",
       "        vertical-align: top;\n",
       "    }\n",
       "\n",
       "    .dataframe thead th {\n",
       "        text-align: right;\n",
       "    }\n",
       "</style>\n",
       "<table border=\"1\" class=\"dataframe\">\n",
       "  <thead>\n",
       "    <tr style=\"text-align: right;\">\n",
       "      <th></th>\n",
       "      <th>laptop_ID</th>\n",
       "      <th>Company</th>\n",
       "      <th>Product</th>\n",
       "      <th>TypeName</th>\n",
       "      <th>Inches</th>\n",
       "      <th>CPU</th>\n",
       "      <th>Ram_GB</th>\n",
       "      <th>Memory</th>\n",
       "      <th>Gpu</th>\n",
       "      <th>OpSys</th>\n",
       "      <th>Weight_Kg</th>\n",
       "      <th>Price_euros</th>\n",
       "      <th>SRx</th>\n",
       "      <th>SRy</th>\n",
       "      <th>CPU_Brand</th>\n",
       "      <th>Memory2</th>\n",
       "    </tr>\n",
       "  </thead>\n",
       "  <tbody>\n",
       "    <tr>\n",
       "      <th>0</th>\n",
       "      <td>1104</td>\n",
       "      <td>Acer</td>\n",
       "      <td>Aspire ES1-523</td>\n",
       "      <td>Notebook</td>\n",
       "      <td>15</td>\n",
       "      <td>AMD A8-Series 7410 2.2GHz</td>\n",
       "      <td>4</td>\n",
       "      <td>500GB HDD</td>\n",
       "      <td>AMD Radeon R5</td>\n",
       "      <td>Windows 10</td>\n",
       "      <td>2.4</td>\n",
       "      <td>387.0</td>\n",
       "      <td>1366</td>\n",
       "      <td>768</td>\n",
       "      <td>0</td>\n",
       "      <td>0</td>\n",
       "    </tr>\n",
       "    <tr>\n",
       "      <th>1</th>\n",
       "      <td>114</td>\n",
       "      <td>Dell</td>\n",
       "      <td>XPS 13</td>\n",
       "      <td>Ultrabook</td>\n",
       "      <td>13</td>\n",
       "      <td>Intel Core i7 7560U 2.4GHz</td>\n",
       "      <td>8</td>\n",
       "      <td>256GB SSD</td>\n",
       "      <td>Intel Iris Plus Graphics 640</td>\n",
       "      <td>Windows 10</td>\n",
       "      <td>1.23</td>\n",
       "      <td>1379.0</td>\n",
       "      <td>3200</td>\n",
       "      <td>1800</td>\n",
       "      <td>1</td>\n",
       "      <td>0</td>\n",
       "    </tr>\n",
       "    <tr>\n",
       "      <th>2</th>\n",
       "      <td>172</td>\n",
       "      <td>Acer</td>\n",
       "      <td>Aspire A517-51G</td>\n",
       "      <td>Notebook</td>\n",
       "      <td>17</td>\n",
       "      <td>Intel Core i5 8250U 1.6GHz</td>\n",
       "      <td>8</td>\n",
       "      <td>256GB SSD</td>\n",
       "      <td>Nvidia GeForce MX150</td>\n",
       "      <td>Windows 10</td>\n",
       "      <td>3</td>\n",
       "      <td>854.0</td>\n",
       "      <td>1920</td>\n",
       "      <td>1080</td>\n",
       "      <td>1</td>\n",
       "      <td>0</td>\n",
       "    </tr>\n",
       "    <tr>\n",
       "      <th>3</th>\n",
       "      <td>918</td>\n",
       "      <td>HP</td>\n",
       "      <td>Elitebook 820</td>\n",
       "      <td>Netbook</td>\n",
       "      <td>12</td>\n",
       "      <td>Intel Core i7 7500U 2.7GHz</td>\n",
       "      <td>8</td>\n",
       "      <td>512GB SSD</td>\n",
       "      <td>Intel HD Graphics 620</td>\n",
       "      <td>Windows 10</td>\n",
       "      <td>1.26</td>\n",
       "      <td>1483.0</td>\n",
       "      <td>1920</td>\n",
       "      <td>1080</td>\n",
       "      <td>1</td>\n",
       "      <td>0</td>\n",
       "    </tr>\n",
       "    <tr>\n",
       "      <th>4</th>\n",
       "      <td>447</td>\n",
       "      <td>Lenovo</td>\n",
       "      <td>IdeaPad 320-15AST</td>\n",
       "      <td>Notebook</td>\n",
       "      <td>17</td>\n",
       "      <td>AMD A6-Series 9220 2.5GHz</td>\n",
       "      <td>8</td>\n",
       "      <td>1TB HDD</td>\n",
       "      <td>AMD Radeon R4</td>\n",
       "      <td>Windows 10</td>\n",
       "      <td>2.8</td>\n",
       "      <td>519.0</td>\n",
       "      <td>1600</td>\n",
       "      <td>900</td>\n",
       "      <td>0</td>\n",
       "      <td>0</td>\n",
       "    </tr>\n",
       "  </tbody>\n",
       "</table>\n",
       "</div>"
      ],
      "text/plain": [
       "   laptop_ID Company            Product   TypeName  Inches   \n",
       "0       1104    Acer     Aspire ES1-523   Notebook      15  \\\n",
       "1        114    Dell             XPS 13  Ultrabook      13   \n",
       "2        172    Acer    Aspire A517-51G   Notebook      17   \n",
       "3        918      HP      Elitebook 820    Netbook      12   \n",
       "4        447  Lenovo  IdeaPad 320-15AST   Notebook      17   \n",
       "\n",
       "                          CPU  Ram_GB     Memory   \n",
       "0   AMD A8-Series 7410 2.2GHz       4  500GB HDD  \\\n",
       "1  Intel Core i7 7560U 2.4GHz       8  256GB SSD   \n",
       "2  Intel Core i5 8250U 1.6GHz       8  256GB SSD   \n",
       "3  Intel Core i7 7500U 2.7GHz       8  512GB SSD   \n",
       "4   AMD A6-Series 9220 2.5GHz       8    1TB HDD   \n",
       "\n",
       "                            Gpu       OpSys Weight_Kg  Price_euros   SRx   \n",
       "0                 AMD Radeon R5  Windows 10       2.4        387.0  1366  \\\n",
       "1  Intel Iris Plus Graphics 640  Windows 10      1.23       1379.0  3200   \n",
       "2          Nvidia GeForce MX150  Windows 10         3        854.0  1920   \n",
       "3         Intel HD Graphics 620  Windows 10      1.26       1483.0  1920   \n",
       "4                 AMD Radeon R4  Windows 10       2.8        519.0  1600   \n",
       "\n",
       "    SRy  CPU_Brand  Memory2  \n",
       "0   768          0        0  \n",
       "1  1800          1        0  \n",
       "2  1080          1        0  \n",
       "3  1080          1        0  \n",
       "4   900          0        0  "
      ]
     },
     "execution_count": 15,
     "metadata": {},
     "output_type": "execute_result"
    }
   ],
   "source": [
    "train.head()"
   ]
  },
  {
   "cell_type": "markdown",
   "metadata": {},
   "source": [
    "### 1. Definir X e y"
   ]
  },
  {
   "cell_type": "code",
   "execution_count": 16,
   "metadata": {},
   "outputs": [
    {
     "data": {
      "text/plain": [
       "(912, 8)"
      ]
     },
     "execution_count": 16,
     "metadata": {},
     "output_type": "execute_result"
    }
   ],
   "source": [
    "X = train.drop(['Price_euros','Company','Product','TypeName','CPU','Memory','OpSys','Gpu','CPU' ], axis=1)\n",
    "y = train['Price_euros'].copy()\n",
    "X.shape"
   ]
  },
  {
   "cell_type": "code",
   "execution_count": 17,
   "metadata": {},
   "outputs": [
    {
     "data": {
      "text/plain": [
       "(912,)"
      ]
     },
     "execution_count": 17,
     "metadata": {},
     "output_type": "execute_result"
    }
   ],
   "source": [
    "y.shape"
   ]
  },
  {
   "cell_type": "markdown",
   "metadata": {},
   "source": [
    "### 2. Dividir X_train, X_test, y_train, y_test"
   ]
  },
  {
   "cell_type": "code",
   "execution_count": 18,
   "metadata": {},
   "outputs": [],
   "source": [
    "from sklearn.model_selection import train_test_split\n",
    "\n",
    "X_train, X_test, y_train, y_test = \\\n",
    "train_test_split(X, y, test_size=422, shuffle=False)"
   ]
  },
  {
   "cell_type": "code",
   "execution_count": 19,
   "metadata": {},
   "outputs": [],
   "source": [
    "X_train, X_test, y_train, y_test = train_test_split(X, y, test_size = 0.20, random_state = 42)"
   ]
  },
  {
   "cell_type": "code",
   "execution_count": 20,
   "metadata": {},
   "outputs": [
    {
     "data": {
      "text/html": [
       "<div>\n",
       "<style scoped>\n",
       "    .dataframe tbody tr th:only-of-type {\n",
       "        vertical-align: middle;\n",
       "    }\n",
       "\n",
       "    .dataframe tbody tr th {\n",
       "        vertical-align: top;\n",
       "    }\n",
       "\n",
       "    .dataframe thead th {\n",
       "        text-align: right;\n",
       "    }\n",
       "</style>\n",
       "<table border=\"1\" class=\"dataframe\">\n",
       "  <thead>\n",
       "    <tr style=\"text-align: right;\">\n",
       "      <th></th>\n",
       "      <th>laptop_ID</th>\n",
       "      <th>Inches</th>\n",
       "      <th>Ram_GB</th>\n",
       "      <th>Weight_Kg</th>\n",
       "      <th>SRx</th>\n",
       "      <th>SRy</th>\n",
       "      <th>CPU_Brand</th>\n",
       "      <th>Memory2</th>\n",
       "    </tr>\n",
       "  </thead>\n",
       "  <tbody>\n",
       "    <tr>\n",
       "      <th>25</th>\n",
       "      <td>26</td>\n",
       "      <td>15</td>\n",
       "      <td>4</td>\n",
       "      <td>2.3</td>\n",
       "      <td>1366</td>\n",
       "      <td>768</td>\n",
       "      <td>1</td>\n",
       "      <td>0</td>\n",
       "    </tr>\n",
       "    <tr>\n",
       "      <th>84</th>\n",
       "      <td>776</td>\n",
       "      <td>15</td>\n",
       "      <td>16</td>\n",
       "      <td>2.72</td>\n",
       "      <td>3840</td>\n",
       "      <td>2160</td>\n",
       "      <td>1</td>\n",
       "      <td>1</td>\n",
       "    </tr>\n",
       "    <tr>\n",
       "      <th>10</th>\n",
       "      <td>1263</td>\n",
       "      <td>15</td>\n",
       "      <td>16</td>\n",
       "      <td>2.5</td>\n",
       "      <td>1920</td>\n",
       "      <td>1080</td>\n",
       "      <td>1</td>\n",
       "      <td>1</td>\n",
       "    </tr>\n",
       "    <tr>\n",
       "      <th>342</th>\n",
       "      <td>182</td>\n",
       "      <td>15</td>\n",
       "      <td>8</td>\n",
       "      <td>1.90</td>\n",
       "      <td>1920</td>\n",
       "      <td>1080</td>\n",
       "      <td>1</td>\n",
       "      <td>1</td>\n",
       "    </tr>\n",
       "    <tr>\n",
       "      <th>890</th>\n",
       "      <td>321</td>\n",
       "      <td>13</td>\n",
       "      <td>16</td>\n",
       "      <td>1.29</td>\n",
       "      <td>3840</td>\n",
       "      <td>2160</td>\n",
       "      <td>1</td>\n",
       "      <td>0</td>\n",
       "    </tr>\n",
       "    <tr>\n",
       "      <th>...</th>\n",
       "      <td>...</td>\n",
       "      <td>...</td>\n",
       "      <td>...</td>\n",
       "      <td>...</td>\n",
       "      <td>...</td>\n",
       "      <td>...</td>\n",
       "      <td>...</td>\n",
       "      <td>...</td>\n",
       "    </tr>\n",
       "    <tr>\n",
       "      <th>106</th>\n",
       "      <td>394</td>\n",
       "      <td>15</td>\n",
       "      <td>8</td>\n",
       "      <td>2</td>\n",
       "      <td>1920</td>\n",
       "      <td>1080</td>\n",
       "      <td>1</td>\n",
       "      <td>0</td>\n",
       "    </tr>\n",
       "    <tr>\n",
       "      <th>270</th>\n",
       "      <td>441</td>\n",
       "      <td>15</td>\n",
       "      <td>16</td>\n",
       "      <td>2.5</td>\n",
       "      <td>1920</td>\n",
       "      <td>1080</td>\n",
       "      <td>1</td>\n",
       "      <td>0</td>\n",
       "    </tr>\n",
       "    <tr>\n",
       "      <th>860</th>\n",
       "      <td>955</td>\n",
       "      <td>17</td>\n",
       "      <td>4</td>\n",
       "      <td>2.8</td>\n",
       "      <td>1600</td>\n",
       "      <td>900</td>\n",
       "      <td>1</td>\n",
       "      <td>0</td>\n",
       "    </tr>\n",
       "    <tr>\n",
       "      <th>435</th>\n",
       "      <td>210</td>\n",
       "      <td>15</td>\n",
       "      <td>6</td>\n",
       "      <td>2.3</td>\n",
       "      <td>1366</td>\n",
       "      <td>768</td>\n",
       "      <td>1</td>\n",
       "      <td>0</td>\n",
       "    </tr>\n",
       "    <tr>\n",
       "      <th>102</th>\n",
       "      <td>673</td>\n",
       "      <td>15</td>\n",
       "      <td>4</td>\n",
       "      <td>2.1</td>\n",
       "      <td>1366</td>\n",
       "      <td>768</td>\n",
       "      <td>1</td>\n",
       "      <td>0</td>\n",
       "    </tr>\n",
       "  </tbody>\n",
       "</table>\n",
       "<p>729 rows × 8 columns</p>\n",
       "</div>"
      ],
      "text/plain": [
       "     laptop_ID  Inches  Ram_GB Weight_Kg   SRx   SRy  CPU_Brand  Memory2\n",
       "25          26      15       4       2.3  1366   768          1        0\n",
       "84         776      15      16      2.72  3840  2160          1        1\n",
       "10        1263      15      16       2.5  1920  1080          1        1\n",
       "342        182      15       8      1.90  1920  1080          1        1\n",
       "890        321      13      16      1.29  3840  2160          1        0\n",
       "..         ...     ...     ...       ...   ...   ...        ...      ...\n",
       "106        394      15       8         2  1920  1080          1        0\n",
       "270        441      15      16       2.5  1920  1080          1        0\n",
       "860        955      17       4       2.8  1600   900          1        0\n",
       "435        210      15       6       2.3  1366   768          1        0\n",
       "102        673      15       4       2.1  1366   768          1        0\n",
       "\n",
       "[729 rows x 8 columns]"
      ]
     },
     "execution_count": 20,
     "metadata": {},
     "output_type": "execute_result"
    }
   ],
   "source": [
    "X_train"
   ]
  },
  {
   "cell_type": "markdown",
   "metadata": {},
   "source": [
    "### 3. Asignar el modelo (vacío) a una variable\n"
   ]
  },
  {
   "cell_type": "code",
   "execution_count": 21,
   "metadata": {},
   "outputs": [],
   "source": [
    "from sklearn.linear_model import LinearRegression\n",
    "\n",
    "model = LinearRegression()"
   ]
  },
  {
   "cell_type": "code",
   "execution_count": 22,
   "metadata": {},
   "outputs": [
    {
     "data": {
      "text/html": [
       "<style>#sk-container-id-1 {color: black;background-color: white;}#sk-container-id-1 pre{padding: 0;}#sk-container-id-1 div.sk-toggleable {background-color: white;}#sk-container-id-1 label.sk-toggleable__label {cursor: pointer;display: block;width: 100%;margin-bottom: 0;padding: 0.3em;box-sizing: border-box;text-align: center;}#sk-container-id-1 label.sk-toggleable__label-arrow:before {content: \"▸\";float: left;margin-right: 0.25em;color: #696969;}#sk-container-id-1 label.sk-toggleable__label-arrow:hover:before {color: black;}#sk-container-id-1 div.sk-estimator:hover label.sk-toggleable__label-arrow:before {color: black;}#sk-container-id-1 div.sk-toggleable__content {max-height: 0;max-width: 0;overflow: hidden;text-align: left;background-color: #f0f8ff;}#sk-container-id-1 div.sk-toggleable__content pre {margin: 0.2em;color: black;border-radius: 0.25em;background-color: #f0f8ff;}#sk-container-id-1 input.sk-toggleable__control:checked~div.sk-toggleable__content {max-height: 200px;max-width: 100%;overflow: auto;}#sk-container-id-1 input.sk-toggleable__control:checked~label.sk-toggleable__label-arrow:before {content: \"▾\";}#sk-container-id-1 div.sk-estimator input.sk-toggleable__control:checked~label.sk-toggleable__label {background-color: #d4ebff;}#sk-container-id-1 div.sk-label input.sk-toggleable__control:checked~label.sk-toggleable__label {background-color: #d4ebff;}#sk-container-id-1 input.sk-hidden--visually {border: 0;clip: rect(1px 1px 1px 1px);clip: rect(1px, 1px, 1px, 1px);height: 1px;margin: -1px;overflow: hidden;padding: 0;position: absolute;width: 1px;}#sk-container-id-1 div.sk-estimator {font-family: monospace;background-color: #f0f8ff;border: 1px dotted black;border-radius: 0.25em;box-sizing: border-box;margin-bottom: 0.5em;}#sk-container-id-1 div.sk-estimator:hover {background-color: #d4ebff;}#sk-container-id-1 div.sk-parallel-item::after {content: \"\";width: 100%;border-bottom: 1px solid gray;flex-grow: 1;}#sk-container-id-1 div.sk-label:hover label.sk-toggleable__label {background-color: #d4ebff;}#sk-container-id-1 div.sk-serial::before {content: \"\";position: absolute;border-left: 1px solid gray;box-sizing: border-box;top: 0;bottom: 0;left: 50%;z-index: 0;}#sk-container-id-1 div.sk-serial {display: flex;flex-direction: column;align-items: center;background-color: white;padding-right: 0.2em;padding-left: 0.2em;position: relative;}#sk-container-id-1 div.sk-item {position: relative;z-index: 1;}#sk-container-id-1 div.sk-parallel {display: flex;align-items: stretch;justify-content: center;background-color: white;position: relative;}#sk-container-id-1 div.sk-item::before, #sk-container-id-1 div.sk-parallel-item::before {content: \"\";position: absolute;border-left: 1px solid gray;box-sizing: border-box;top: 0;bottom: 0;left: 50%;z-index: -1;}#sk-container-id-1 div.sk-parallel-item {display: flex;flex-direction: column;z-index: 1;position: relative;background-color: white;}#sk-container-id-1 div.sk-parallel-item:first-child::after {align-self: flex-end;width: 50%;}#sk-container-id-1 div.sk-parallel-item:last-child::after {align-self: flex-start;width: 50%;}#sk-container-id-1 div.sk-parallel-item:only-child::after {width: 0;}#sk-container-id-1 div.sk-dashed-wrapped {border: 1px dashed gray;margin: 0 0.4em 0.5em 0.4em;box-sizing: border-box;padding-bottom: 0.4em;background-color: white;}#sk-container-id-1 div.sk-label label {font-family: monospace;font-weight: bold;display: inline-block;line-height: 1.2em;}#sk-container-id-1 div.sk-label-container {text-align: center;}#sk-container-id-1 div.sk-container {/* jupyter's `normalize.less` sets `[hidden] { display: none; }` but bootstrap.min.css set `[hidden] { display: none !important; }` so we also need the `!important` here to be able to override the default hidden behavior on the sphinx rendered scikit-learn.org. See: https://github.com/scikit-learn/scikit-learn/issues/21755 */display: inline-block !important;position: relative;}#sk-container-id-1 div.sk-text-repr-fallback {display: none;}</style><div id=\"sk-container-id-1\" class=\"sk-top-container\"><div class=\"sk-text-repr-fallback\"><pre>LinearRegression()</pre><b>In a Jupyter environment, please rerun this cell to show the HTML representation or trust the notebook. <br />On GitHub, the HTML representation is unable to render, please try loading this page with nbviewer.org.</b></div><div class=\"sk-container\" hidden><div class=\"sk-item\"><div class=\"sk-estimator sk-toggleable\"><input class=\"sk-toggleable__control sk-hidden--visually\" id=\"sk-estimator-id-1\" type=\"checkbox\" checked><label for=\"sk-estimator-id-1\" class=\"sk-toggleable__label sk-toggleable__label-arrow\">LinearRegression</label><div class=\"sk-toggleable__content\"><pre>LinearRegression()</pre></div></div></div></div></div>"
      ],
      "text/plain": [
       "LinearRegression()"
      ]
     },
     "execution_count": 22,
     "metadata": {},
     "output_type": "execute_result"
    }
   ],
   "source": [
    "model.fit(X_train, y_train)"
   ]
  },
  {
   "cell_type": "code",
   "execution_count": 23,
   "metadata": {},
   "outputs": [
    {
     "data": {
      "text/plain": [
       "array([1087.37255269,  152.41697359,  973.97048142, 1144.77907883,\n",
       "       1919.81779853,  571.37156222,  829.74756468, 1547.69138658,\n",
       "        981.59506259, 1160.83356565, 1237.30721184,  522.56571418,\n",
       "        611.82934261, 1130.70689924, 1453.99597049, 1759.32829396,\n",
       "       1823.23710048, 1496.68733536,  997.44206238,  603.3620068 ,\n",
       "        664.36101434,  521.95687565,  810.58705112, 1146.59869153,\n",
       "       1072.64530416,  691.9013134 ,  861.29120617, 1653.89480506,\n",
       "        977.94852377,  796.73942308, 1108.61479375, 1064.92291554,\n",
       "        978.28604018, 1288.22254661, 1173.89558583,  461.92254785,\n",
       "        969.01787356, 1336.20500934, 1174.53687519, 1173.25368438,\n",
       "       1173.937979  , 1017.72976665, 1136.58996789, 1908.579441  ,\n",
       "       1156.73894886,  530.08893169, 1785.52137026,  571.15296062,\n",
       "        997.9626907 ,  838.56037608, 1911.52213966, 1091.23811078,\n",
       "        202.56538511, 1621.80671266,  880.4542845 , 1152.36178864,\n",
       "       1906.88355152, 1036.41546123, 2016.30776937, 1874.33133471,\n",
       "        517.81078695, 1033.49318981,  530.9072334 , 1166.88893448,\n",
       "        473.69092312,  809.22875868,  472.06126986, 1087.52437227,\n",
       "       1025.71289631,  489.89279947, 1564.31405526, 1152.2347601 ,\n",
       "       1109.97400941, 1128.43452512, 1194.502759  , 3770.65834504,\n",
       "       1723.90201406,  649.2160288 ,  718.14089843,  622.90684645,\n",
       "        813.21121497,  866.6938147 , 1742.57814573,  883.36600791,\n",
       "       1088.74105025, 1158.47063229, 1094.60990157,  597.09854119,\n",
       "       1825.28827619,  818.35023557, 1068.68972413, 1068.46660478,\n",
       "       1437.28754176,  782.06186276, 1001.73154589,  984.83142725,\n",
       "       2227.10505073,  585.10847806,  826.26228626,  698.58219023,\n",
       "       1160.01116084, 1206.68718289, 1219.23849513,  787.9269966 ,\n",
       "       1089.59889763,  358.94367211, 1107.38671962, 1117.51150944,\n",
       "        628.84850685,  616.00693744, 1128.31323851, 1644.10800833,\n",
       "       1110.15990193, 2457.06380361, 1112.03206654, 1806.57799103,\n",
       "        567.22818578,  734.88182664,  865.92027607, 1092.66575031,\n",
       "        538.32017907,  392.17053181, 1193.53235257,  917.48192583,\n",
       "       1130.90366352,  939.17169711, 1196.07504468, 1643.13170439,\n",
       "       1641.74618947,  981.34824257,  457.97669457,  584.83291062,\n",
       "        794.73665064, 1038.46574274, 3124.79248312, 1034.14266943,\n",
       "       1851.29183945, 1453.04712907, 1811.2193803 , 1169.25514851,\n",
       "        911.37000883, 1035.64468208,  539.45175763, 1049.71903778,\n",
       "       1271.28454917,  183.22651558, 1156.932565  , 1067.49627315,\n",
       "       1028.00227597,  624.79281072,  654.50226032, 1651.03290279,\n",
       "       1125.18935811, 1757.65738142, 1079.41708008, 1648.00163813,\n",
       "        755.30227498, 1083.36664596, 3789.62534596, 1841.56759899,\n",
       "       1766.19173513, 1243.74189189, 2387.32678443, 1186.98608246,\n",
       "       1856.31943427,  590.28857933,  828.29462554,  967.1439409 ,\n",
       "        467.7238596 ,  846.64092455, 1820.0749115 , 1222.90913811,\n",
       "        638.26849304, 1158.35814803, 1021.11364348,  968.2562508 ,\n",
       "       1033.34444357,  583.5068965 , 1097.45287736, 1016.07142959,\n",
       "        771.87745142,  775.50494113, 1038.46635482])"
      ]
     },
     "execution_count": 23,
     "metadata": {},
     "output_type": "execute_result"
    }
   ],
   "source": [
    "predictions = model.predict(X_test)\n",
    "predictions"
   ]
  },
  {
   "cell_type": "markdown",
   "metadata": {},
   "source": [
    "### 4. Sacar métricas, valorar el modelo \n",
    "\n",
    "Recuerda que en la competición se va a evaluar con la métrica de MAE."
   ]
  },
  {
   "cell_type": "code",
   "execution_count": 24,
   "metadata": {},
   "outputs": [],
   "source": [
    "from sklearn.metrics import mean_squared_error"
   ]
  },
  {
   "cell_type": "code",
   "execution_count": 25,
   "metadata": {},
   "outputs": [
    {
     "name": "stdout",
     "output_type": "stream",
     "text": [
      "RMSE:  465.98382870905084\n"
     ]
    }
   ],
   "source": [
    "print('RMSE: ', np.sqrt(mean_squared_error(y_test, predictions)))"
   ]
  },
  {
   "cell_type": "markdown",
   "metadata": {},
   "source": [
    "-----------------------------------------------------------------"
   ]
  },
  {
   "cell_type": "markdown",
   "metadata": {},
   "source": [
    "## Una vez listo el modelo, toca predecir con el dataset de predicción "
   ]
  },
  {
   "cell_type": "markdown",
   "metadata": {},
   "source": [
    "Definición de **modelo que está listo**. \n",
    "\n",
    "Tras hacer suficientes pruebas, analizar los datos, hacer feature engineering, probar diferentes modelos con diferentes parámetros, es con este con el que observo mejores métricas y menos overfitting. ¡Cuidado con el overfitting aquí! Si vuestro modelo aprende muy bien de estos datos pero hay overfitting cuando le pasemos los datos desconocidos de `test.csv` nos arriesgamos a que digamos, no salga lo esperado."
   ]
  },
  {
   "cell_type": "markdown",
   "metadata": {},
   "source": [
    "### 1. Entrena dicho modelo con TODOS tus datos de train, esto es con `train.csv` al completo.\n",
    "\n",
    "\n",
    "**CON LAS TRANSFORMACIONES QUE LE HAYAS REALIZADO A `X` INCLUÍDAS.**\n",
    "\n",
    "\n",
    "Véase:\n",
    "- Estandarización/Normalización\n",
    "- Eliminación de Outliers\n",
    "- Eliminación de columnas\n",
    "- Creación de columnas nuevas\n",
    "- Gestión de valores nulos\n",
    "- Y un largo etcétera de técnicas que como Data Scientist hayas considerado las mejores para tu dataset."
   ]
  },
  {
   "cell_type": "markdown",
   "metadata": {},
   "source": [
    "### 2. Carga los datos de `test.csv` para predecir."
   ]
  },
  {
   "cell_type": "code",
   "execution_count": 26,
   "metadata": {},
   "outputs": [
    {
     "data": {
      "text/html": [
       "<div>\n",
       "<style scoped>\n",
       "    .dataframe tbody tr th:only-of-type {\n",
       "        vertical-align: middle;\n",
       "    }\n",
       "\n",
       "    .dataframe tbody tr th {\n",
       "        vertical-align: top;\n",
       "    }\n",
       "\n",
       "    .dataframe thead th {\n",
       "        text-align: right;\n",
       "    }\n",
       "</style>\n",
       "<table border=\"1\" class=\"dataframe\">\n",
       "  <thead>\n",
       "    <tr style=\"text-align: right;\">\n",
       "      <th></th>\n",
       "      <th>laptop_ID</th>\n",
       "      <th>Company</th>\n",
       "      <th>Product</th>\n",
       "      <th>TypeName</th>\n",
       "      <th>Inches</th>\n",
       "      <th>ScreenResolution</th>\n",
       "      <th>Cpu</th>\n",
       "      <th>Ram</th>\n",
       "      <th>Memory</th>\n",
       "      <th>Gpu</th>\n",
       "      <th>OpSys</th>\n",
       "      <th>Weight</th>\n",
       "    </tr>\n",
       "  </thead>\n",
       "  <tbody>\n",
       "    <tr>\n",
       "      <th>0</th>\n",
       "      <td>750</td>\n",
       "      <td>Toshiba</td>\n",
       "      <td>Tecra X40-D-10G</td>\n",
       "      <td>Notebook</td>\n",
       "      <td>14.0</td>\n",
       "      <td>IPS Panel Full HD / Touchscreen 1920x1080</td>\n",
       "      <td>Intel Core i5 7200U 2.5GHz</td>\n",
       "      <td>8GB</td>\n",
       "      <td>256GB SSD</td>\n",
       "      <td>Intel HD Graphics 620</td>\n",
       "      <td>Windows 10</td>\n",
       "      <td>1.25kg</td>\n",
       "    </tr>\n",
       "    <tr>\n",
       "      <th>1</th>\n",
       "      <td>726</td>\n",
       "      <td>Mediacom</td>\n",
       "      <td>Smartbook 142</td>\n",
       "      <td>Notebook</td>\n",
       "      <td>14.0</td>\n",
       "      <td>IPS Panel Full HD 1920x1200</td>\n",
       "      <td>Intel Atom Z8350 1.92GHz</td>\n",
       "      <td>4GB</td>\n",
       "      <td>32GB HDD</td>\n",
       "      <td>Intel HD Graphics 400</td>\n",
       "      <td>Windows 10</td>\n",
       "      <td>1.4kg</td>\n",
       "    </tr>\n",
       "    <tr>\n",
       "      <th>2</th>\n",
       "      <td>633</td>\n",
       "      <td>Mediacom</td>\n",
       "      <td>SmartBook 140</td>\n",
       "      <td>Notebook</td>\n",
       "      <td>14.0</td>\n",
       "      <td>Full HD 1920x1080</td>\n",
       "      <td>Intel Atom x5-Z8350 1.44GHz</td>\n",
       "      <td>2GB</td>\n",
       "      <td>32GB Flash Storage</td>\n",
       "      <td>Intel HD Graphics</td>\n",
       "      <td>Windows 10</td>\n",
       "      <td>1.4kg</td>\n",
       "    </tr>\n",
       "    <tr>\n",
       "      <th>3</th>\n",
       "      <td>363</td>\n",
       "      <td>Dell</td>\n",
       "      <td>Inspiron 7577</td>\n",
       "      <td>Gaming</td>\n",
       "      <td>15.6</td>\n",
       "      <td>Full HD 1920x1080</td>\n",
       "      <td>Intel Core i5 7300HQ 2.5GHz</td>\n",
       "      <td>8GB</td>\n",
       "      <td>1TB HDD</td>\n",
       "      <td>Nvidia GeForce GTX 1050</td>\n",
       "      <td>Windows 10</td>\n",
       "      <td>2.65kg</td>\n",
       "    </tr>\n",
       "    <tr>\n",
       "      <th>4</th>\n",
       "      <td>319</td>\n",
       "      <td>Asus</td>\n",
       "      <td>VivoBook Flip</td>\n",
       "      <td>2 in 1 Convertible</td>\n",
       "      <td>11.6</td>\n",
       "      <td>Touchscreen 1366x768</td>\n",
       "      <td>Intel Celeron Dual Core N3350 1.1GHz</td>\n",
       "      <td>2GB</td>\n",
       "      <td>32GB Flash Storage</td>\n",
       "      <td>Intel HD Graphics 500</td>\n",
       "      <td>Windows 10</td>\n",
       "      <td>1.1kg</td>\n",
       "    </tr>\n",
       "  </tbody>\n",
       "</table>\n",
       "</div>"
      ],
      "text/plain": [
       "   laptop_ID   Company          Product            TypeName  Inches   \n",
       "0        750   Toshiba  Tecra X40-D-10G            Notebook    14.0  \\\n",
       "1        726  Mediacom    Smartbook 142            Notebook    14.0   \n",
       "2        633  Mediacom    SmartBook 140            Notebook    14.0   \n",
       "3        363      Dell    Inspiron 7577              Gaming    15.6   \n",
       "4        319      Asus    VivoBook Flip  2 in 1 Convertible    11.6   \n",
       "\n",
       "                            ScreenResolution   \n",
       "0  IPS Panel Full HD / Touchscreen 1920x1080  \\\n",
       "1                IPS Panel Full HD 1920x1200   \n",
       "2                          Full HD 1920x1080   \n",
       "3                          Full HD 1920x1080   \n",
       "4                       Touchscreen 1366x768   \n",
       "\n",
       "                                    Cpu  Ram              Memory   \n",
       "0            Intel Core i5 7200U 2.5GHz  8GB           256GB SSD  \\\n",
       "1              Intel Atom Z8350 1.92GHz  4GB            32GB HDD   \n",
       "2           Intel Atom x5-Z8350 1.44GHz  2GB  32GB Flash Storage   \n",
       "3           Intel Core i5 7300HQ 2.5GHz  8GB             1TB HDD   \n",
       "4  Intel Celeron Dual Core N3350 1.1GHz  2GB  32GB Flash Storage   \n",
       "\n",
       "                       Gpu       OpSys  Weight  \n",
       "0    Intel HD Graphics 620  Windows 10  1.25kg  \n",
       "1    Intel HD Graphics 400  Windows 10   1.4kg  \n",
       "2        Intel HD Graphics  Windows 10   1.4kg  \n",
       "3  Nvidia GeForce GTX 1050  Windows 10  2.65kg  \n",
       "4    Intel HD Graphics 500  Windows 10   1.1kg  "
      ]
     },
     "execution_count": 26,
     "metadata": {},
     "output_type": "execute_result"
    }
   ],
   "source": [
    "pred = pd.read_csv(\"data/test.csv\")\n",
    "pred.head()"
   ]
  },
  {
   "attachments": {},
   "cell_type": "markdown",
   "metadata": {},
   "source": [
    "### Transformaciones X_pred"
   ]
  },
  {
   "cell_type": "code",
   "execution_count": 27,
   "metadata": {},
   "outputs": [],
   "source": [
    "train = pred.rename(columns={'Weight': 'Weight_Kg'})\n",
    "pred['Weight_Kg'] = train['Weight_Kg'].str[:-2]"
   ]
  },
  {
   "cell_type": "code",
   "execution_count": 28,
   "metadata": {},
   "outputs": [],
   "source": [
    "# Extraer los últimos 9 digitos de la columna ScreenResolution y sobrescribir la columna original\n",
    "pred['ScreenResolution'] = pred['ScreenResolution'].str[-9:]\n",
    "\n",
    "# Creo las dos nuevas columnas \n",
    "pred['SRx'] = 0\n",
    "pred['SRy'] = 0\n",
    "\n",
    "# Creo dos nuevas columas y separo la columna original donde aparece x\n",
    "pred[['SRx', 'SRy']] = pred['ScreenResolution'].str.split('x', expand=True)\n",
    "\n",
    "# Convierto las dos nuevas columnas a tipo numérico\n",
    "pred['SRx'] = pd.to_numeric(pred['SRx'])\n",
    "pred['SRy'] = pd.to_numeric(pred['SRy'])\n",
    "\n",
    "# Elimino la original \n",
    "del(pred['ScreenResolution'])"
   ]
  },
  {
   "cell_type": "code",
   "execution_count": 29,
   "metadata": {},
   "outputs": [],
   "source": [
    "pred['Inches'] = pred['Inches'].apply(redondeo)"
   ]
  },
  {
   "cell_type": "code",
   "execution_count": 30,
   "metadata": {},
   "outputs": [],
   "source": [
    "# Renombrar la columna Ram\n",
    "pred = pred.rename(columns={'Ram': 'Ram_GB'})\n",
    "\n",
    "# Quitar dos ultimos caracteres\n",
    "pred['Ram_GB'] = pred['Ram_GB'].str[:-2]\n",
    "\n",
    "# Convertir a tipo numerico\n",
    "pred['Ram_GB'] = pred['Ram_GB'].astype(int)\n",
    "\n"
   ]
  },
  {
   "cell_type": "code",
   "execution_count": 31,
   "metadata": {},
   "outputs": [],
   "source": [
    "pred['OpSys'].replace({'macOS': 'Mac OS', 'Mac OS X': 'Mac OS'}, inplace=True)"
   ]
  },
  {
   "cell_type": "code",
   "execution_count": 32,
   "metadata": {},
   "outputs": [],
   "source": [
    "# Renombrar la columna Cpu\n",
    "pred = pred.rename(columns={'Cpu': 'CPU'})\n",
    "\n",
    "pred['CPU_Brand'] = np.where(pred['CPU'].str.contains('Intel', regex=True), 'Intel',\n",
    "                          np.where(pred['CPU'].str.contains('Mac', regex=True), 'Mac', 'AMD'))\n",
    "\n",
    "\n",
    "# Nuevos valores, 1 para intel. 0 = AMD\n",
    "\n",
    "pred['CPU_Brand'] = pred['CPU_Brand'].replace('AMD', 0)\n",
    "pred['CPU_Brand'] = pred['CPU_Brand'].replace('Intel', 1)"
   ]
  },
  {
   "cell_type": "code",
   "execution_count": 33,
   "metadata": {},
   "outputs": [],
   "source": [
    "# Creo feature 'Memory2' y asigno valores 0 = solo tiene una memoria. 1 tiene 2 memorias\n",
    "\n",
    "pred['Memory2'] = 0\n",
    "pred.loc[pred['Memory'].str.contains('\\+'), 'Memory2'] = 1"
   ]
  },
  {
   "cell_type": "code",
   "execution_count": 34,
   "metadata": {},
   "outputs": [
    {
     "data": {
      "text/html": [
       "<div>\n",
       "<style scoped>\n",
       "    .dataframe tbody tr th:only-of-type {\n",
       "        vertical-align: middle;\n",
       "    }\n",
       "\n",
       "    .dataframe tbody tr th {\n",
       "        vertical-align: top;\n",
       "    }\n",
       "\n",
       "    .dataframe thead th {\n",
       "        text-align: right;\n",
       "    }\n",
       "</style>\n",
       "<table border=\"1\" class=\"dataframe\">\n",
       "  <thead>\n",
       "    <tr style=\"text-align: right;\">\n",
       "      <th></th>\n",
       "      <th>laptop_ID</th>\n",
       "      <th>Company</th>\n",
       "      <th>Product</th>\n",
       "      <th>TypeName</th>\n",
       "      <th>Inches</th>\n",
       "      <th>CPU</th>\n",
       "      <th>Ram_GB</th>\n",
       "      <th>Memory</th>\n",
       "      <th>Gpu</th>\n",
       "      <th>OpSys</th>\n",
       "      <th>Weight</th>\n",
       "      <th>Weight_Kg</th>\n",
       "      <th>SRx</th>\n",
       "      <th>SRy</th>\n",
       "      <th>CPU_Brand</th>\n",
       "      <th>Memory2</th>\n",
       "    </tr>\n",
       "  </thead>\n",
       "  <tbody>\n",
       "    <tr>\n",
       "      <th>0</th>\n",
       "      <td>750</td>\n",
       "      <td>Toshiba</td>\n",
       "      <td>Tecra X40-D-10G</td>\n",
       "      <td>Notebook</td>\n",
       "      <td>14</td>\n",
       "      <td>Intel Core i5 7200U 2.5GHz</td>\n",
       "      <td>8</td>\n",
       "      <td>256GB SSD</td>\n",
       "      <td>Intel HD Graphics 620</td>\n",
       "      <td>Windows 10</td>\n",
       "      <td>1.25kg</td>\n",
       "      <td>1.25</td>\n",
       "      <td>1920</td>\n",
       "      <td>1080</td>\n",
       "      <td>1</td>\n",
       "      <td>0</td>\n",
       "    </tr>\n",
       "    <tr>\n",
       "      <th>1</th>\n",
       "      <td>726</td>\n",
       "      <td>Mediacom</td>\n",
       "      <td>Smartbook 142</td>\n",
       "      <td>Notebook</td>\n",
       "      <td>14</td>\n",
       "      <td>Intel Atom Z8350 1.92GHz</td>\n",
       "      <td>4</td>\n",
       "      <td>32GB HDD</td>\n",
       "      <td>Intel HD Graphics 400</td>\n",
       "      <td>Windows 10</td>\n",
       "      <td>1.4kg</td>\n",
       "      <td>1.4</td>\n",
       "      <td>1920</td>\n",
       "      <td>1200</td>\n",
       "      <td>1</td>\n",
       "      <td>0</td>\n",
       "    </tr>\n",
       "    <tr>\n",
       "      <th>2</th>\n",
       "      <td>633</td>\n",
       "      <td>Mediacom</td>\n",
       "      <td>SmartBook 140</td>\n",
       "      <td>Notebook</td>\n",
       "      <td>14</td>\n",
       "      <td>Intel Atom x5-Z8350 1.44GHz</td>\n",
       "      <td>2</td>\n",
       "      <td>32GB Flash Storage</td>\n",
       "      <td>Intel HD Graphics</td>\n",
       "      <td>Windows 10</td>\n",
       "      <td>1.4kg</td>\n",
       "      <td>1.4</td>\n",
       "      <td>1920</td>\n",
       "      <td>1080</td>\n",
       "      <td>1</td>\n",
       "      <td>0</td>\n",
       "    </tr>\n",
       "    <tr>\n",
       "      <th>3</th>\n",
       "      <td>363</td>\n",
       "      <td>Dell</td>\n",
       "      <td>Inspiron 7577</td>\n",
       "      <td>Gaming</td>\n",
       "      <td>15</td>\n",
       "      <td>Intel Core i5 7300HQ 2.5GHz</td>\n",
       "      <td>8</td>\n",
       "      <td>1TB HDD</td>\n",
       "      <td>Nvidia GeForce GTX 1050</td>\n",
       "      <td>Windows 10</td>\n",
       "      <td>2.65kg</td>\n",
       "      <td>2.65</td>\n",
       "      <td>1920</td>\n",
       "      <td>1080</td>\n",
       "      <td>1</td>\n",
       "      <td>0</td>\n",
       "    </tr>\n",
       "    <tr>\n",
       "      <th>4</th>\n",
       "      <td>319</td>\n",
       "      <td>Asus</td>\n",
       "      <td>VivoBook Flip</td>\n",
       "      <td>2 in 1 Convertible</td>\n",
       "      <td>11</td>\n",
       "      <td>Intel Celeron Dual Core N3350 1.1GHz</td>\n",
       "      <td>2</td>\n",
       "      <td>32GB Flash Storage</td>\n",
       "      <td>Intel HD Graphics 500</td>\n",
       "      <td>Windows 10</td>\n",
       "      <td>1.1kg</td>\n",
       "      <td>1.1</td>\n",
       "      <td>1366</td>\n",
       "      <td>768</td>\n",
       "      <td>1</td>\n",
       "      <td>0</td>\n",
       "    </tr>\n",
       "  </tbody>\n",
       "</table>\n",
       "</div>"
      ],
      "text/plain": [
       "   laptop_ID   Company          Product            TypeName  Inches   \n",
       "0        750   Toshiba  Tecra X40-D-10G            Notebook      14  \\\n",
       "1        726  Mediacom    Smartbook 142            Notebook      14   \n",
       "2        633  Mediacom    SmartBook 140            Notebook      14   \n",
       "3        363      Dell    Inspiron 7577              Gaming      15   \n",
       "4        319      Asus    VivoBook Flip  2 in 1 Convertible      11   \n",
       "\n",
       "                                    CPU  Ram_GB              Memory   \n",
       "0            Intel Core i5 7200U 2.5GHz       8           256GB SSD  \\\n",
       "1              Intel Atom Z8350 1.92GHz       4            32GB HDD   \n",
       "2           Intel Atom x5-Z8350 1.44GHz       2  32GB Flash Storage   \n",
       "3           Intel Core i5 7300HQ 2.5GHz       8             1TB HDD   \n",
       "4  Intel Celeron Dual Core N3350 1.1GHz       2  32GB Flash Storage   \n",
       "\n",
       "                       Gpu       OpSys  Weight Weight_Kg   SRx   SRy   \n",
       "0    Intel HD Graphics 620  Windows 10  1.25kg      1.25  1920  1080  \\\n",
       "1    Intel HD Graphics 400  Windows 10   1.4kg       1.4  1920  1200   \n",
       "2        Intel HD Graphics  Windows 10   1.4kg       1.4  1920  1080   \n",
       "3  Nvidia GeForce GTX 1050  Windows 10  2.65kg      2.65  1920  1080   \n",
       "4    Intel HD Graphics 500  Windows 10   1.1kg       1.1  1366   768   \n",
       "\n",
       "   CPU_Brand  Memory2  \n",
       "0          1        0  \n",
       "1          1        0  \n",
       "2          1        0  \n",
       "3          1        0  \n",
       "4          1        0  "
      ]
     },
     "execution_count": 34,
     "metadata": {},
     "output_type": "execute_result"
    }
   ],
   "source": [
    "pred.head()"
   ]
  },
  {
   "cell_type": "code",
   "execution_count": 35,
   "metadata": {},
   "outputs": [],
   "source": [
    "X2 = pred.drop(['Company','Product','Weight','TypeName','CPU','Memory','OpSys','Gpu','CPU' ], axis=1)"
   ]
  },
  {
   "cell_type": "code",
   "execution_count": 36,
   "metadata": {},
   "outputs": [
    {
     "data": {
      "text/plain": [
       "(391, 8)"
      ]
     },
     "execution_count": 36,
     "metadata": {},
     "output_type": "execute_result"
    }
   ],
   "source": [
    "X2.shape"
   ]
  },
  {
   "cell_type": "markdown",
   "metadata": {},
   "source": [
    "**¿Por qué da error?** "
   ]
  },
  {
   "cell_type": "code",
   "execution_count": 37,
   "metadata": {},
   "outputs": [
    {
     "data": {
      "text/plain": [
       "array([ 1.15342985e+03,  9.45493701e+02,  6.15266812e+02,  1.00109108e+03,\n",
       "        3.79248860e+02,  6.32115733e+02,  6.62840460e+02,  1.79427302e+03,\n",
       "        1.69544352e+03,  1.21157212e+03,  9.91289185e+02,  1.04192542e+03,\n",
       "        1.14795130e+03,  8.02271599e+02,  6.57549306e+02,  1.11802577e+03,\n",
       "        1.05085184e+03,  1.77256439e+03,  7.14991615e+02,  1.12861688e+03,\n",
       "        1.18336823e+03,  1.07496583e+03,  6.33084499e+02,  9.88152880e+02,\n",
       "        5.91441263e+02,  1.38808639e+03,  8.16457188e+02,  9.78892228e+02,\n",
       "        4.64879739e+02,  1.17311771e+03,  1.08904899e+03,  1.16224775e+03,\n",
       "        9.49871306e+02,  1.23595156e+03,  1.14173913e+03,  1.12211424e+03,\n",
       "        1.20119942e+03,  1.15351406e+03,  8.79001345e+02,  1.81807933e+03,\n",
       "        1.74240625e+03,  1.04930114e+03,  5.27783771e+02,  1.44883387e+03,\n",
       "        9.82272002e+02,  1.80054291e+03,  6.68507283e+02,  1.78071027e+03,\n",
       "        1.11542907e+03,  1.82179390e+03,  8.04183889e+02,  6.74043963e+02,\n",
       "        1.01139166e+03,  1.18279599e+03,  4.35222582e+02,  7.87414277e+02,\n",
       "        1.11379251e+03,  6.47948877e+02,  1.19149068e+03,  1.12951037e+03,\n",
       "        6.37088286e+02,  1.00358432e+03,  1.10357443e+03,  5.22877401e+02,\n",
       "        1.01903017e+03,  7.09497419e+02,  1.68037404e+03,  1.70491295e+03,\n",
       "        1.05661710e+03,  8.02497688e+02,  6.13116021e+02,  1.45562969e+03,\n",
       "        3.09280239e+03,  1.70843300e+03,  9.67843679e+02,  1.13869707e+03,\n",
       "        6.73885177e+02,  2.24218457e+03,  6.12029848e+02,  1.26363210e+03,\n",
       "        6.32925713e+02,  1.06608946e+03,  1.07111863e+03,  1.74987901e+03,\n",
       "        1.13028819e+03,  1.03633576e+03,  1.24640717e+03,  1.12518690e+03,\n",
       "        4.57944505e+02,  1.07100561e+03,  1.58075651e+03,  8.62107985e+02,\n",
       "        5.33209739e+02,  2.33950197e+03,  1.17075962e+03,  1.18434881e+03,\n",
       "        1.13291556e+03,  5.09559892e+02,  6.47592388e+02,  1.47709337e+02,\n",
       "        1.16055848e+03,  1.04710881e+03,  1.02835796e+03,  6.60335329e+02,\n",
       "        1.44010770e+03,  5.09581610e+02,  2.41477539e+03,  1.13926679e+03,\n",
       "        2.45933475e+03,  1.18097272e+03,  1.18212273e+03,  1.05107777e+03,\n",
       "        1.09623053e+03,  1.73563972e+03,  1.19412181e+03,  1.49358685e+03,\n",
       "        1.06430499e+03,  2.37167869e+03,  7.42105036e+02,  1.12130720e+03,\n",
       "        1.00005844e+03,  1.16115749e+03,  1.79610982e+03,  1.17680536e+03,\n",
       "        8.73673693e+02,  1.15744683e+03,  6.67282971e+02,  1.07275044e+03,\n",
       "        6.58439389e+02,  1.04419247e+03,  6.35298893e+02,  1.01806045e+03,\n",
       "        1.02051886e+03,  3.03145497e+02,  1.05638183e+03,  1.77961406e+03,\n",
       "        1.70651999e+03,  1.93338076e+03,  1.80861550e+03,  1.07910340e+03,\n",
       "        1.04398493e+03,  1.26646382e+03,  7.33410959e+02,  1.81979879e+03,\n",
       "        1.73200725e+03,  6.46224578e+02,  1.64184451e+03,  9.92341063e+02,\n",
       "        1.03429019e+03,  1.09548353e+03,  1.67807830e+03,  1.23930960e+03,\n",
       "        1.82602812e+03, -2.78426936e+00,  1.73476766e+03,  1.00546332e+03,\n",
       "        1.06218197e+03,  7.49108614e+02,  1.19682853e+03,  1.36008792e+03,\n",
       "        3.65837741e+03,  1.16607678e+03,  9.22949742e+02,  6.35055695e+02,\n",
       "        1.11593451e+03,  3.13232569e+03,  1.09061444e+03,  9.88363021e+02,\n",
       "        7.83016620e+02,  1.02040884e+03,  5.64385003e+02,  8.03049120e+02,\n",
       "        8.88708905e+02,  7.75042516e+02,  1.71484617e+03,  4.69395309e+02,\n",
       "        1.04582528e+03,  1.65321482e+03,  1.12335031e+03,  5.73864805e+02,\n",
       "        8.17200116e+02,  1.77328832e+03,  1.12992896e+03,  1.07938860e+03,\n",
       "        1.10450420e+03,  1.04539556e+03,  8.57478916e+02,  2.50812819e+02,\n",
       "        5.29567287e+02,  1.09184785e+03,  1.05608727e+03,  8.04317884e+02,\n",
       "        8.71215414e+02,  6.27063961e+02,  1.11835809e+03,  1.90705491e+03,\n",
       "        1.45065714e+03,  7.36042089e+02,  9.96006456e+02,  2.41179525e+03,\n",
       "        5.98079521e+02,  1.04890728e+03,  1.04654229e+03,  2.44882689e+03,\n",
       "        9.55728778e+02,  1.04645481e+03,  1.52406025e+03,  1.06086046e+03,\n",
       "        1.04786790e+03,  3.63802607e+02,  1.02923056e+03,  5.42629725e+02,\n",
       "        1.07112888e+03,  1.16127673e+03,  1.17415402e+03,  1.95943100e+02,\n",
       "        1.19183373e+03,  1.21688110e+03,  6.52365312e+02,  9.87710872e+02,\n",
       "        4.61591044e+02,  7.11116944e+02,  4.79694847e+02,  2.46423600e+03,\n",
       "        6.22589211e+02,  1.80544901e+03,  1.20609916e+03,  1.76323517e+03,\n",
       "        1.04786134e+03,  1.19034435e+03,  6.96310869e+02,  5.79528854e+02,\n",
       "        1.76273062e+03,  1.27049633e+03,  1.08877294e+03,  7.38593104e+02,\n",
       "        1.16416131e+03,  9.85573105e+02,  7.27602681e+02,  7.34321057e+02,\n",
       "        1.19596536e+03,  5.65418431e+02,  1.42982871e+03,  1.20677024e+03,\n",
       "        1.18625389e+03,  5.34085618e+02,  1.56233686e+03,  2.12726618e+03,\n",
       "        1.17903389e+03,  1.18943364e+03,  1.17263565e+03,  2.57010985e+03,\n",
       "        1.04260318e+03,  9.91779474e+02,  6.24845868e+02,  1.14531601e+03,\n",
       "        1.22158312e+03,  1.20364321e+03,  9.06439916e+02,  1.19636475e+03,\n",
       "        7.01086084e+02,  1.98057280e+03,  8.24076967e+02,  1.86324003e+03,\n",
       "        4.94893217e+02,  6.42279517e+02,  5.63926471e+02,  6.31776310e+02,\n",
       "        1.03839649e+03,  9.84744346e+02,  1.13821655e+03,  9.52882702e+02,\n",
       "        1.72572101e+02,  5.86546976e+02,  1.74009965e+03,  1.77640250e+03,\n",
       "        1.85874760e+03,  7.15654622e+02,  8.43794668e+02,  1.81783723e+03,\n",
       "        1.16793303e+03,  1.68759202e+03,  5.81523803e+03,  8.34171739e+02,\n",
       "        1.23862059e+03,  5.58622414e+02,  1.00727183e+03,  1.08908649e+03,\n",
       "        3.24544490e+02,  1.44027176e+03,  1.75904760e+03,  1.47425216e+03,\n",
       "        1.15905947e+03,  1.00662358e+03,  6.75479181e+02,  1.07296875e+03,\n",
       "        5.18120975e+02,  1.05907148e+03,  2.35468762e+03,  7.87478403e+02,\n",
       "        2.31096406e+02,  1.72970192e+02,  5.37788093e+02,  1.20657662e+03,\n",
       "        1.09813617e+03,  1.84424400e+03,  1.82286687e+03,  5.21374492e+02,\n",
       "        5.86593529e+02,  3.16130861e+03,  1.18092968e+03,  6.08806476e+02,\n",
       "        1.68475325e+03,  1.86139319e+03,  1.55327505e+03,  1.14148630e+03,\n",
       "        1.66515507e+03,  1.87102094e+03,  2.38964731e+03,  1.04474648e+03,\n",
       "        4.13630374e+02,  6.80363428e+02,  1.72786332e+03,  8.89368460e+02,\n",
       "        1.07621064e+03,  8.47845286e+02,  1.15319055e+03,  4.50718015e+02,\n",
       "        1.90534678e+03,  1.04688733e+03,  1.61891814e+03,  6.11023777e+02,\n",
       "        1.77999010e+03,  1.06593485e+03,  5.16165171e+02,  5.68832436e+02,\n",
       "        1.78511440e+03,  1.01917113e+03,  1.00867980e+03,  6.19936635e+02,\n",
       "        1.05364729e+03,  1.14772511e+03,  4.74799948e+02,  1.00674753e+03,\n",
       "        8.05369645e+02,  9.86733367e+02,  7.30582320e+02,  9.06299306e+02,\n",
       "        9.99231337e+02,  1.18402202e+03,  1.05915296e+03,  1.97046223e+03,\n",
       "        5.51261929e+02,  1.07508684e+03,  1.76205899e+03,  1.10687451e+03,\n",
       "        5.96661519e+02,  2.98462693e+03,  9.83236614e+02,  1.20512300e+03,\n",
       "        1.22499036e+03,  8.22081187e+02,  9.56669603e+02,  1.76746406e+03,\n",
       "        1.15524308e+03,  3.53055828e+02,  5.77374081e+02,  6.16110412e+02,\n",
       "        1.45453892e+03,  6.11228252e+02,  6.35683247e+02,  4.39877563e+02,\n",
       "        1.99888936e+03,  9.66852242e+02,  6.24676848e+02,  1.10981706e+03,\n",
       "        1.15310388e+03,  6.74635329e+02,  1.07710988e+03,  1.17683404e+03,\n",
       "        9.30277844e+02,  1.07645588e+03,  5.77120219e+02,  8.27811302e+02,\n",
       "        1.13714848e+03,  2.41600224e+03,  1.77709528e+03,  1.91614197e+03,\n",
       "        6.31604545e+02,  6.05055445e+02,  1.89176560e+03])"
      ]
     },
     "execution_count": 37,
     "metadata": {},
     "output_type": "execute_result"
    }
   ],
   "source": [
    "predictions_submit = model.predict(X2)\n",
    "predictions_submit"
   ]
  },
  {
   "cell_type": "markdown",
   "metadata": {},
   "source": [
    "IMPORTANTE: APLICAR LO MISMO A ESTOS DATOS QUE HAYÁIS APLICADO A LOS DATOS DE ENTRENAMIENTO\n",
    "\n",
    "- SI EL ARRAY CON EL QUE HICISTEIS `.fit()` ERA DE 4 COLUMNAS, PARA `.predict()` DEBEN SER LAS MISMAS\n",
    "- SI AL ARRAY CON EL QUE HICISTEIS `.fit()` LO NORMALIZASTEIS, PARA `.predict()` DEBÉIS NORMALIZARLO\n",
    "- TODO IGUAL SALVO BORRAR FILAS, EL NÚMERO DE ROWS SE DEBE MANTENER EN ESTE SET, PUES LA PREDICCIÓN DEBE TENER 391 FILAS, SI O SI"
   ]
  },
  {
   "cell_type": "markdown",
   "metadata": {},
   "source": [
    "**Entonces, si al cargar los datos de train usé `index_col=0` para que utilizara la primera columna del conjunto de datos como índice, ¿tendré que hacerlo también para el conjunto `test.csv`?**"
   ]
  },
  {
   "cell_type": "code",
   "execution_count": 38,
   "metadata": {},
   "outputs": [],
   "source": [
    "# ¿Qué opináis?\n",
    "# Sí"
   ]
  },
  {
   "cell_type": "markdown",
   "metadata": {},
   "source": [
    "![](https://www.tierraljelechu.com/web/img/wiki_up/1.996-SorpresaDto.-1-Red.jpg)"
   ]
  },
  {
   "cell_type": "code",
   "execution_count": 39,
   "metadata": {},
   "outputs": [],
   "source": [
    "#X_pred = pd.read_csv(\"data/test.csv\", index_col=0)\n",
    "#X_pred.head()"
   ]
  },
  {
   "cell_type": "markdown",
   "metadata": {},
   "source": [
    "### 3. AHORA puedo hacer la predicción que será lo que subirás a Kaggle. "
   ]
  },
  {
   "cell_type": "markdown",
   "metadata": {},
   "source": [
    "**¿Qué es lo que subirás a Kaggle?**"
   ]
  },
  {
   "cell_type": "code",
   "execution_count": 40,
   "metadata": {},
   "outputs": [
    {
     "data": {
      "text/plain": [
       "array([ 1.15342985e+03,  9.45493701e+02,  6.15266812e+02,  1.00109108e+03,\n",
       "        3.79248860e+02,  6.32115733e+02,  6.62840460e+02,  1.79427302e+03,\n",
       "        1.69544352e+03,  1.21157212e+03,  9.91289185e+02,  1.04192542e+03,\n",
       "        1.14795130e+03,  8.02271599e+02,  6.57549306e+02,  1.11802577e+03,\n",
       "        1.05085184e+03,  1.77256439e+03,  7.14991615e+02,  1.12861688e+03,\n",
       "        1.18336823e+03,  1.07496583e+03,  6.33084499e+02,  9.88152880e+02,\n",
       "        5.91441263e+02,  1.38808639e+03,  8.16457188e+02,  9.78892228e+02,\n",
       "        4.64879739e+02,  1.17311771e+03,  1.08904899e+03,  1.16224775e+03,\n",
       "        9.49871306e+02,  1.23595156e+03,  1.14173913e+03,  1.12211424e+03,\n",
       "        1.20119942e+03,  1.15351406e+03,  8.79001345e+02,  1.81807933e+03,\n",
       "        1.74240625e+03,  1.04930114e+03,  5.27783771e+02,  1.44883387e+03,\n",
       "        9.82272002e+02,  1.80054291e+03,  6.68507283e+02,  1.78071027e+03,\n",
       "        1.11542907e+03,  1.82179390e+03,  8.04183889e+02,  6.74043963e+02,\n",
       "        1.01139166e+03,  1.18279599e+03,  4.35222582e+02,  7.87414277e+02,\n",
       "        1.11379251e+03,  6.47948877e+02,  1.19149068e+03,  1.12951037e+03,\n",
       "        6.37088286e+02,  1.00358432e+03,  1.10357443e+03,  5.22877401e+02,\n",
       "        1.01903017e+03,  7.09497419e+02,  1.68037404e+03,  1.70491295e+03,\n",
       "        1.05661710e+03,  8.02497688e+02,  6.13116021e+02,  1.45562969e+03,\n",
       "        3.09280239e+03,  1.70843300e+03,  9.67843679e+02,  1.13869707e+03,\n",
       "        6.73885177e+02,  2.24218457e+03,  6.12029848e+02,  1.26363210e+03,\n",
       "        6.32925713e+02,  1.06608946e+03,  1.07111863e+03,  1.74987901e+03,\n",
       "        1.13028819e+03,  1.03633576e+03,  1.24640717e+03,  1.12518690e+03,\n",
       "        4.57944505e+02,  1.07100561e+03,  1.58075651e+03,  8.62107985e+02,\n",
       "        5.33209739e+02,  2.33950197e+03,  1.17075962e+03,  1.18434881e+03,\n",
       "        1.13291556e+03,  5.09559892e+02,  6.47592388e+02,  1.47709337e+02,\n",
       "        1.16055848e+03,  1.04710881e+03,  1.02835796e+03,  6.60335329e+02,\n",
       "        1.44010770e+03,  5.09581610e+02,  2.41477539e+03,  1.13926679e+03,\n",
       "        2.45933475e+03,  1.18097272e+03,  1.18212273e+03,  1.05107777e+03,\n",
       "        1.09623053e+03,  1.73563972e+03,  1.19412181e+03,  1.49358685e+03,\n",
       "        1.06430499e+03,  2.37167869e+03,  7.42105036e+02,  1.12130720e+03,\n",
       "        1.00005844e+03,  1.16115749e+03,  1.79610982e+03,  1.17680536e+03,\n",
       "        8.73673693e+02,  1.15744683e+03,  6.67282971e+02,  1.07275044e+03,\n",
       "        6.58439389e+02,  1.04419247e+03,  6.35298893e+02,  1.01806045e+03,\n",
       "        1.02051886e+03,  3.03145497e+02,  1.05638183e+03,  1.77961406e+03,\n",
       "        1.70651999e+03,  1.93338076e+03,  1.80861550e+03,  1.07910340e+03,\n",
       "        1.04398493e+03,  1.26646382e+03,  7.33410959e+02,  1.81979879e+03,\n",
       "        1.73200725e+03,  6.46224578e+02,  1.64184451e+03,  9.92341063e+02,\n",
       "        1.03429019e+03,  1.09548353e+03,  1.67807830e+03,  1.23930960e+03,\n",
       "        1.82602812e+03, -2.78426936e+00,  1.73476766e+03,  1.00546332e+03,\n",
       "        1.06218197e+03,  7.49108614e+02,  1.19682853e+03,  1.36008792e+03,\n",
       "        3.65837741e+03,  1.16607678e+03,  9.22949742e+02,  6.35055695e+02,\n",
       "        1.11593451e+03,  3.13232569e+03,  1.09061444e+03,  9.88363021e+02,\n",
       "        7.83016620e+02,  1.02040884e+03,  5.64385003e+02,  8.03049120e+02,\n",
       "        8.88708905e+02,  7.75042516e+02,  1.71484617e+03,  4.69395309e+02,\n",
       "        1.04582528e+03,  1.65321482e+03,  1.12335031e+03,  5.73864805e+02,\n",
       "        8.17200116e+02,  1.77328832e+03,  1.12992896e+03,  1.07938860e+03,\n",
       "        1.10450420e+03,  1.04539556e+03,  8.57478916e+02,  2.50812819e+02,\n",
       "        5.29567287e+02,  1.09184785e+03,  1.05608727e+03,  8.04317884e+02,\n",
       "        8.71215414e+02,  6.27063961e+02,  1.11835809e+03,  1.90705491e+03,\n",
       "        1.45065714e+03,  7.36042089e+02,  9.96006456e+02,  2.41179525e+03,\n",
       "        5.98079521e+02,  1.04890728e+03,  1.04654229e+03,  2.44882689e+03,\n",
       "        9.55728778e+02,  1.04645481e+03,  1.52406025e+03,  1.06086046e+03,\n",
       "        1.04786790e+03,  3.63802607e+02,  1.02923056e+03,  5.42629725e+02,\n",
       "        1.07112888e+03,  1.16127673e+03,  1.17415402e+03,  1.95943100e+02,\n",
       "        1.19183373e+03,  1.21688110e+03,  6.52365312e+02,  9.87710872e+02,\n",
       "        4.61591044e+02,  7.11116944e+02,  4.79694847e+02,  2.46423600e+03,\n",
       "        6.22589211e+02,  1.80544901e+03,  1.20609916e+03,  1.76323517e+03,\n",
       "        1.04786134e+03,  1.19034435e+03,  6.96310869e+02,  5.79528854e+02,\n",
       "        1.76273062e+03,  1.27049633e+03,  1.08877294e+03,  7.38593104e+02,\n",
       "        1.16416131e+03,  9.85573105e+02,  7.27602681e+02,  7.34321057e+02,\n",
       "        1.19596536e+03,  5.65418431e+02,  1.42982871e+03,  1.20677024e+03,\n",
       "        1.18625389e+03,  5.34085618e+02,  1.56233686e+03,  2.12726618e+03,\n",
       "        1.17903389e+03,  1.18943364e+03,  1.17263565e+03,  2.57010985e+03,\n",
       "        1.04260318e+03,  9.91779474e+02,  6.24845868e+02,  1.14531601e+03,\n",
       "        1.22158312e+03,  1.20364321e+03,  9.06439916e+02,  1.19636475e+03,\n",
       "        7.01086084e+02,  1.98057280e+03,  8.24076967e+02,  1.86324003e+03,\n",
       "        4.94893217e+02,  6.42279517e+02,  5.63926471e+02,  6.31776310e+02,\n",
       "        1.03839649e+03,  9.84744346e+02,  1.13821655e+03,  9.52882702e+02,\n",
       "        1.72572101e+02,  5.86546976e+02,  1.74009965e+03,  1.77640250e+03,\n",
       "        1.85874760e+03,  7.15654622e+02,  8.43794668e+02,  1.81783723e+03,\n",
       "        1.16793303e+03,  1.68759202e+03,  5.81523803e+03,  8.34171739e+02,\n",
       "        1.23862059e+03,  5.58622414e+02,  1.00727183e+03,  1.08908649e+03,\n",
       "        3.24544490e+02,  1.44027176e+03,  1.75904760e+03,  1.47425216e+03,\n",
       "        1.15905947e+03,  1.00662358e+03,  6.75479181e+02,  1.07296875e+03,\n",
       "        5.18120975e+02,  1.05907148e+03,  2.35468762e+03,  7.87478403e+02,\n",
       "        2.31096406e+02,  1.72970192e+02,  5.37788093e+02,  1.20657662e+03,\n",
       "        1.09813617e+03,  1.84424400e+03,  1.82286687e+03,  5.21374492e+02,\n",
       "        5.86593529e+02,  3.16130861e+03,  1.18092968e+03,  6.08806476e+02,\n",
       "        1.68475325e+03,  1.86139319e+03,  1.55327505e+03,  1.14148630e+03,\n",
       "        1.66515507e+03,  1.87102094e+03,  2.38964731e+03,  1.04474648e+03,\n",
       "        4.13630374e+02,  6.80363428e+02,  1.72786332e+03,  8.89368460e+02,\n",
       "        1.07621064e+03,  8.47845286e+02,  1.15319055e+03,  4.50718015e+02,\n",
       "        1.90534678e+03,  1.04688733e+03,  1.61891814e+03,  6.11023777e+02,\n",
       "        1.77999010e+03,  1.06593485e+03,  5.16165171e+02,  5.68832436e+02,\n",
       "        1.78511440e+03,  1.01917113e+03,  1.00867980e+03,  6.19936635e+02,\n",
       "        1.05364729e+03,  1.14772511e+03,  4.74799948e+02,  1.00674753e+03,\n",
       "        8.05369645e+02,  9.86733367e+02,  7.30582320e+02,  9.06299306e+02,\n",
       "        9.99231337e+02,  1.18402202e+03,  1.05915296e+03,  1.97046223e+03,\n",
       "        5.51261929e+02,  1.07508684e+03,  1.76205899e+03,  1.10687451e+03,\n",
       "        5.96661519e+02,  2.98462693e+03,  9.83236614e+02,  1.20512300e+03,\n",
       "        1.22499036e+03,  8.22081187e+02,  9.56669603e+02,  1.76746406e+03,\n",
       "        1.15524308e+03,  3.53055828e+02,  5.77374081e+02,  6.16110412e+02,\n",
       "        1.45453892e+03,  6.11228252e+02,  6.35683247e+02,  4.39877563e+02,\n",
       "        1.99888936e+03,  9.66852242e+02,  6.24676848e+02,  1.10981706e+03,\n",
       "        1.15310388e+03,  6.74635329e+02,  1.07710988e+03,  1.17683404e+03,\n",
       "        9.30277844e+02,  1.07645588e+03,  5.77120219e+02,  8.27811302e+02,\n",
       "        1.13714848e+03,  2.41600224e+03,  1.77709528e+03,  1.91614197e+03,\n",
       "        6.31604545e+02,  6.05055445e+02,  1.89176560e+03])"
      ]
     },
     "execution_count": 40,
     "metadata": {},
     "output_type": "execute_result"
    }
   ],
   "source": [
    "predictions_submit = model.predict(X2)\n",
    "predictions_submit"
   ]
  },
  {
   "cell_type": "markdown",
   "metadata": {},
   "source": [
    "**¡PERO! Para subir a Kaggle la predicción, ésta tendrá que tener una forma específica y no valdrá otra.**\n",
    "\n",
    "En este caso, la **MISMA** forma que `sample_submission.csv`. "
   ]
  },
  {
   "cell_type": "code",
   "execution_count": 41,
   "metadata": {},
   "outputs": [],
   "source": [
    "sample = pd.read_csv(\"data/sample_submission.csv\")"
   ]
  },
  {
   "cell_type": "code",
   "execution_count": 42,
   "metadata": {},
   "outputs": [
    {
     "data": {
      "text/html": [
       "<div>\n",
       "<style scoped>\n",
       "    .dataframe tbody tr th:only-of-type {\n",
       "        vertical-align: middle;\n",
       "    }\n",
       "\n",
       "    .dataframe tbody tr th {\n",
       "        vertical-align: top;\n",
       "    }\n",
       "\n",
       "    .dataframe thead th {\n",
       "        text-align: right;\n",
       "    }\n",
       "</style>\n",
       "<table border=\"1\" class=\"dataframe\">\n",
       "  <thead>\n",
       "    <tr style=\"text-align: right;\">\n",
       "      <th></th>\n",
       "      <th>laptop_ID</th>\n",
       "      <th>Price_euros</th>\n",
       "    </tr>\n",
       "  </thead>\n",
       "  <tbody>\n",
       "    <tr>\n",
       "      <th>0</th>\n",
       "      <td>750</td>\n",
       "      <td>500</td>\n",
       "    </tr>\n",
       "    <tr>\n",
       "      <th>1</th>\n",
       "      <td>726</td>\n",
       "      <td>500</td>\n",
       "    </tr>\n",
       "    <tr>\n",
       "      <th>2</th>\n",
       "      <td>633</td>\n",
       "      <td>500</td>\n",
       "    </tr>\n",
       "    <tr>\n",
       "      <th>3</th>\n",
       "      <td>363</td>\n",
       "      <td>650</td>\n",
       "    </tr>\n",
       "    <tr>\n",
       "      <th>4</th>\n",
       "      <td>319</td>\n",
       "      <td>650</td>\n",
       "    </tr>\n",
       "  </tbody>\n",
       "</table>\n",
       "</div>"
      ],
      "text/plain": [
       "   laptop_ID  Price_euros\n",
       "0        750          500\n",
       "1        726          500\n",
       "2        633          500\n",
       "3        363          650\n",
       "4        319          650"
      ]
     },
     "execution_count": 42,
     "metadata": {},
     "output_type": "execute_result"
    }
   ],
   "source": [
    "sample.head()"
   ]
  },
  {
   "cell_type": "code",
   "execution_count": 43,
   "metadata": {},
   "outputs": [
    {
     "data": {
      "text/plain": [
       "(391, 2)"
      ]
     },
     "execution_count": 43,
     "metadata": {},
     "output_type": "execute_result"
    }
   ],
   "source": [
    "sample.shape"
   ]
  },
  {
   "cell_type": "markdown",
   "metadata": {},
   "source": [
    "### 4. Mete tus predicciones en un dataframe. \n",
    "\n",
    "En este caso, la **MISMA** forma que `sample_submission.csv`. "
   ]
  },
  {
   "cell_type": "code",
   "execution_count": 44,
   "metadata": {},
   "outputs": [
    {
     "data": {
      "text/plain": [
       "array([ 1.15342985e+03,  9.45493701e+02,  6.15266812e+02,  1.00109108e+03,\n",
       "        3.79248860e+02,  6.32115733e+02,  6.62840460e+02,  1.79427302e+03,\n",
       "        1.69544352e+03,  1.21157212e+03,  9.91289185e+02,  1.04192542e+03,\n",
       "        1.14795130e+03,  8.02271599e+02,  6.57549306e+02,  1.11802577e+03,\n",
       "        1.05085184e+03,  1.77256439e+03,  7.14991615e+02,  1.12861688e+03,\n",
       "        1.18336823e+03,  1.07496583e+03,  6.33084499e+02,  9.88152880e+02,\n",
       "        5.91441263e+02,  1.38808639e+03,  8.16457188e+02,  9.78892228e+02,\n",
       "        4.64879739e+02,  1.17311771e+03,  1.08904899e+03,  1.16224775e+03,\n",
       "        9.49871306e+02,  1.23595156e+03,  1.14173913e+03,  1.12211424e+03,\n",
       "        1.20119942e+03,  1.15351406e+03,  8.79001345e+02,  1.81807933e+03,\n",
       "        1.74240625e+03,  1.04930114e+03,  5.27783771e+02,  1.44883387e+03,\n",
       "        9.82272002e+02,  1.80054291e+03,  6.68507283e+02,  1.78071027e+03,\n",
       "        1.11542907e+03,  1.82179390e+03,  8.04183889e+02,  6.74043963e+02,\n",
       "        1.01139166e+03,  1.18279599e+03,  4.35222582e+02,  7.87414277e+02,\n",
       "        1.11379251e+03,  6.47948877e+02,  1.19149068e+03,  1.12951037e+03,\n",
       "        6.37088286e+02,  1.00358432e+03,  1.10357443e+03,  5.22877401e+02,\n",
       "        1.01903017e+03,  7.09497419e+02,  1.68037404e+03,  1.70491295e+03,\n",
       "        1.05661710e+03,  8.02497688e+02,  6.13116021e+02,  1.45562969e+03,\n",
       "        3.09280239e+03,  1.70843300e+03,  9.67843679e+02,  1.13869707e+03,\n",
       "        6.73885177e+02,  2.24218457e+03,  6.12029848e+02,  1.26363210e+03,\n",
       "        6.32925713e+02,  1.06608946e+03,  1.07111863e+03,  1.74987901e+03,\n",
       "        1.13028819e+03,  1.03633576e+03,  1.24640717e+03,  1.12518690e+03,\n",
       "        4.57944505e+02,  1.07100561e+03,  1.58075651e+03,  8.62107985e+02,\n",
       "        5.33209739e+02,  2.33950197e+03,  1.17075962e+03,  1.18434881e+03,\n",
       "        1.13291556e+03,  5.09559892e+02,  6.47592388e+02,  1.47709337e+02,\n",
       "        1.16055848e+03,  1.04710881e+03,  1.02835796e+03,  6.60335329e+02,\n",
       "        1.44010770e+03,  5.09581610e+02,  2.41477539e+03,  1.13926679e+03,\n",
       "        2.45933475e+03,  1.18097272e+03,  1.18212273e+03,  1.05107777e+03,\n",
       "        1.09623053e+03,  1.73563972e+03,  1.19412181e+03,  1.49358685e+03,\n",
       "        1.06430499e+03,  2.37167869e+03,  7.42105036e+02,  1.12130720e+03,\n",
       "        1.00005844e+03,  1.16115749e+03,  1.79610982e+03,  1.17680536e+03,\n",
       "        8.73673693e+02,  1.15744683e+03,  6.67282971e+02,  1.07275044e+03,\n",
       "        6.58439389e+02,  1.04419247e+03,  6.35298893e+02,  1.01806045e+03,\n",
       "        1.02051886e+03,  3.03145497e+02,  1.05638183e+03,  1.77961406e+03,\n",
       "        1.70651999e+03,  1.93338076e+03,  1.80861550e+03,  1.07910340e+03,\n",
       "        1.04398493e+03,  1.26646382e+03,  7.33410959e+02,  1.81979879e+03,\n",
       "        1.73200725e+03,  6.46224578e+02,  1.64184451e+03,  9.92341063e+02,\n",
       "        1.03429019e+03,  1.09548353e+03,  1.67807830e+03,  1.23930960e+03,\n",
       "        1.82602812e+03, -2.78426936e+00,  1.73476766e+03,  1.00546332e+03,\n",
       "        1.06218197e+03,  7.49108614e+02,  1.19682853e+03,  1.36008792e+03,\n",
       "        3.65837741e+03,  1.16607678e+03,  9.22949742e+02,  6.35055695e+02,\n",
       "        1.11593451e+03,  3.13232569e+03,  1.09061444e+03,  9.88363021e+02,\n",
       "        7.83016620e+02,  1.02040884e+03,  5.64385003e+02,  8.03049120e+02,\n",
       "        8.88708905e+02,  7.75042516e+02,  1.71484617e+03,  4.69395309e+02,\n",
       "        1.04582528e+03,  1.65321482e+03,  1.12335031e+03,  5.73864805e+02,\n",
       "        8.17200116e+02,  1.77328832e+03,  1.12992896e+03,  1.07938860e+03,\n",
       "        1.10450420e+03,  1.04539556e+03,  8.57478916e+02,  2.50812819e+02,\n",
       "        5.29567287e+02,  1.09184785e+03,  1.05608727e+03,  8.04317884e+02,\n",
       "        8.71215414e+02,  6.27063961e+02,  1.11835809e+03,  1.90705491e+03,\n",
       "        1.45065714e+03,  7.36042089e+02,  9.96006456e+02,  2.41179525e+03,\n",
       "        5.98079521e+02,  1.04890728e+03,  1.04654229e+03,  2.44882689e+03,\n",
       "        9.55728778e+02,  1.04645481e+03,  1.52406025e+03,  1.06086046e+03,\n",
       "        1.04786790e+03,  3.63802607e+02,  1.02923056e+03,  5.42629725e+02,\n",
       "        1.07112888e+03,  1.16127673e+03,  1.17415402e+03,  1.95943100e+02,\n",
       "        1.19183373e+03,  1.21688110e+03,  6.52365312e+02,  9.87710872e+02,\n",
       "        4.61591044e+02,  7.11116944e+02,  4.79694847e+02,  2.46423600e+03,\n",
       "        6.22589211e+02,  1.80544901e+03,  1.20609916e+03,  1.76323517e+03,\n",
       "        1.04786134e+03,  1.19034435e+03,  6.96310869e+02,  5.79528854e+02,\n",
       "        1.76273062e+03,  1.27049633e+03,  1.08877294e+03,  7.38593104e+02,\n",
       "        1.16416131e+03,  9.85573105e+02,  7.27602681e+02,  7.34321057e+02,\n",
       "        1.19596536e+03,  5.65418431e+02,  1.42982871e+03,  1.20677024e+03,\n",
       "        1.18625389e+03,  5.34085618e+02,  1.56233686e+03,  2.12726618e+03,\n",
       "        1.17903389e+03,  1.18943364e+03,  1.17263565e+03,  2.57010985e+03,\n",
       "        1.04260318e+03,  9.91779474e+02,  6.24845868e+02,  1.14531601e+03,\n",
       "        1.22158312e+03,  1.20364321e+03,  9.06439916e+02,  1.19636475e+03,\n",
       "        7.01086084e+02,  1.98057280e+03,  8.24076967e+02,  1.86324003e+03,\n",
       "        4.94893217e+02,  6.42279517e+02,  5.63926471e+02,  6.31776310e+02,\n",
       "        1.03839649e+03,  9.84744346e+02,  1.13821655e+03,  9.52882702e+02,\n",
       "        1.72572101e+02,  5.86546976e+02,  1.74009965e+03,  1.77640250e+03,\n",
       "        1.85874760e+03,  7.15654622e+02,  8.43794668e+02,  1.81783723e+03,\n",
       "        1.16793303e+03,  1.68759202e+03,  5.81523803e+03,  8.34171739e+02,\n",
       "        1.23862059e+03,  5.58622414e+02,  1.00727183e+03,  1.08908649e+03,\n",
       "        3.24544490e+02,  1.44027176e+03,  1.75904760e+03,  1.47425216e+03,\n",
       "        1.15905947e+03,  1.00662358e+03,  6.75479181e+02,  1.07296875e+03,\n",
       "        5.18120975e+02,  1.05907148e+03,  2.35468762e+03,  7.87478403e+02,\n",
       "        2.31096406e+02,  1.72970192e+02,  5.37788093e+02,  1.20657662e+03,\n",
       "        1.09813617e+03,  1.84424400e+03,  1.82286687e+03,  5.21374492e+02,\n",
       "        5.86593529e+02,  3.16130861e+03,  1.18092968e+03,  6.08806476e+02,\n",
       "        1.68475325e+03,  1.86139319e+03,  1.55327505e+03,  1.14148630e+03,\n",
       "        1.66515507e+03,  1.87102094e+03,  2.38964731e+03,  1.04474648e+03,\n",
       "        4.13630374e+02,  6.80363428e+02,  1.72786332e+03,  8.89368460e+02,\n",
       "        1.07621064e+03,  8.47845286e+02,  1.15319055e+03,  4.50718015e+02,\n",
       "        1.90534678e+03,  1.04688733e+03,  1.61891814e+03,  6.11023777e+02,\n",
       "        1.77999010e+03,  1.06593485e+03,  5.16165171e+02,  5.68832436e+02,\n",
       "        1.78511440e+03,  1.01917113e+03,  1.00867980e+03,  6.19936635e+02,\n",
       "        1.05364729e+03,  1.14772511e+03,  4.74799948e+02,  1.00674753e+03,\n",
       "        8.05369645e+02,  9.86733367e+02,  7.30582320e+02,  9.06299306e+02,\n",
       "        9.99231337e+02,  1.18402202e+03,  1.05915296e+03,  1.97046223e+03,\n",
       "        5.51261929e+02,  1.07508684e+03,  1.76205899e+03,  1.10687451e+03,\n",
       "        5.96661519e+02,  2.98462693e+03,  9.83236614e+02,  1.20512300e+03,\n",
       "        1.22499036e+03,  8.22081187e+02,  9.56669603e+02,  1.76746406e+03,\n",
       "        1.15524308e+03,  3.53055828e+02,  5.77374081e+02,  6.16110412e+02,\n",
       "        1.45453892e+03,  6.11228252e+02,  6.35683247e+02,  4.39877563e+02,\n",
       "        1.99888936e+03,  9.66852242e+02,  6.24676848e+02,  1.10981706e+03,\n",
       "        1.15310388e+03,  6.74635329e+02,  1.07710988e+03,  1.17683404e+03,\n",
       "        9.30277844e+02,  1.07645588e+03,  5.77120219e+02,  8.27811302e+02,\n",
       "        1.13714848e+03,  2.41600224e+03,  1.77709528e+03,  1.91614197e+03,\n",
       "        6.31604545e+02,  6.05055445e+02,  1.89176560e+03])"
      ]
     },
     "execution_count": 44,
     "metadata": {},
     "output_type": "execute_result"
    }
   ],
   "source": [
    "predictions_submit  "
   ]
  },
  {
   "cell_type": "code",
   "execution_count": 45,
   "metadata": {},
   "outputs": [
    {
     "data": {
      "text/html": [
       "<div>\n",
       "<style scoped>\n",
       "    .dataframe tbody tr th:only-of-type {\n",
       "        vertical-align: middle;\n",
       "    }\n",
       "\n",
       "    .dataframe tbody tr th {\n",
       "        vertical-align: top;\n",
       "    }\n",
       "\n",
       "    .dataframe thead th {\n",
       "        text-align: right;\n",
       "    }\n",
       "</style>\n",
       "<table border=\"1\" class=\"dataframe\">\n",
       "  <thead>\n",
       "    <tr style=\"text-align: right;\">\n",
       "      <th></th>\n",
       "      <th>laptop_ID</th>\n",
       "      <th>Price_euros</th>\n",
       "    </tr>\n",
       "  </thead>\n",
       "  <tbody>\n",
       "    <tr>\n",
       "      <th>0</th>\n",
       "      <td>750</td>\n",
       "      <td>500</td>\n",
       "    </tr>\n",
       "    <tr>\n",
       "      <th>1</th>\n",
       "      <td>726</td>\n",
       "      <td>500</td>\n",
       "    </tr>\n",
       "    <tr>\n",
       "      <th>2</th>\n",
       "      <td>633</td>\n",
       "      <td>500</td>\n",
       "    </tr>\n",
       "    <tr>\n",
       "      <th>3</th>\n",
       "      <td>363</td>\n",
       "      <td>650</td>\n",
       "    </tr>\n",
       "    <tr>\n",
       "      <th>4</th>\n",
       "      <td>319</td>\n",
       "      <td>650</td>\n",
       "    </tr>\n",
       "    <tr>\n",
       "      <th>...</th>\n",
       "      <td>...</td>\n",
       "      <td>...</td>\n",
       "    </tr>\n",
       "    <tr>\n",
       "      <th>386</th>\n",
       "      <td>693</td>\n",
       "      <td>650</td>\n",
       "    </tr>\n",
       "    <tr>\n",
       "      <th>387</th>\n",
       "      <td>1132</td>\n",
       "      <td>500</td>\n",
       "    </tr>\n",
       "    <tr>\n",
       "      <th>388</th>\n",
       "      <td>49</td>\n",
       "      <td>650</td>\n",
       "    </tr>\n",
       "    <tr>\n",
       "      <th>389</th>\n",
       "      <td>1243</td>\n",
       "      <td>650</td>\n",
       "    </tr>\n",
       "    <tr>\n",
       "      <th>390</th>\n",
       "      <td>924</td>\n",
       "      <td>500</td>\n",
       "    </tr>\n",
       "  </tbody>\n",
       "</table>\n",
       "<p>391 rows × 2 columns</p>\n",
       "</div>"
      ],
      "text/plain": [
       "     laptop_ID  Price_euros\n",
       "0          750          500\n",
       "1          726          500\n",
       "2          633          500\n",
       "3          363          650\n",
       "4          319          650\n",
       "..         ...          ...\n",
       "386        693          650\n",
       "387       1132          500\n",
       "388         49          650\n",
       "389       1243          650\n",
       "390        924          500\n",
       "\n",
       "[391 rows x 2 columns]"
      ]
     },
     "execution_count": 45,
     "metadata": {},
     "output_type": "execute_result"
    }
   ],
   "source": [
    "sample"
   ]
  },
  {
   "cell_type": "code",
   "execution_count": 46,
   "metadata": {},
   "outputs": [],
   "source": [
    "submission = pd.DataFrame({\"laptop_ID\": sample['laptop_ID'], \"Price_euros\": predictions_submit})"
   ]
  },
  {
   "cell_type": "code",
   "execution_count": 47,
   "metadata": {},
   "outputs": [
    {
     "data": {
      "text/html": [
       "<div>\n",
       "<style scoped>\n",
       "    .dataframe tbody tr th:only-of-type {\n",
       "        vertical-align: middle;\n",
       "    }\n",
       "\n",
       "    .dataframe tbody tr th {\n",
       "        vertical-align: top;\n",
       "    }\n",
       "\n",
       "    .dataframe thead th {\n",
       "        text-align: right;\n",
       "    }\n",
       "</style>\n",
       "<table border=\"1\" class=\"dataframe\">\n",
       "  <thead>\n",
       "    <tr style=\"text-align: right;\">\n",
       "      <th></th>\n",
       "      <th>laptop_ID</th>\n",
       "      <th>Price_euros</th>\n",
       "    </tr>\n",
       "  </thead>\n",
       "  <tbody>\n",
       "    <tr>\n",
       "      <th>0</th>\n",
       "      <td>750</td>\n",
       "      <td>1153.429853</td>\n",
       "    </tr>\n",
       "    <tr>\n",
       "      <th>1</th>\n",
       "      <td>726</td>\n",
       "      <td>945.493701</td>\n",
       "    </tr>\n",
       "    <tr>\n",
       "      <th>2</th>\n",
       "      <td>633</td>\n",
       "      <td>615.266812</td>\n",
       "    </tr>\n",
       "    <tr>\n",
       "      <th>3</th>\n",
       "      <td>363</td>\n",
       "      <td>1001.091076</td>\n",
       "    </tr>\n",
       "    <tr>\n",
       "      <th>4</th>\n",
       "      <td>319</td>\n",
       "      <td>379.248860</td>\n",
       "    </tr>\n",
       "  </tbody>\n",
       "</table>\n",
       "</div>"
      ],
      "text/plain": [
       "   laptop_ID  Price_euros\n",
       "0        750  1153.429853\n",
       "1        726   945.493701\n",
       "2        633   615.266812\n",
       "3        363  1001.091076\n",
       "4        319   379.248860"
      ]
     },
     "execution_count": 47,
     "metadata": {},
     "output_type": "execute_result"
    }
   ],
   "source": [
    "submission.head()"
   ]
  },
  {
   "cell_type": "code",
   "execution_count": 48,
   "metadata": {},
   "outputs": [
    {
     "data": {
      "text/plain": [
       "(391, 2)"
      ]
     },
     "execution_count": 48,
     "metadata": {},
     "output_type": "execute_result"
    }
   ],
   "source": [
    "submission.shape"
   ]
  },
  {
   "cell_type": "markdown",
   "metadata": {},
   "source": [
    "### 5. Pásale el CHEQUEATOR para comprobar que efectivamente está listo para subir a Kaggle."
   ]
  },
  {
   "cell_type": "code",
   "execution_count": 49,
   "metadata": {},
   "outputs": [],
   "source": [
    "def chequeator(df_to_submit):\n",
    "    \"\"\"\n",
    "    Esta función se asegura de que tu submission tenga la forma requerida por Kaggle.\n",
    "    \n",
    "    Si es así, se guardará el dataframe en un `csv` y estará listo para subir a Kaggle.\n",
    "    \n",
    "    Si no, LEE EL MENSAJE Y HAZLE CASO.\n",
    "    \n",
    "    Si aún no:\n",
    "    - apaga tu ordenador, \n",
    "    - date una vuelta, \n",
    "    - enciendelo otra vez, \n",
    "    - abre este notebook y \n",
    "    - leelo todo de nuevo. \n",
    "    Todos nos merecemos una segunda oportunidad. También tú.\n",
    "    \"\"\"\n",
    "    if df_to_submit.shape == sample.shape:\n",
    "        if df_to_submit.columns.all() == sample.columns.all():\n",
    "            if df_to_submit.laptop_ID.all() == sample.laptop_ID.all():\n",
    "                print(\"You're ready to submit!\")\n",
    "                submission.to_csv(\"submission.csv\", index = False) #muy importante el index = False\n",
    "                urllib.request.urlretrieve(\"https://i.kym-cdn.com/photos/images/facebook/000/747/556/27a.jpg\", \"gfg.png\")     \n",
    "                img = Image.open(\"gfg.png\")\n",
    "                img.show()   \n",
    "            else:\n",
    "                print(\"Check the ids and try again\")\n",
    "        else:\n",
    "            print(\"Check the names of the columns and try again\")\n",
    "    else:\n",
    "        print(\"Check the number of rows and/or columns and try again\")\n",
    "        print(\"\\nMensaje secreto de Clara: No me puedo creer que después de todo este notebook hayas hecho algún cambio en las filas de `diamonds_test.csv`. Lloro.\")\n"
   ]
  },
  {
   "cell_type": "code",
   "execution_count": 50,
   "metadata": {},
   "outputs": [
    {
     "name": "stdout",
     "output_type": "stream",
     "text": [
      "You're ready to submit!\n"
     ]
    }
   ],
   "source": [
    "chequeator(submission)"
   ]
  },
  {
   "cell_type": "code",
   "execution_count": 51,
   "metadata": {},
   "outputs": [
    {
     "data": {
      "text/html": [
       "<div>\n",
       "<style scoped>\n",
       "    .dataframe tbody tr th:only-of-type {\n",
       "        vertical-align: middle;\n",
       "    }\n",
       "\n",
       "    .dataframe tbody tr th {\n",
       "        vertical-align: top;\n",
       "    }\n",
       "\n",
       "    .dataframe thead th {\n",
       "        text-align: right;\n",
       "    }\n",
       "</style>\n",
       "<table border=\"1\" class=\"dataframe\">\n",
       "  <thead>\n",
       "    <tr style=\"text-align: right;\">\n",
       "      <th></th>\n",
       "      <th>laptop_ID</th>\n",
       "      <th>Price_euros</th>\n",
       "    </tr>\n",
       "  </thead>\n",
       "  <tbody>\n",
       "    <tr>\n",
       "      <th>0</th>\n",
       "      <td>750</td>\n",
       "      <td>1153.429853</td>\n",
       "    </tr>\n",
       "    <tr>\n",
       "      <th>1</th>\n",
       "      <td>726</td>\n",
       "      <td>945.493701</td>\n",
       "    </tr>\n",
       "    <tr>\n",
       "      <th>2</th>\n",
       "      <td>633</td>\n",
       "      <td>615.266812</td>\n",
       "    </tr>\n",
       "    <tr>\n",
       "      <th>3</th>\n",
       "      <td>363</td>\n",
       "      <td>1001.091076</td>\n",
       "    </tr>\n",
       "    <tr>\n",
       "      <th>4</th>\n",
       "      <td>319</td>\n",
       "      <td>379.248860</td>\n",
       "    </tr>\n",
       "    <tr>\n",
       "      <th>...</th>\n",
       "      <td>...</td>\n",
       "      <td>...</td>\n",
       "    </tr>\n",
       "    <tr>\n",
       "      <th>386</th>\n",
       "      <td>693</td>\n",
       "      <td>1777.095280</td>\n",
       "    </tr>\n",
       "    <tr>\n",
       "      <th>387</th>\n",
       "      <td>1132</td>\n",
       "      <td>1916.141965</td>\n",
       "    </tr>\n",
       "    <tr>\n",
       "      <th>388</th>\n",
       "      <td>49</td>\n",
       "      <td>631.604545</td>\n",
       "    </tr>\n",
       "    <tr>\n",
       "      <th>389</th>\n",
       "      <td>1243</td>\n",
       "      <td>605.055445</td>\n",
       "    </tr>\n",
       "    <tr>\n",
       "      <th>390</th>\n",
       "      <td>924</td>\n",
       "      <td>1891.765597</td>\n",
       "    </tr>\n",
       "  </tbody>\n",
       "</table>\n",
       "<p>391 rows × 2 columns</p>\n",
       "</div>"
      ],
      "text/plain": [
       "     laptop_ID  Price_euros\n",
       "0          750  1153.429853\n",
       "1          726   945.493701\n",
       "2          633   615.266812\n",
       "3          363  1001.091076\n",
       "4          319   379.248860\n",
       "..         ...          ...\n",
       "386        693  1777.095280\n",
       "387       1132  1916.141965\n",
       "388         49   631.604545\n",
       "389       1243   605.055445\n",
       "390        924  1891.765597\n",
       "\n",
       "[391 rows x 2 columns]"
      ]
     },
     "execution_count": 51,
     "metadata": {},
     "output_type": "execute_result"
    }
   ],
   "source": [
    "submission"
   ]
  }
 ],
 "metadata": {
  "kernelspec": {
   "display_name": "Python 3",
   "language": "python",
   "name": "python3"
  },
  "language_info": {
   "codemirror_mode": {
    "name": "ipython",
    "version": 3
   },
   "file_extension": ".py",
   "mimetype": "text/x-python",
   "name": "python",
   "nbconvert_exporter": "python",
   "pygments_lexer": "ipython3",
   "version": "3.10.9"
  }
 },
 "nbformat": 4,
 "nbformat_minor": 4
}
