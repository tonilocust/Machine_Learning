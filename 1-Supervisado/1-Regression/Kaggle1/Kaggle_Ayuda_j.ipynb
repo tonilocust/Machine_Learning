{
 "cells": [
  {
   "cell_type": "markdown",
   "metadata": {},
   "source": [
    "#### Aquí encontrarás todo lo que necesitas saber: https://www.kaggle.com/t/ab8726f0cfc84544abbae69a6be88071"
   ]
  },
  {
   "cell_type": "markdown",
   "metadata": {},
   "source": [
    "## Librerias"
   ]
  },
  {
   "cell_type": "code",
   "execution_count": 1,
   "metadata": {},
   "outputs": [],
   "source": [
    "import pandas as pd\n",
    "\n",
    "import urllib.request\n",
    "from PIL import Image"
   ]
  },
  {
   "cell_type": "markdown",
   "metadata": {},
   "source": [
    "## Data"
   ]
  },
  {
   "cell_type": "code",
   "execution_count": 10,
   "metadata": {},
   "outputs": [],
   "source": [
    "### Para que funcione necesitas bajarte los archivos de datos de Kaggle \n",
    "train = pd.read_csv(\"data/train.csv\")\n"
   ]
  },
  {
   "cell_type": "markdown",
   "metadata": {},
   "source": [
    "## Data exploration"
   ]
  },
  {
   "cell_type": "code",
   "execution_count": 3,
   "metadata": {},
   "outputs": [
    {
     "name": "stdout",
     "output_type": "stream",
     "text": [
      "<class 'pandas.core.frame.DataFrame'>\n",
      "RangeIndex: 912 entries, 0 to 911\n",
      "Data columns (total 13 columns):\n",
      " #   Column            Non-Null Count  Dtype  \n",
      "---  ------            --------------  -----  \n",
      " 0   laptop_ID         912 non-null    int64  \n",
      " 1   Company           912 non-null    object \n",
      " 2   Product           912 non-null    object \n",
      " 3   TypeName          912 non-null    object \n",
      " 4   Inches            912 non-null    float64\n",
      " 5   ScreenResolution  912 non-null    object \n",
      " 6   Cpu               912 non-null    object \n",
      " 7   Ram               912 non-null    object \n",
      " 8   Memory            912 non-null    object \n",
      " 9   Gpu               912 non-null    object \n",
      " 10  OpSys             912 non-null    object \n",
      " 11  Weight            912 non-null    object \n",
      " 12  Price_euros       912 non-null    float64\n",
      "dtypes: float64(2), int64(1), object(10)\n",
      "memory usage: 92.8+ KB\n"
     ]
    }
   ],
   "source": [
    "train.info()"
   ]
  },
  {
   "cell_type": "code",
   "execution_count": 4,
   "metadata": {},
   "outputs": [
    {
     "data": {
      "text/html": [
       "<div>\n",
       "<style scoped>\n",
       "    .dataframe tbody tr th:only-of-type {\n",
       "        vertical-align: middle;\n",
       "    }\n",
       "\n",
       "    .dataframe tbody tr th {\n",
       "        vertical-align: top;\n",
       "    }\n",
       "\n",
       "    .dataframe thead th {\n",
       "        text-align: right;\n",
       "    }\n",
       "</style>\n",
       "<table border=\"1\" class=\"dataframe\">\n",
       "  <thead>\n",
       "    <tr style=\"text-align: right;\">\n",
       "      <th></th>\n",
       "      <th>laptop_ID</th>\n",
       "      <th>Company</th>\n",
       "      <th>Product</th>\n",
       "      <th>TypeName</th>\n",
       "      <th>Inches</th>\n",
       "      <th>ScreenResolution</th>\n",
       "      <th>Cpu</th>\n",
       "      <th>Ram</th>\n",
       "      <th>Memory</th>\n",
       "      <th>Gpu</th>\n",
       "      <th>OpSys</th>\n",
       "      <th>Weight</th>\n",
       "      <th>Price_euros</th>\n",
       "    </tr>\n",
       "  </thead>\n",
       "  <tbody>\n",
       "    <tr>\n",
       "      <th>0</th>\n",
       "      <td>1104</td>\n",
       "      <td>Acer</td>\n",
       "      <td>Aspire ES1-523</td>\n",
       "      <td>Notebook</td>\n",
       "      <td>15.6</td>\n",
       "      <td>1366x768</td>\n",
       "      <td>AMD A8-Series 7410 2.2GHz</td>\n",
       "      <td>4GB</td>\n",
       "      <td>500GB HDD</td>\n",
       "      <td>AMD Radeon R5</td>\n",
       "      <td>Windows 10</td>\n",
       "      <td>2.4kg</td>\n",
       "      <td>387.0</td>\n",
       "    </tr>\n",
       "    <tr>\n",
       "      <th>1</th>\n",
       "      <td>114</td>\n",
       "      <td>Dell</td>\n",
       "      <td>XPS 13</td>\n",
       "      <td>Ultrabook</td>\n",
       "      <td>13.3</td>\n",
       "      <td>Quad HD+ / Touchscreen 3200x1800</td>\n",
       "      <td>Intel Core i7 7560U 2.4GHz</td>\n",
       "      <td>8GB</td>\n",
       "      <td>256GB SSD</td>\n",
       "      <td>Intel Iris Plus Graphics 640</td>\n",
       "      <td>Windows 10</td>\n",
       "      <td>1.23kg</td>\n",
       "      <td>1379.0</td>\n",
       "    </tr>\n",
       "    <tr>\n",
       "      <th>2</th>\n",
       "      <td>172</td>\n",
       "      <td>Acer</td>\n",
       "      <td>Aspire A517-51G</td>\n",
       "      <td>Notebook</td>\n",
       "      <td>17.3</td>\n",
       "      <td>IPS Panel Full HD 1920x1080</td>\n",
       "      <td>Intel Core i5 8250U 1.6GHz</td>\n",
       "      <td>8GB</td>\n",
       "      <td>256GB SSD</td>\n",
       "      <td>Nvidia GeForce MX150</td>\n",
       "      <td>Windows 10</td>\n",
       "      <td>3kg</td>\n",
       "      <td>854.0</td>\n",
       "    </tr>\n",
       "    <tr>\n",
       "      <th>3</th>\n",
       "      <td>918</td>\n",
       "      <td>HP</td>\n",
       "      <td>Elitebook 820</td>\n",
       "      <td>Netbook</td>\n",
       "      <td>12.5</td>\n",
       "      <td>Full HD 1920x1080</td>\n",
       "      <td>Intel Core i7 7500U 2.7GHz</td>\n",
       "      <td>8GB</td>\n",
       "      <td>512GB SSD</td>\n",
       "      <td>Intel HD Graphics 620</td>\n",
       "      <td>Windows 10</td>\n",
       "      <td>1.26kg</td>\n",
       "      <td>1483.0</td>\n",
       "    </tr>\n",
       "    <tr>\n",
       "      <th>4</th>\n",
       "      <td>447</td>\n",
       "      <td>Lenovo</td>\n",
       "      <td>IdeaPad 320-15AST</td>\n",
       "      <td>Notebook</td>\n",
       "      <td>17.3</td>\n",
       "      <td>1600x900</td>\n",
       "      <td>AMD A6-Series 9220 2.5GHz</td>\n",
       "      <td>8GB</td>\n",
       "      <td>1TB HDD</td>\n",
       "      <td>AMD Radeon R4</td>\n",
       "      <td>Windows 10</td>\n",
       "      <td>2.8kg</td>\n",
       "      <td>519.0</td>\n",
       "    </tr>\n",
       "  </tbody>\n",
       "</table>\n",
       "</div>"
      ],
      "text/plain": [
       "   laptop_ID Company            Product   TypeName  Inches   \n",
       "0       1104    Acer     Aspire ES1-523   Notebook    15.6  \\\n",
       "1        114    Dell             XPS 13  Ultrabook    13.3   \n",
       "2        172    Acer    Aspire A517-51G   Notebook    17.3   \n",
       "3        918      HP      Elitebook 820    Netbook    12.5   \n",
       "4        447  Lenovo  IdeaPad 320-15AST   Notebook    17.3   \n",
       "\n",
       "                   ScreenResolution                         Cpu  Ram   \n",
       "0                          1366x768   AMD A8-Series 7410 2.2GHz  4GB  \\\n",
       "1  Quad HD+ / Touchscreen 3200x1800  Intel Core i7 7560U 2.4GHz  8GB   \n",
       "2       IPS Panel Full HD 1920x1080  Intel Core i5 8250U 1.6GHz  8GB   \n",
       "3                 Full HD 1920x1080  Intel Core i7 7500U 2.7GHz  8GB   \n",
       "4                          1600x900   AMD A6-Series 9220 2.5GHz  8GB   \n",
       "\n",
       "      Memory                           Gpu       OpSys  Weight  Price_euros  \n",
       "0  500GB HDD                 AMD Radeon R5  Windows 10   2.4kg        387.0  \n",
       "1  256GB SSD  Intel Iris Plus Graphics 640  Windows 10  1.23kg       1379.0  \n",
       "2  256GB SSD          Nvidia GeForce MX150  Windows 10     3kg        854.0  \n",
       "3  512GB SSD         Intel HD Graphics 620  Windows 10  1.26kg       1483.0  \n",
       "4    1TB HDD                 AMD Radeon R4  Windows 10   2.8kg        519.0  "
      ]
     },
     "execution_count": 4,
     "metadata": {},
     "output_type": "execute_result"
    }
   ],
   "source": [
    "train.head()"
   ]
  },
  {
   "cell_type": "markdown",
   "metadata": {},
   "source": [
    "## Data processing"
   ]
  },
  {
   "cell_type": "code",
   "execution_count": null,
   "metadata": {},
   "outputs": [],
   "source": []
  },
  {
   "cell_type": "code",
   "execution_count": null,
   "metadata": {},
   "outputs": [],
   "source": []
  },
  {
   "cell_type": "code",
   "execution_count": null,
   "metadata": {},
   "outputs": [],
   "source": []
  },
  {
   "cell_type": "markdown",
   "metadata": {},
   "source": [
    "-----------------------------------------------------------------------------------------------------------------"
   ]
  },
  {
   "cell_type": "markdown",
   "metadata": {},
   "source": [
    "## Pasos que si o si debéis realizar para poder participar en la competición:"
   ]
  },
  {
   "cell_type": "markdown",
   "metadata": {},
   "source": [
    "### 1. Definir X e y"
   ]
  },
  {
   "cell_type": "code",
   "execution_count": 11,
   "metadata": {},
   "outputs": [],
   "source": [
    "train = train[['laptop_ID','Inches','Price_euros']]"
   ]
  },
  {
   "cell_type": "code",
   "execution_count": 12,
   "metadata": {},
   "outputs": [
    {
     "data": {
      "text/html": [
       "<div>\n",
       "<style scoped>\n",
       "    .dataframe tbody tr th:only-of-type {\n",
       "        vertical-align: middle;\n",
       "    }\n",
       "\n",
       "    .dataframe tbody tr th {\n",
       "        vertical-align: top;\n",
       "    }\n",
       "\n",
       "    .dataframe thead th {\n",
       "        text-align: right;\n",
       "    }\n",
       "</style>\n",
       "<table border=\"1\" class=\"dataframe\">\n",
       "  <thead>\n",
       "    <tr style=\"text-align: right;\">\n",
       "      <th></th>\n",
       "      <th>laptop_ID</th>\n",
       "      <th>Inches</th>\n",
       "      <th>Price_euros</th>\n",
       "    </tr>\n",
       "  </thead>\n",
       "  <tbody>\n",
       "    <tr>\n",
       "      <th>0</th>\n",
       "      <td>1104</td>\n",
       "      <td>15.6</td>\n",
       "      <td>387.00</td>\n",
       "    </tr>\n",
       "    <tr>\n",
       "      <th>1</th>\n",
       "      <td>114</td>\n",
       "      <td>13.3</td>\n",
       "      <td>1379.00</td>\n",
       "    </tr>\n",
       "    <tr>\n",
       "      <th>2</th>\n",
       "      <td>172</td>\n",
       "      <td>17.3</td>\n",
       "      <td>854.00</td>\n",
       "    </tr>\n",
       "    <tr>\n",
       "      <th>3</th>\n",
       "      <td>918</td>\n",
       "      <td>12.5</td>\n",
       "      <td>1483.00</td>\n",
       "    </tr>\n",
       "    <tr>\n",
       "      <th>4</th>\n",
       "      <td>447</td>\n",
       "      <td>17.3</td>\n",
       "      <td>519.00</td>\n",
       "    </tr>\n",
       "    <tr>\n",
       "      <th>...</th>\n",
       "      <td>...</td>\n",
       "      <td>...</td>\n",
       "      <td>...</td>\n",
       "    </tr>\n",
       "    <tr>\n",
       "      <th>907</th>\n",
       "      <td>996</td>\n",
       "      <td>15.6</td>\n",
       "      <td>549.00</td>\n",
       "    </tr>\n",
       "    <tr>\n",
       "      <th>908</th>\n",
       "      <td>731</td>\n",
       "      <td>17.3</td>\n",
       "      <td>3659.40</td>\n",
       "    </tr>\n",
       "    <tr>\n",
       "      <th>909</th>\n",
       "      <td>276</td>\n",
       "      <td>17.3</td>\n",
       "      <td>1549.00</td>\n",
       "    </tr>\n",
       "    <tr>\n",
       "      <th>910</th>\n",
       "      <td>585</td>\n",
       "      <td>17.3</td>\n",
       "      <td>2729.00</td>\n",
       "    </tr>\n",
       "    <tr>\n",
       "      <th>911</th>\n",
       "      <td>1173</td>\n",
       "      <td>15.6</td>\n",
       "      <td>478.89</td>\n",
       "    </tr>\n",
       "  </tbody>\n",
       "</table>\n",
       "<p>912 rows × 3 columns</p>\n",
       "</div>"
      ],
      "text/plain": [
       "     laptop_ID  Inches  Price_euros\n",
       "0         1104    15.6       387.00\n",
       "1          114    13.3      1379.00\n",
       "2          172    17.3       854.00\n",
       "3          918    12.5      1483.00\n",
       "4          447    17.3       519.00\n",
       "..         ...     ...          ...\n",
       "907        996    15.6       549.00\n",
       "908        731    17.3      3659.40\n",
       "909        276    17.3      1549.00\n",
       "910        585    17.3      2729.00\n",
       "911       1173    15.6       478.89\n",
       "\n",
       "[912 rows x 3 columns]"
      ]
     },
     "execution_count": 12,
     "metadata": {},
     "output_type": "execute_result"
    }
   ],
   "source": [
    "train"
   ]
  },
  {
   "cell_type": "code",
   "execution_count": 13,
   "metadata": {},
   "outputs": [
    {
     "data": {
      "text/plain": [
       "(912, 2)"
      ]
     },
     "execution_count": 13,
     "metadata": {},
     "output_type": "execute_result"
    }
   ],
   "source": [
    "X = train.drop(['Price_euros'], axis=1)\n",
    "y = train['Price_euros'].copy()\n",
    "X.shape"
   ]
  },
  {
   "cell_type": "code",
   "execution_count": 14,
   "metadata": {},
   "outputs": [
    {
     "data": {
      "text/plain": [
       "(912,)"
      ]
     },
     "execution_count": 14,
     "metadata": {},
     "output_type": "execute_result"
    }
   ],
   "source": [
    "y.shape"
   ]
  },
  {
   "cell_type": "markdown",
   "metadata": {},
   "source": [
    "### 2. Dividir X_train, X_test, y_train, y_test"
   ]
  },
  {
   "cell_type": "code",
   "execution_count": 15,
   "metadata": {},
   "outputs": [],
   "source": [
    "from sklearn.model_selection import train_test_split"
   ]
  },
  {
   "cell_type": "code",
   "execution_count": 16,
   "metadata": {},
   "outputs": [],
   "source": [
    "X_train, X_test, y_train, y_test = train_test_split(X, y, test_size = 0.20, random_state = 42)"
   ]
  },
  {
   "cell_type": "code",
   "execution_count": 17,
   "metadata": {},
   "outputs": [
    {
     "data": {
      "text/html": [
       "<div>\n",
       "<style scoped>\n",
       "    .dataframe tbody tr th:only-of-type {\n",
       "        vertical-align: middle;\n",
       "    }\n",
       "\n",
       "    .dataframe tbody tr th {\n",
       "        vertical-align: top;\n",
       "    }\n",
       "\n",
       "    .dataframe thead th {\n",
       "        text-align: right;\n",
       "    }\n",
       "</style>\n",
       "<table border=\"1\" class=\"dataframe\">\n",
       "  <thead>\n",
       "    <tr style=\"text-align: right;\">\n",
       "      <th></th>\n",
       "      <th>laptop_ID</th>\n",
       "      <th>Inches</th>\n",
       "    </tr>\n",
       "  </thead>\n",
       "  <tbody>\n",
       "    <tr>\n",
       "      <th>25</th>\n",
       "      <td>26</td>\n",
       "      <td>15.6</td>\n",
       "    </tr>\n",
       "    <tr>\n",
       "      <th>84</th>\n",
       "      <td>776</td>\n",
       "      <td>15.6</td>\n",
       "    </tr>\n",
       "    <tr>\n",
       "      <th>10</th>\n",
       "      <td>1263</td>\n",
       "      <td>15.6</td>\n",
       "    </tr>\n",
       "    <tr>\n",
       "      <th>342</th>\n",
       "      <td>182</td>\n",
       "      <td>15.6</td>\n",
       "    </tr>\n",
       "    <tr>\n",
       "      <th>890</th>\n",
       "      <td>321</td>\n",
       "      <td>13.3</td>\n",
       "    </tr>\n",
       "    <tr>\n",
       "      <th>...</th>\n",
       "      <td>...</td>\n",
       "      <td>...</td>\n",
       "    </tr>\n",
       "    <tr>\n",
       "      <th>106</th>\n",
       "      <td>394</td>\n",
       "      <td>15.6</td>\n",
       "    </tr>\n",
       "    <tr>\n",
       "      <th>270</th>\n",
       "      <td>441</td>\n",
       "      <td>15.6</td>\n",
       "    </tr>\n",
       "    <tr>\n",
       "      <th>860</th>\n",
       "      <td>955</td>\n",
       "      <td>17.3</td>\n",
       "    </tr>\n",
       "    <tr>\n",
       "      <th>435</th>\n",
       "      <td>210</td>\n",
       "      <td>15.6</td>\n",
       "    </tr>\n",
       "    <tr>\n",
       "      <th>102</th>\n",
       "      <td>673</td>\n",
       "      <td>15.6</td>\n",
       "    </tr>\n",
       "  </tbody>\n",
       "</table>\n",
       "<p>729 rows × 2 columns</p>\n",
       "</div>"
      ],
      "text/plain": [
       "     laptop_ID  Inches\n",
       "25          26    15.6\n",
       "84         776    15.6\n",
       "10        1263    15.6\n",
       "342        182    15.6\n",
       "890        321    13.3\n",
       "..         ...     ...\n",
       "106        394    15.6\n",
       "270        441    15.6\n",
       "860        955    17.3\n",
       "435        210    15.6\n",
       "102        673    15.6\n",
       "\n",
       "[729 rows x 2 columns]"
      ]
     },
     "execution_count": 17,
     "metadata": {},
     "output_type": "execute_result"
    }
   ],
   "source": [
    "X_train"
   ]
  },
  {
   "cell_type": "markdown",
   "metadata": {},
   "source": [
    "### 3. Asignar el modelo (vacío) a una variable\n"
   ]
  },
  {
   "cell_type": "code",
   "execution_count": 22,
   "metadata": {},
   "outputs": [],
   "source": [
    "from sklearn.linear_model import LinearRegression\n",
    "\n",
    "model = LinearRegression()"
   ]
  },
  {
   "cell_type": "code",
   "execution_count": 23,
   "metadata": {},
   "outputs": [
    {
     "data": {
      "text/html": [
       "<style>#sk-container-id-2 {color: black;background-color: white;}#sk-container-id-2 pre{padding: 0;}#sk-container-id-2 div.sk-toggleable {background-color: white;}#sk-container-id-2 label.sk-toggleable__label {cursor: pointer;display: block;width: 100%;margin-bottom: 0;padding: 0.3em;box-sizing: border-box;text-align: center;}#sk-container-id-2 label.sk-toggleable__label-arrow:before {content: \"▸\";float: left;margin-right: 0.25em;color: #696969;}#sk-container-id-2 label.sk-toggleable__label-arrow:hover:before {color: black;}#sk-container-id-2 div.sk-estimator:hover label.sk-toggleable__label-arrow:before {color: black;}#sk-container-id-2 div.sk-toggleable__content {max-height: 0;max-width: 0;overflow: hidden;text-align: left;background-color: #f0f8ff;}#sk-container-id-2 div.sk-toggleable__content pre {margin: 0.2em;color: black;border-radius: 0.25em;background-color: #f0f8ff;}#sk-container-id-2 input.sk-toggleable__control:checked~div.sk-toggleable__content {max-height: 200px;max-width: 100%;overflow: auto;}#sk-container-id-2 input.sk-toggleable__control:checked~label.sk-toggleable__label-arrow:before {content: \"▾\";}#sk-container-id-2 div.sk-estimator input.sk-toggleable__control:checked~label.sk-toggleable__label {background-color: #d4ebff;}#sk-container-id-2 div.sk-label input.sk-toggleable__control:checked~label.sk-toggleable__label {background-color: #d4ebff;}#sk-container-id-2 input.sk-hidden--visually {border: 0;clip: rect(1px 1px 1px 1px);clip: rect(1px, 1px, 1px, 1px);height: 1px;margin: -1px;overflow: hidden;padding: 0;position: absolute;width: 1px;}#sk-container-id-2 div.sk-estimator {font-family: monospace;background-color: #f0f8ff;border: 1px dotted black;border-radius: 0.25em;box-sizing: border-box;margin-bottom: 0.5em;}#sk-container-id-2 div.sk-estimator:hover {background-color: #d4ebff;}#sk-container-id-2 div.sk-parallel-item::after {content: \"\";width: 100%;border-bottom: 1px solid gray;flex-grow: 1;}#sk-container-id-2 div.sk-label:hover label.sk-toggleable__label {background-color: #d4ebff;}#sk-container-id-2 div.sk-serial::before {content: \"\";position: absolute;border-left: 1px solid gray;box-sizing: border-box;top: 0;bottom: 0;left: 50%;z-index: 0;}#sk-container-id-2 div.sk-serial {display: flex;flex-direction: column;align-items: center;background-color: white;padding-right: 0.2em;padding-left: 0.2em;position: relative;}#sk-container-id-2 div.sk-item {position: relative;z-index: 1;}#sk-container-id-2 div.sk-parallel {display: flex;align-items: stretch;justify-content: center;background-color: white;position: relative;}#sk-container-id-2 div.sk-item::before, #sk-container-id-2 div.sk-parallel-item::before {content: \"\";position: absolute;border-left: 1px solid gray;box-sizing: border-box;top: 0;bottom: 0;left: 50%;z-index: -1;}#sk-container-id-2 div.sk-parallel-item {display: flex;flex-direction: column;z-index: 1;position: relative;background-color: white;}#sk-container-id-2 div.sk-parallel-item:first-child::after {align-self: flex-end;width: 50%;}#sk-container-id-2 div.sk-parallel-item:last-child::after {align-self: flex-start;width: 50%;}#sk-container-id-2 div.sk-parallel-item:only-child::after {width: 0;}#sk-container-id-2 div.sk-dashed-wrapped {border: 1px dashed gray;margin: 0 0.4em 0.5em 0.4em;box-sizing: border-box;padding-bottom: 0.4em;background-color: white;}#sk-container-id-2 div.sk-label label {font-family: monospace;font-weight: bold;display: inline-block;line-height: 1.2em;}#sk-container-id-2 div.sk-label-container {text-align: center;}#sk-container-id-2 div.sk-container {/* jupyter's `normalize.less` sets `[hidden] { display: none; }` but bootstrap.min.css set `[hidden] { display: none !important; }` so we also need the `!important` here to be able to override the default hidden behavior on the sphinx rendered scikit-learn.org. See: https://github.com/scikit-learn/scikit-learn/issues/21755 */display: inline-block !important;position: relative;}#sk-container-id-2 div.sk-text-repr-fallback {display: none;}</style><div id=\"sk-container-id-2\" class=\"sk-top-container\"><div class=\"sk-text-repr-fallback\"><pre>LinearRegression()</pre><b>In a Jupyter environment, please rerun this cell to show the HTML representation or trust the notebook. <br />On GitHub, the HTML representation is unable to render, please try loading this page with nbviewer.org.</b></div><div class=\"sk-container\" hidden><div class=\"sk-item\"><div class=\"sk-estimator sk-toggleable\"><input class=\"sk-toggleable__control sk-hidden--visually\" id=\"sk-estimator-id-2\" type=\"checkbox\" checked><label for=\"sk-estimator-id-2\" class=\"sk-toggleable__label sk-toggleable__label-arrow\">LinearRegression</label><div class=\"sk-toggleable__content\"><pre>LinearRegression()</pre></div></div></div></div></div>"
      ],
      "text/plain": [
       "LinearRegression()"
      ]
     },
     "execution_count": 23,
     "metadata": {},
     "output_type": "execute_result"
    }
   ],
   "source": [
    "model.fit(X,y)"
   ]
  },
  {
   "cell_type": "code",
   "execution_count": 20,
   "metadata": {},
   "outputs": [
    {
     "data": {
      "text/plain": [
       "array([1120.43868276, 1069.79534654, 1070.20842432, 1160.62136315,\n",
       "       1208.45577045, 1022.56227854, 1154.97198544, 1077.94506983,\n",
       "       1074.00873993, 1084.55546588, 1135.07084845, 1128.48391161,\n",
       "       1102.85078136, 1054.32277823, 1131.84884174, 1137.90208507,\n",
       "       1085.50151446, 1055.44096704, 1172.81694567, 1116.91773368,\n",
       "       1150.18028315, 1160.67245885, 1083.34429783, 1091.0275446 ,\n",
       "       1124.35313378, 1154.75565863, 1101.65688611, 1126.25329158,\n",
       "       1072.19119768, 1119.5614315 , 1060.10126111, 1030.7727385 ,\n",
       "       1176.36941461, 1144.34609849, 1117.30850377, 1081.93983336,\n",
       "       1168.60355229, 1108.67920842, 1107.55986809, 1173.31263901,\n",
       "       1169.59493897, 1106.80711591, 1139.93595413, 1140.711014  ,\n",
       "       1173.89094791, 1060.22115413, 1083.09645116, 1136.38348519,\n",
       "       1091.60585349, 1098.54556025, 1103.14857221, 1071.7047165 ,\n",
       "       1089.12738679, 1130.05360719, 1137.13623737, 1103.42909025,\n",
       "       1121.40200414, 1081.19629335, 1066.41732088, 1186.72787905,\n",
       "       1140.60609074, 1103.33726254, 1007.11316945, 1090.09070818,\n",
       "       1087.80553789, 1058.28832495, 1080.70060001, 1123.66068947,\n",
       "       1089.70569569, 1105.3200359 , 1089.14811416, 1102.10724135,\n",
       "       1200.19421478, 1070.92389903, 1133.90501849, 1095.57140021,\n",
       "       1167.72630102, 1071.28242656, 1111.92928043, 1114.66480596,\n",
       "       1090.94492904, 1138.45808627, 1154.09473417, 1116.47313604,\n",
       "       1135.83669615, 1119.37389269, 1136.63133186, 1151.83259429,\n",
       "       1195.31989694, 1162.82046332, 1076.82688101, 1059.72546079,\n",
       "       1029.08084687, 1062.16665003, 1073.34781547, 1137.81946951,\n",
       "       1064.09602465, 1097.39815462, 1078.0569022 , 1102.18064474,\n",
       "       1109.12956366, 1113.38829515, 1144.97550309, 1128.64914273,\n",
       "       1070.29103988, 1172.73433012, 1139.85333857, 1141.75349638,\n",
       "       1161.99430775, 1064.73233837, 1140.84472525, 1120.71804929,\n",
       "       1093.75385796, 1135.39209851, 1061.17526335, 1077.23074664,\n",
       "       1083.76658777, 1120.27345165, 1117.21667605, 1118.04283162,\n",
       "       1123.16499613, 1014.71380066, 1098.02180161, 1151.3684208 ,\n",
       "       1105.98096035, 1148.69320313, 1123.9911517 , 1059.3634787 ,\n",
       "       1094.88241046, 1102.56565723, 1128.78285398, 1145.7190431 ,\n",
       "       1107.31202142, 1105.81572924, 1186.23218571, 1019.20656057,\n",
       "       1175.24431667, 1030.77158698, 1098.3895413 , 1088.43839704,\n",
       "       1143.60255848, 1051.54652068, 1115.23390269, 1107.96373371,\n",
       "       1170.91678787, 1043.61542724, 1167.69478116, 1107.38542481,\n",
       "       1044.2763517 , 1101.44631689, 1070.45627099, 1080.5353689 ,\n",
       "       1094.91968792, 1043.24768756, 1070.21763648, 1126.74898492,\n",
       "       1057.95325664, 1124.73469171, 1118.86898719, 1210.35592825,\n",
       "       1034.98613189, 1163.48138777, 1125.20231975, 1117.22588821,\n",
       "       1127.87753742, 1090.54106342, 1098.46294469, 1175.49216334,\n",
       "       1084.83137785, 1120.28266381, 1162.90307888, 1111.40552179,\n",
       "       1172.98217679, 1088.35578149, 1077.97428665, 1129.55791385,\n",
       "       1091.93631572, 1145.05811864, 1052.33539879, 1091.19277571,\n",
       "       1066.21481231, 1137.37487187, 1059.56022967])"
      ]
     },
     "execution_count": 20,
     "metadata": {},
     "output_type": "execute_result"
    }
   ],
   "source": [
    "pred = model.predict(X_test)\n",
    "pred"
   ]
  },
  {
   "cell_type": "markdown",
   "metadata": {},
   "source": [
    "### 4. Sacar métricas, valorar el modelo \n",
    "\n",
    "Recuerda que en la competición se va a evaluar con la métrica de MAE."
   ]
  },
  {
   "cell_type": "code",
   "execution_count": 21,
   "metadata": {},
   "outputs": [
    {
     "name": "stdout",
     "output_type": "stream",
     "text": [
      "RMSE : 705.2026860694585\n"
     ]
    }
   ],
   "source": [
    "from sklearn.metrics import mean_squared_error\n",
    "import numpy as np\n",
    "\n",
    "print('RMSE :',np.sqrt(mean_squared_error(y_test,pred)))"
   ]
  },
  {
   "cell_type": "code",
   "execution_count": null,
   "metadata": {},
   "outputs": [],
   "source": []
  },
  {
   "cell_type": "markdown",
   "metadata": {},
   "source": [
    "-----------------------------------------------------------------"
   ]
  },
  {
   "cell_type": "markdown",
   "metadata": {},
   "source": [
    "## Una vez listo el modelo, toca predecir con el dataset de predicción "
   ]
  },
  {
   "cell_type": "markdown",
   "metadata": {},
   "source": [
    "Definición de **modelo que está listo**. \n",
    "\n",
    "Tras hacer suficientes pruebas, analizar los datos, hacer feature engineering, probar diferentes modelos con diferentes parámetros, es con este con el que observo mejores métricas y menos overfitting. ¡Cuidado con el overfitting aquí! Si vuestro modelo aprende muy bien de estos datos pero hay overfitting cuando le pasemos los datos desconocidos de `test.csv` nos arriesgamos a que digamos, no salga lo esperado."
   ]
  },
  {
   "cell_type": "markdown",
   "metadata": {},
   "source": [
    "### 1. Entrena dicho modelo con TODOS tus datos de train, esto es con `train.csv` al completo.\n",
    "\n",
    "\n",
    "**CON LAS TRANSFORMACIONES QUE LE HAYAS REALIZADO A `X` INCLUÍDAS.**\n",
    "\n",
    "\n",
    "Véase:\n",
    "- Estandarización/Normalización\n",
    "- Eliminación de Outliers\n",
    "- Eliminación de columnas\n",
    "- Creación de columnas nuevas\n",
    "- Gestión de valores nulos\n",
    "- Y un largo etcétera de técnicas que como Data Scientist hayas considerado las mejores para tu dataset."
   ]
  },
  {
   "cell_type": "code",
   "execution_count": null,
   "metadata": {},
   "outputs": [],
   "source": []
  },
  {
   "cell_type": "markdown",
   "metadata": {},
   "source": [
    "### 2. Carga los datos de `test.csv` para predecir."
   ]
  },
  {
   "cell_type": "code",
   "execution_count": 35,
   "metadata": {},
   "outputs": [
    {
     "data": {
      "text/html": [
       "<div>\n",
       "<style scoped>\n",
       "    .dataframe tbody tr th:only-of-type {\n",
       "        vertical-align: middle;\n",
       "    }\n",
       "\n",
       "    .dataframe tbody tr th {\n",
       "        vertical-align: top;\n",
       "    }\n",
       "\n",
       "    .dataframe thead th {\n",
       "        text-align: right;\n",
       "    }\n",
       "</style>\n",
       "<table border=\"1\" class=\"dataframe\">\n",
       "  <thead>\n",
       "    <tr style=\"text-align: right;\">\n",
       "      <th></th>\n",
       "      <th>laptop_ID</th>\n",
       "      <th>Company</th>\n",
       "      <th>Product</th>\n",
       "      <th>TypeName</th>\n",
       "      <th>Inches</th>\n",
       "      <th>ScreenResolution</th>\n",
       "      <th>Cpu</th>\n",
       "      <th>Ram</th>\n",
       "      <th>Memory</th>\n",
       "      <th>Gpu</th>\n",
       "      <th>OpSys</th>\n",
       "      <th>Weight</th>\n",
       "    </tr>\n",
       "  </thead>\n",
       "  <tbody>\n",
       "    <tr>\n",
       "      <th>0</th>\n",
       "      <td>750</td>\n",
       "      <td>Toshiba</td>\n",
       "      <td>Tecra X40-D-10G</td>\n",
       "      <td>Notebook</td>\n",
       "      <td>14.0</td>\n",
       "      <td>IPS Panel Full HD / Touchscreen 1920x1080</td>\n",
       "      <td>Intel Core i5 7200U 2.5GHz</td>\n",
       "      <td>8GB</td>\n",
       "      <td>256GB SSD</td>\n",
       "      <td>Intel HD Graphics 620</td>\n",
       "      <td>Windows 10</td>\n",
       "      <td>1.25kg</td>\n",
       "    </tr>\n",
       "    <tr>\n",
       "      <th>1</th>\n",
       "      <td>726</td>\n",
       "      <td>Mediacom</td>\n",
       "      <td>Smartbook 142</td>\n",
       "      <td>Notebook</td>\n",
       "      <td>14.0</td>\n",
       "      <td>IPS Panel Full HD 1920x1200</td>\n",
       "      <td>Intel Atom Z8350 1.92GHz</td>\n",
       "      <td>4GB</td>\n",
       "      <td>32GB HDD</td>\n",
       "      <td>Intel HD Graphics 400</td>\n",
       "      <td>Windows 10</td>\n",
       "      <td>1.4kg</td>\n",
       "    </tr>\n",
       "    <tr>\n",
       "      <th>2</th>\n",
       "      <td>633</td>\n",
       "      <td>Mediacom</td>\n",
       "      <td>SmartBook 140</td>\n",
       "      <td>Notebook</td>\n",
       "      <td>14.0</td>\n",
       "      <td>Full HD 1920x1080</td>\n",
       "      <td>Intel Atom x5-Z8350 1.44GHz</td>\n",
       "      <td>2GB</td>\n",
       "      <td>32GB Flash Storage</td>\n",
       "      <td>Intel HD Graphics</td>\n",
       "      <td>Windows 10</td>\n",
       "      <td>1.4kg</td>\n",
       "    </tr>\n",
       "    <tr>\n",
       "      <th>3</th>\n",
       "      <td>363</td>\n",
       "      <td>Dell</td>\n",
       "      <td>Inspiron 7577</td>\n",
       "      <td>Gaming</td>\n",
       "      <td>15.6</td>\n",
       "      <td>Full HD 1920x1080</td>\n",
       "      <td>Intel Core i5 7300HQ 2.5GHz</td>\n",
       "      <td>8GB</td>\n",
       "      <td>1TB HDD</td>\n",
       "      <td>Nvidia GeForce GTX 1050</td>\n",
       "      <td>Windows 10</td>\n",
       "      <td>2.65kg</td>\n",
       "    </tr>\n",
       "    <tr>\n",
       "      <th>4</th>\n",
       "      <td>319</td>\n",
       "      <td>Asus</td>\n",
       "      <td>VivoBook Flip</td>\n",
       "      <td>2 in 1 Convertible</td>\n",
       "      <td>11.6</td>\n",
       "      <td>Touchscreen 1366x768</td>\n",
       "      <td>Intel Celeron Dual Core N3350 1.1GHz</td>\n",
       "      <td>2GB</td>\n",
       "      <td>32GB Flash Storage</td>\n",
       "      <td>Intel HD Graphics 500</td>\n",
       "      <td>Windows 10</td>\n",
       "      <td>1.1kg</td>\n",
       "    </tr>\n",
       "  </tbody>\n",
       "</table>\n",
       "</div>"
      ],
      "text/plain": [
       "   laptop_ID   Company          Product            TypeName  Inches   \n",
       "0        750   Toshiba  Tecra X40-D-10G            Notebook    14.0  \\\n",
       "1        726  Mediacom    Smartbook 142            Notebook    14.0   \n",
       "2        633  Mediacom    SmartBook 140            Notebook    14.0   \n",
       "3        363      Dell    Inspiron 7577              Gaming    15.6   \n",
       "4        319      Asus    VivoBook Flip  2 in 1 Convertible    11.6   \n",
       "\n",
       "                            ScreenResolution   \n",
       "0  IPS Panel Full HD / Touchscreen 1920x1080  \\\n",
       "1                IPS Panel Full HD 1920x1200   \n",
       "2                          Full HD 1920x1080   \n",
       "3                          Full HD 1920x1080   \n",
       "4                       Touchscreen 1366x768   \n",
       "\n",
       "                                    Cpu  Ram              Memory   \n",
       "0            Intel Core i5 7200U 2.5GHz  8GB           256GB SSD  \\\n",
       "1              Intel Atom Z8350 1.92GHz  4GB            32GB HDD   \n",
       "2           Intel Atom x5-Z8350 1.44GHz  2GB  32GB Flash Storage   \n",
       "3           Intel Core i5 7300HQ 2.5GHz  8GB             1TB HDD   \n",
       "4  Intel Celeron Dual Core N3350 1.1GHz  2GB  32GB Flash Storage   \n",
       "\n",
       "                       Gpu       OpSys  Weight  \n",
       "0    Intel HD Graphics 620  Windows 10  1.25kg  \n",
       "1    Intel HD Graphics 400  Windows 10   1.4kg  \n",
       "2        Intel HD Graphics  Windows 10   1.4kg  \n",
       "3  Nvidia GeForce GTX 1050  Windows 10  2.65kg  \n",
       "4    Intel HD Graphics 500  Windows 10   1.1kg  "
      ]
     },
     "execution_count": 35,
     "metadata": {},
     "output_type": "execute_result"
    }
   ],
   "source": [
    "X_pred = pd.read_csv(\"data/test.csv\")\n",
    "X_pred.head()"
   ]
  },
  {
   "cell_type": "code",
   "execution_count": 36,
   "metadata": {},
   "outputs": [],
   "source": [
    "X_pred=X_pred[['laptop_ID','Inches']]"
   ]
  },
  {
   "cell_type": "code",
   "execution_count": 37,
   "metadata": {},
   "outputs": [
    {
     "data": {
      "text/html": [
       "<div>\n",
       "<style scoped>\n",
       "    .dataframe tbody tr th:only-of-type {\n",
       "        vertical-align: middle;\n",
       "    }\n",
       "\n",
       "    .dataframe tbody tr th {\n",
       "        vertical-align: top;\n",
       "    }\n",
       "\n",
       "    .dataframe thead th {\n",
       "        text-align: right;\n",
       "    }\n",
       "</style>\n",
       "<table border=\"1\" class=\"dataframe\">\n",
       "  <thead>\n",
       "    <tr style=\"text-align: right;\">\n",
       "      <th></th>\n",
       "      <th>laptop_ID</th>\n",
       "      <th>Inches</th>\n",
       "    </tr>\n",
       "  </thead>\n",
       "  <tbody>\n",
       "    <tr>\n",
       "      <th>0</th>\n",
       "      <td>750</td>\n",
       "      <td>14.0</td>\n",
       "    </tr>\n",
       "    <tr>\n",
       "      <th>1</th>\n",
       "      <td>726</td>\n",
       "      <td>14.0</td>\n",
       "    </tr>\n",
       "    <tr>\n",
       "      <th>2</th>\n",
       "      <td>633</td>\n",
       "      <td>14.0</td>\n",
       "    </tr>\n",
       "    <tr>\n",
       "      <th>3</th>\n",
       "      <td>363</td>\n",
       "      <td>15.6</td>\n",
       "    </tr>\n",
       "    <tr>\n",
       "      <th>4</th>\n",
       "      <td>319</td>\n",
       "      <td>11.6</td>\n",
       "    </tr>\n",
       "    <tr>\n",
       "      <th>...</th>\n",
       "      <td>...</td>\n",
       "      <td>...</td>\n",
       "    </tr>\n",
       "    <tr>\n",
       "      <th>386</th>\n",
       "      <td>693</td>\n",
       "      <td>15.6</td>\n",
       "    </tr>\n",
       "    <tr>\n",
       "      <th>387</th>\n",
       "      <td>1132</td>\n",
       "      <td>12.5</td>\n",
       "    </tr>\n",
       "    <tr>\n",
       "      <th>388</th>\n",
       "      <td>49</td>\n",
       "      <td>15.6</td>\n",
       "    </tr>\n",
       "    <tr>\n",
       "      <th>389</th>\n",
       "      <td>1243</td>\n",
       "      <td>15.6</td>\n",
       "    </tr>\n",
       "    <tr>\n",
       "      <th>390</th>\n",
       "      <td>924</td>\n",
       "      <td>12.5</td>\n",
       "    </tr>\n",
       "  </tbody>\n",
       "</table>\n",
       "<p>391 rows × 2 columns</p>\n",
       "</div>"
      ],
      "text/plain": [
       "     laptop_ID  Inches\n",
       "0          750    14.0\n",
       "1          726    14.0\n",
       "2          633    14.0\n",
       "3          363    15.6\n",
       "4          319    11.6\n",
       "..         ...     ...\n",
       "386        693    15.6\n",
       "387       1132    12.5\n",
       "388         49    15.6\n",
       "389       1243    15.6\n",
       "390        924    12.5\n",
       "\n",
       "[391 rows x 2 columns]"
      ]
     },
     "execution_count": 37,
     "metadata": {},
     "output_type": "execute_result"
    }
   ],
   "source": [
    "X_pred"
   ]
  },
  {
   "cell_type": "markdown",
   "metadata": {},
   "source": [
    "**¿Por qué da error?** "
   ]
  },
  {
   "cell_type": "code",
   "execution_count": 38,
   "metadata": {},
   "outputs": [
    {
     "data": {
      "text/plain": [
       "array([1097.6423004 , 1095.00755928, 1084.79793741, 1101.01825451,\n",
       "        981.53500887, 1062.70472731, 1123.17875843, 1136.91660235,\n",
       "       1100.68891187, 1171.05845611, 1061.49713762, 1039.67799563,\n",
       "       1120.5592512 , 1084.55112248, 1067.42530516, 1144.60126397,\n",
       "       1008.086748  , 1087.21311678, 1117.59516743, 1166.6672209 ,\n",
       "       1136.28517025, 1137.01114934, 1201.1384173 , 1195.5395924 ,\n",
       "       1155.57935199, 1095.22712104, 1205.96877603, 1141.07304191,\n",
       "       1087.734768  , 1145.58929189, 1069.84048452, 1117.48538655,\n",
       "       1169.08240026, 1183.02457206, 1166.99656354, 1048.59589281,\n",
       "       1143.28389341, 1069.57766753, 1078.759989  , 1072.74768646,\n",
       "       1196.62216731, 1063.58297435, 1030.59182845,  995.79128941,\n",
       "       1065.55903019, 1129.78084514, 1071.26763597, 1167.64001493,\n",
       "       1224.39673002, 1248.32896191, 1181.26807797, 1092.56512673,\n",
       "       1090.69885177, 1189.17230135, 1066.32749635, 1158.8727784 ,\n",
       "       1102.11606331, 1053.33170455, 1106.66997846, 1072.30856294,\n",
       "       1065.99815371, 1100.57913099, 1154.26198143, 1132.7449289 ,\n",
       "       1091.57709881, 1115.16475417, 1086.52717832, 1132.07100973,\n",
       "       1118.14407183, 1168.8628385 , 1171.60736051, 1000.2923055 ,\n",
       "       1196.51238643, 1005.56178775, 1198.39389529, 1106.068175  ,\n",
       "       1090.36950913, 1057.41120648, 1150.74899326, 1201.35797906,\n",
       "       1198.94279969, 1099.26176043, 1052.74192038, 1197.39063348,\n",
       "       1175.32467655, 1112.65502782, 1137.18906317, 1073.62593351,\n",
       "       1077.1958035 , 1138.98720518, 1055.51208827, 1124.18202024,\n",
       "       1122.86464968, 1103.26677117, 1182.03654413, 1141.11552898,\n",
       "       1162.82489009, 1101.34759715, 1194.4417836 , 1070.60895068,\n",
       "       1115.94845423, 1100.14000747, 1093.99227818, 1068.8524566 ,\n",
       "       1151.39244465, 1114.74086454, 1109.47138229, 1161.17817689,\n",
       "       1147.34578598, 1187.96471167, 1121.24518966, 1023.94970111,\n",
       "       1021.60342286, 1133.60794205, 1114.68398272, 1025.43212708,\n",
       "       1040.76378515, 1164.89549292, 1076.015467  , 1061.4402558 ,\n",
       "       1193.12441304, 1121.5745323 , 1232.19117251, 1086.90942002,\n",
       "       1158.76299752, 1179.07246037, 1077.63492702, 1099.3042475 ,\n",
       "       1086.3741422 , 1027.38253705, 1194.66134536, 1093.44337378,\n",
       "       1103.43343388, 1113.51804097, 1027.46268928, 1040.58188855,\n",
       "       1016.29466814, 1244.92575462, 1129.59894854, 1069.3188333 ,\n",
       "       1039.78777651, 1199.05258057, 1123.52333496, 1153.82285791,\n",
       "       1115.28976894, 1206.07855691, 1135.0350935 , 1084.77068424,\n",
       "       1108.37357349, 1129.67106426, 1087.51520624, 1193.23419392,\n",
       "       1058.03704851, 1018.81962839, 1094.54118258, 1085.10002688,\n",
       "       1039.77575723, 1148.55337566, 1043.08602483, 1093.00425025,\n",
       "       1131.85144797, 1191.47769984, 1171.16823699, 1197.84499089,\n",
       "       1144.05235957, 1230.21511667, 1029.82336229, 1082.13594311,\n",
       "       1008.76066717, 1086.6369592 , 1139.33178172, 1201.6873217 ,\n",
       "       1128.57325545, 1142.73498901, 1083.89243719, 1080.59901079,\n",
       "       1118.12883794, 1106.01129318, 1038.72924018, 1002.17381436,\n",
       "       1101.12803539, 1093.3335929 , 1171.71714139, 1134.06229947,\n",
       "       1232.63029603, 1115.72889247, 1104.47436085, 1151.50222553,\n",
       "        985.37733968, 1133.95251859, 1097.7248281 , 1180.93873533,\n",
       "       1119.84368409, 1183.3539147 , 1164.47160329, 1238.77802533,\n",
       "        996.99887909, 1131.53733922, 1139.86545223, 1118.69297623,\n",
       "       1094.05880382, 1098.82263691, 1005.23244511, 1083.56309455,\n",
       "       1113.18869833, 1021.48001539, 1112.92748863, 1015.55184786,\n",
       "       1121.54727912, 1053.94951007, 1005.89113039, 1137.46550675,\n",
       "       1120.22990856, 1105.76608554, 1133.73295683, 1102.55518684,\n",
       "       1162.16620481, 1231.42270635, 1067.7546478 , 1088.39345328,\n",
       "       1079.61098286, 1197.29608649, 1131.12546888, 1132.1960245 ,\n",
       "       1138.3285199 , 1079.3088934 , 1091.86318622, 1125.93851433,\n",
       "       1008.19652888, 1101.72983885, 1143.59800216, 1161.06839601,\n",
       "       1105.62905148, 1117.68971442, 1139.4415626 , 1038.27649007,\n",
       "       1178.08443245, 1071.92632125, 1121.76684088, 1129.56128338,\n",
       "       1144.62851715,  994.48915274, 1005.74529165, 1224.72607266,\n",
       "       1141.74696108, 1078.54042724, 1013.56538003, 1132.1134968 ,\n",
       "       1130.90590712, 1130.68634536, 1104.9703662 , 1128.35369369,\n",
       "       1055.59622327, 1063.91231699, 1037.19391516, 1190.27011015,\n",
       "       1119.07521793, 1108.86559606, 1027.42180951, 1148.44359478,\n",
       "       1032.54223842, 1045.82572493, 1103.13134442, 1195.10046888,\n",
       "       1105.84861324, 1108.0971299 , 1137.35572587, 1204.87096723,\n",
       "       1016.9789993 , 1071.37741685, 1177.2061854 , 1162.71510921,\n",
       "       1087.07608272, 1168.64327674, 1190.91356154, 1192.35594688,\n",
       "       1218.907686  , 1118.03429095, 1198.72323793, 1242.40079438,\n",
       "       1097.33860364, 1118.74587529, 1228.56840347, 1171.81168838,\n",
       "       1169.74108555, 1133.84273771, 1070.82851244, 1146.78164768,\n",
       "       1208.69806414, 1122.80776786, 1079.72076374, 1170.28998995,\n",
       "       1203.55359666, 1085.86849304, 1090.58907089, 1204.63617157,\n",
       "       1081.87473342, 1131.08298181, 1112.48836511, 1098.95967097,\n",
       "       1121.65706   , 1077.30558438, 1144.71104485, 1232.95963868,\n",
       "       1070.63620386, 1136.14813619, 1086.66421238, 1097.39548546,\n",
       "       1186.30276457, 1049.91326337, 1077.70145266, 1168.75305762,\n",
       "       1068.52311396, 1095.58210955, 1168.3139341 , 1067.69776597,\n",
       "       1138.76764342, 1152.42295965, 1139.82380429, 1111.11809549,\n",
       "       1086.11530798, 1090.47929001, 1124.27656723, 1173.23883982,\n",
       "       1120.66903208, 1131.52210533, 1109.60841635, 1062.37538467,\n",
       "       1184.56150438, 1116.71692039, 1079.11497752, 1124.73092465,\n",
       "       1234.05744748, 1133.51339507, 1103.21387212, 1150.63921238,\n",
       "       1140.42959052, 1089.16191945, 1016.40444902, 1178.63333685,\n",
       "       1031.5542105 , 1108.70291613, 1204.98074811, 1098.49329427,\n",
       "       1203.22425402, 1072.69478741, 1114.9604263 , 1160.72381947,\n",
       "       1070.93829332, 1143.10199681, 1124.84070553, 1144.73829803,\n",
       "       1119.35166151, 1148.77293742, 1073.35347269, 1060.53636288,\n",
       "       1103.68024882, 1136.57202582, 1229.55643139, 1126.48741873,\n",
       "       1133.45651324, 1184.34194262, 1071.59697861, 1154.68587106,\n",
       "       1111.80403396, 1072.58500653, 1159.64124456, 1180.28005005,\n",
       "       1143.42092747, 1123.19399232, 1045.20791941, 1065.22968755,\n",
       "       1214.51645079, 1186.86690286, 1191.80704248, 1094.67821664,\n",
       "       1136.47747883, 1154.06967285, 1120.01034679, 1098.21685068,\n",
       "       1021.71481104, 1041.35035471, 1012.27365534, 1097.28570458,\n",
       "       1188.62339695, 1100.24978835, 1137.24594499, 1096.58376407,\n",
       "       1066.54705812, 1197.62542913, 1073.74934098])"
      ]
     },
     "execution_count": 38,
     "metadata": {},
     "output_type": "execute_result"
    }
   ],
   "source": [
    "predictions_submit = model.predict(X_pred)\n",
    "predictions_submit"
   ]
  },
  {
   "cell_type": "markdown",
   "metadata": {},
   "source": [
    "IMPORTANTE: APLICAR LO MISMO A ESTOS DATOS QUE HAYÁIS APLICADO A LOS DATOS DE ENTRENAMIENTO\n",
    "\n",
    "- SI EL ARRAY CON EL QUE HICISTEIS `.fit()` ERA DE 4 COLUMNAS, PARA `.predict()` DEBEN SER LAS MISMAS\n",
    "- SI AL ARRAY CON EL QUE HICISTEIS `.fit()` LO NORMALIZASTEIS, PARA `.predict()` DEBÉIS NORMALIZARLO\n",
    "- TODO IGUAL SALVO BORRAR FILAS, EL NÚMERO DE ROWS SE DEBE MANTENER EN ESTE SET, PUES LA PREDICCIÓN DEBE TENER 391 FILAS, SI O SI"
   ]
  },
  {
   "cell_type": "markdown",
   "metadata": {},
   "source": [
    "**Entonces, si al cargar los datos de train usé `index_col=0` para que utilizara la primera columna del conjunto de datos como índice, ¿tendré que hacerlo también para el conjunto `test.csv`?**"
   ]
  },
  {
   "cell_type": "code",
   "execution_count": null,
   "metadata": {},
   "outputs": [],
   "source": [
    "# ¿Qué opináis?\n",
    "# Sí"
   ]
  },
  {
   "cell_type": "markdown",
   "metadata": {},
   "source": [
    "![](https://www.tierraljelechu.com/web/img/wiki_up/1.996-SorpresaDto.-1-Red.jpg)"
   ]
  },
  {
   "cell_type": "markdown",
   "metadata": {},
   "source": [
    "### 3. AHORA puedo hacer la predicción que será lo que subirás a Kaggle. "
   ]
  },
  {
   "cell_type": "markdown",
   "metadata": {},
   "source": [
    "**¿Qué es lo que subirás a Kaggle?**"
   ]
  },
  {
   "cell_type": "code",
   "execution_count": 43,
   "metadata": {},
   "outputs": [
    {
     "data": {
      "text/plain": [
       "array([1097.6423004 , 1095.00755928, 1084.79793741, 1101.01825451,\n",
       "        981.53500887, 1062.70472731, 1123.17875843, 1136.91660235,\n",
       "       1100.68891187, 1171.05845611, 1061.49713762, 1039.67799563,\n",
       "       1120.5592512 , 1084.55112248, 1067.42530516, 1144.60126397,\n",
       "       1008.086748  , 1087.21311678, 1117.59516743, 1166.6672209 ,\n",
       "       1136.28517025, 1137.01114934, 1201.1384173 , 1195.5395924 ,\n",
       "       1155.57935199, 1095.22712104, 1205.96877603, 1141.07304191,\n",
       "       1087.734768  , 1145.58929189, 1069.84048452, 1117.48538655,\n",
       "       1169.08240026, 1183.02457206, 1166.99656354, 1048.59589281,\n",
       "       1143.28389341, 1069.57766753, 1078.759989  , 1072.74768646,\n",
       "       1196.62216731, 1063.58297435, 1030.59182845,  995.79128941,\n",
       "       1065.55903019, 1129.78084514, 1071.26763597, 1167.64001493,\n",
       "       1224.39673002, 1248.32896191, 1181.26807797, 1092.56512673,\n",
       "       1090.69885177, 1189.17230135, 1066.32749635, 1158.8727784 ,\n",
       "       1102.11606331, 1053.33170455, 1106.66997846, 1072.30856294,\n",
       "       1065.99815371, 1100.57913099, 1154.26198143, 1132.7449289 ,\n",
       "       1091.57709881, 1115.16475417, 1086.52717832, 1132.07100973,\n",
       "       1118.14407183, 1168.8628385 , 1171.60736051, 1000.2923055 ,\n",
       "       1196.51238643, 1005.56178775, 1198.39389529, 1106.068175  ,\n",
       "       1090.36950913, 1057.41120648, 1150.74899326, 1201.35797906,\n",
       "       1198.94279969, 1099.26176043, 1052.74192038, 1197.39063348,\n",
       "       1175.32467655, 1112.65502782, 1137.18906317, 1073.62593351,\n",
       "       1077.1958035 , 1138.98720518, 1055.51208827, 1124.18202024,\n",
       "       1122.86464968, 1103.26677117, 1182.03654413, 1141.11552898,\n",
       "       1162.82489009, 1101.34759715, 1194.4417836 , 1070.60895068,\n",
       "       1115.94845423, 1100.14000747, 1093.99227818, 1068.8524566 ,\n",
       "       1151.39244465, 1114.74086454, 1109.47138229, 1161.17817689,\n",
       "       1147.34578598, 1187.96471167, 1121.24518966, 1023.94970111,\n",
       "       1021.60342286, 1133.60794205, 1114.68398272, 1025.43212708,\n",
       "       1040.76378515, 1164.89549292, 1076.015467  , 1061.4402558 ,\n",
       "       1193.12441304, 1121.5745323 , 1232.19117251, 1086.90942002,\n",
       "       1158.76299752, 1179.07246037, 1077.63492702, 1099.3042475 ,\n",
       "       1086.3741422 , 1027.38253705, 1194.66134536, 1093.44337378,\n",
       "       1103.43343388, 1113.51804097, 1027.46268928, 1040.58188855,\n",
       "       1016.29466814, 1244.92575462, 1129.59894854, 1069.3188333 ,\n",
       "       1039.78777651, 1199.05258057, 1123.52333496, 1153.82285791,\n",
       "       1115.28976894, 1206.07855691, 1135.0350935 , 1084.77068424,\n",
       "       1108.37357349, 1129.67106426, 1087.51520624, 1193.23419392,\n",
       "       1058.03704851, 1018.81962839, 1094.54118258, 1085.10002688,\n",
       "       1039.77575723, 1148.55337566, 1043.08602483, 1093.00425025,\n",
       "       1131.85144797, 1191.47769984, 1171.16823699, 1197.84499089,\n",
       "       1144.05235957, 1230.21511667, 1029.82336229, 1082.13594311,\n",
       "       1008.76066717, 1086.6369592 , 1139.33178172, 1201.6873217 ,\n",
       "       1128.57325545, 1142.73498901, 1083.89243719, 1080.59901079,\n",
       "       1118.12883794, 1106.01129318, 1038.72924018, 1002.17381436,\n",
       "       1101.12803539, 1093.3335929 , 1171.71714139, 1134.06229947,\n",
       "       1232.63029603, 1115.72889247, 1104.47436085, 1151.50222553,\n",
       "        985.37733968, 1133.95251859, 1097.7248281 , 1180.93873533,\n",
       "       1119.84368409, 1183.3539147 , 1164.47160329, 1238.77802533,\n",
       "        996.99887909, 1131.53733922, 1139.86545223, 1118.69297623,\n",
       "       1094.05880382, 1098.82263691, 1005.23244511, 1083.56309455,\n",
       "       1113.18869833, 1021.48001539, 1112.92748863, 1015.55184786,\n",
       "       1121.54727912, 1053.94951007, 1005.89113039, 1137.46550675,\n",
       "       1120.22990856, 1105.76608554, 1133.73295683, 1102.55518684,\n",
       "       1162.16620481, 1231.42270635, 1067.7546478 , 1088.39345328,\n",
       "       1079.61098286, 1197.29608649, 1131.12546888, 1132.1960245 ,\n",
       "       1138.3285199 , 1079.3088934 , 1091.86318622, 1125.93851433,\n",
       "       1008.19652888, 1101.72983885, 1143.59800216, 1161.06839601,\n",
       "       1105.62905148, 1117.68971442, 1139.4415626 , 1038.27649007,\n",
       "       1178.08443245, 1071.92632125, 1121.76684088, 1129.56128338,\n",
       "       1144.62851715,  994.48915274, 1005.74529165, 1224.72607266,\n",
       "       1141.74696108, 1078.54042724, 1013.56538003, 1132.1134968 ,\n",
       "       1130.90590712, 1130.68634536, 1104.9703662 , 1128.35369369,\n",
       "       1055.59622327, 1063.91231699, 1037.19391516, 1190.27011015,\n",
       "       1119.07521793, 1108.86559606, 1027.42180951, 1148.44359478,\n",
       "       1032.54223842, 1045.82572493, 1103.13134442, 1195.10046888,\n",
       "       1105.84861324, 1108.0971299 , 1137.35572587, 1204.87096723,\n",
       "       1016.9789993 , 1071.37741685, 1177.2061854 , 1162.71510921,\n",
       "       1087.07608272, 1168.64327674, 1190.91356154, 1192.35594688,\n",
       "       1218.907686  , 1118.03429095, 1198.72323793, 1242.40079438,\n",
       "       1097.33860364, 1118.74587529, 1228.56840347, 1171.81168838,\n",
       "       1169.74108555, 1133.84273771, 1070.82851244, 1146.78164768,\n",
       "       1208.69806414, 1122.80776786, 1079.72076374, 1170.28998995,\n",
       "       1203.55359666, 1085.86849304, 1090.58907089, 1204.63617157,\n",
       "       1081.87473342, 1131.08298181, 1112.48836511, 1098.95967097,\n",
       "       1121.65706   , 1077.30558438, 1144.71104485, 1232.95963868,\n",
       "       1070.63620386, 1136.14813619, 1086.66421238, 1097.39548546,\n",
       "       1186.30276457, 1049.91326337, 1077.70145266, 1168.75305762,\n",
       "       1068.52311396, 1095.58210955, 1168.3139341 , 1067.69776597,\n",
       "       1138.76764342, 1152.42295965, 1139.82380429, 1111.11809549,\n",
       "       1086.11530798, 1090.47929001, 1124.27656723, 1173.23883982,\n",
       "       1120.66903208, 1131.52210533, 1109.60841635, 1062.37538467,\n",
       "       1184.56150438, 1116.71692039, 1079.11497752, 1124.73092465,\n",
       "       1234.05744748, 1133.51339507, 1103.21387212, 1150.63921238,\n",
       "       1140.42959052, 1089.16191945, 1016.40444902, 1178.63333685,\n",
       "       1031.5542105 , 1108.70291613, 1204.98074811, 1098.49329427,\n",
       "       1203.22425402, 1072.69478741, 1114.9604263 , 1160.72381947,\n",
       "       1070.93829332, 1143.10199681, 1124.84070553, 1144.73829803,\n",
       "       1119.35166151, 1148.77293742, 1073.35347269, 1060.53636288,\n",
       "       1103.68024882, 1136.57202582, 1229.55643139, 1126.48741873,\n",
       "       1133.45651324, 1184.34194262, 1071.59697861, 1154.68587106,\n",
       "       1111.80403396, 1072.58500653, 1159.64124456, 1180.28005005,\n",
       "       1143.42092747, 1123.19399232, 1045.20791941, 1065.22968755,\n",
       "       1214.51645079, 1186.86690286, 1191.80704248, 1094.67821664,\n",
       "       1136.47747883, 1154.06967285, 1120.01034679, 1098.21685068,\n",
       "       1021.71481104, 1041.35035471, 1012.27365534, 1097.28570458,\n",
       "       1188.62339695, 1100.24978835, 1137.24594499, 1096.58376407,\n",
       "       1066.54705812, 1197.62542913, 1073.74934098])"
      ]
     },
     "execution_count": 43,
     "metadata": {},
     "output_type": "execute_result"
    }
   ],
   "source": [
    "predictions_submit = model.predict(X_pred)\n",
    "predictions_submit"
   ]
  },
  {
   "cell_type": "markdown",
   "metadata": {},
   "source": [
    "**¡PERO! Para subir a Kaggle la predicción, ésta tendrá que tener una forma específica y no valdrá otra.**\n",
    "\n",
    "En este caso, la **MISMA** forma que `sample_submission.csv`. "
   ]
  },
  {
   "cell_type": "code",
   "execution_count": 44,
   "metadata": {},
   "outputs": [],
   "source": [
    "sample = pd.read_csv(\"data/sample_submission.csv\")"
   ]
  },
  {
   "cell_type": "code",
   "execution_count": 45,
   "metadata": {},
   "outputs": [
    {
     "data": {
      "text/html": [
       "<div>\n",
       "<style scoped>\n",
       "    .dataframe tbody tr th:only-of-type {\n",
       "        vertical-align: middle;\n",
       "    }\n",
       "\n",
       "    .dataframe tbody tr th {\n",
       "        vertical-align: top;\n",
       "    }\n",
       "\n",
       "    .dataframe thead th {\n",
       "        text-align: right;\n",
       "    }\n",
       "</style>\n",
       "<table border=\"1\" class=\"dataframe\">\n",
       "  <thead>\n",
       "    <tr style=\"text-align: right;\">\n",
       "      <th></th>\n",
       "      <th>laptop_ID</th>\n",
       "      <th>Price_euros</th>\n",
       "    </tr>\n",
       "  </thead>\n",
       "  <tbody>\n",
       "    <tr>\n",
       "      <th>0</th>\n",
       "      <td>750</td>\n",
       "      <td>500</td>\n",
       "    </tr>\n",
       "    <tr>\n",
       "      <th>1</th>\n",
       "      <td>726</td>\n",
       "      <td>500</td>\n",
       "    </tr>\n",
       "    <tr>\n",
       "      <th>2</th>\n",
       "      <td>633</td>\n",
       "      <td>500</td>\n",
       "    </tr>\n",
       "    <tr>\n",
       "      <th>3</th>\n",
       "      <td>363</td>\n",
       "      <td>650</td>\n",
       "    </tr>\n",
       "    <tr>\n",
       "      <th>4</th>\n",
       "      <td>319</td>\n",
       "      <td>650</td>\n",
       "    </tr>\n",
       "  </tbody>\n",
       "</table>\n",
       "</div>"
      ],
      "text/plain": [
       "   laptop_ID  Price_euros\n",
       "0        750          500\n",
       "1        726          500\n",
       "2        633          500\n",
       "3        363          650\n",
       "4        319          650"
      ]
     },
     "execution_count": 45,
     "metadata": {},
     "output_type": "execute_result"
    }
   ],
   "source": [
    "sample.head()"
   ]
  },
  {
   "cell_type": "code",
   "execution_count": 46,
   "metadata": {},
   "outputs": [
    {
     "data": {
      "text/plain": [
       "(391, 2)"
      ]
     },
     "execution_count": 46,
     "metadata": {},
     "output_type": "execute_result"
    }
   ],
   "source": [
    "sample.shape"
   ]
  },
  {
   "cell_type": "markdown",
   "metadata": {},
   "source": [
    "### 4. Mete tus predicciones en un dataframe. \n",
    "\n",
    "En este caso, la **MISMA** forma que `sample_submission.csv`. "
   ]
  },
  {
   "cell_type": "code",
   "execution_count": 53,
   "metadata": {},
   "outputs": [],
   "source": [
    "submission = pd.DataFrame({\"laptop_ID\": sample['laptop_ID'], \"Price_euros\": predictions_submit})"
   ]
  },
  {
   "cell_type": "code",
   "execution_count": 55,
   "metadata": {},
   "outputs": [
    {
     "data": {
      "text/html": [
       "<div>\n",
       "<style scoped>\n",
       "    .dataframe tbody tr th:only-of-type {\n",
       "        vertical-align: middle;\n",
       "    }\n",
       "\n",
       "    .dataframe tbody tr th {\n",
       "        vertical-align: top;\n",
       "    }\n",
       "\n",
       "    .dataframe thead th {\n",
       "        text-align: right;\n",
       "    }\n",
       "</style>\n",
       "<table border=\"1\" class=\"dataframe\">\n",
       "  <thead>\n",
       "    <tr style=\"text-align: right;\">\n",
       "      <th></th>\n",
       "      <th>laptop_ID</th>\n",
       "      <th>Price_euros</th>\n",
       "    </tr>\n",
       "  </thead>\n",
       "  <tbody>\n",
       "    <tr>\n",
       "      <th>0</th>\n",
       "      <td>750</td>\n",
       "      <td>1097.642300</td>\n",
       "    </tr>\n",
       "    <tr>\n",
       "      <th>1</th>\n",
       "      <td>726</td>\n",
       "      <td>1095.007559</td>\n",
       "    </tr>\n",
       "    <tr>\n",
       "      <th>2</th>\n",
       "      <td>633</td>\n",
       "      <td>1084.797937</td>\n",
       "    </tr>\n",
       "    <tr>\n",
       "      <th>3</th>\n",
       "      <td>363</td>\n",
       "      <td>1101.018255</td>\n",
       "    </tr>\n",
       "    <tr>\n",
       "      <th>4</th>\n",
       "      <td>319</td>\n",
       "      <td>981.535009</td>\n",
       "    </tr>\n",
       "  </tbody>\n",
       "</table>\n",
       "</div>"
      ],
      "text/plain": [
       "   laptop_ID  Price_euros\n",
       "0        750  1097.642300\n",
       "1        726  1095.007559\n",
       "2        633  1084.797937\n",
       "3        363  1101.018255\n",
       "4        319   981.535009"
      ]
     },
     "execution_count": 55,
     "metadata": {},
     "output_type": "execute_result"
    }
   ],
   "source": [
    "submission.head()"
   ]
  },
  {
   "cell_type": "code",
   "execution_count": 28,
   "metadata": {},
   "outputs": [
    {
     "data": {
      "text/plain": [
       "(391, 2)"
      ]
     },
     "execution_count": 28,
     "metadata": {},
     "output_type": "execute_result"
    }
   ],
   "source": [
    "submission.shape"
   ]
  },
  {
   "cell_type": "markdown",
   "metadata": {},
   "source": [
    "### 5. Pásale el CHEQUEATOR para comprobar que efectivamente está listo para subir a Kaggle."
   ]
  },
  {
   "cell_type": "code",
   "execution_count": 56,
   "metadata": {},
   "outputs": [],
   "source": [
    "def chequeator(df_to_submit):\n",
    "    \"\"\"\n",
    "    Esta función se asegura de que tu submission tenga la forma requerida por Kaggle.\n",
    "    \n",
    "    Si es así, se guardará el dataframe en un `csv` y estará listo para subir a Kaggle.\n",
    "    \n",
    "    Si no, LEE EL MENSAJE Y HAZLE CASO.\n",
    "    \n",
    "    Si aún no:\n",
    "    - apaga tu ordenador, \n",
    "    - date una vuelta, \n",
    "    - enciendelo otra vez, \n",
    "    - abre este notebook y \n",
    "    - leelo todo de nuevo. \n",
    "    Todos nos merecemos una segunda oportunidad. También tú.\n",
    "    \"\"\"\n",
    "    if df_to_submit.shape == sample.shape:\n",
    "        if df_to_submit.columns.all() == sample.columns.all():\n",
    "            if df_to_submit.laptop_ID.all() == sample.laptop_ID.all():\n",
    "                print(\"You're ready to submit!\")\n",
    "                submission.to_csv(\"submission.csv\", index = False) #muy importante el index = False\n",
    "                urllib.request.urlretrieve(\"https://i.kym-cdn.com/photos/images/facebook/000/747/556/27a.jpg\", \"gfg.png\")     \n",
    "                img = Image.open(\"gfg.png\")\n",
    "                img.show()   \n",
    "            else:\n",
    "                print(\"Check the ids and try again\")\n",
    "        else:\n",
    "            print(\"Check the names of the columns and try again\")\n",
    "    else:\n",
    "        print(\"Check the number of rows and/or columns and try again\")\n",
    "        print(\"\\nMensaje secreto de Clara: No me puedo creer que después de todo este notebook hayas hecho algún cambio en las filas de `diamonds_test.csv`. Lloro.\")\n"
   ]
  },
  {
   "cell_type": "code",
   "execution_count": 57,
   "metadata": {},
   "outputs": [
    {
     "name": "stdout",
     "output_type": "stream",
     "text": [
      "You're ready to submit!\n"
     ]
    }
   ],
   "source": [
    "chequeator(submission)"
   ]
  },
  {
   "cell_type": "code",
   "execution_count": null,
   "metadata": {},
   "outputs": [],
   "source": []
  }
 ],
 "metadata": {
  "kernelspec": {
   "display_name": "Python 3",
   "language": "python",
   "name": "python3"
  },
  "language_info": {
   "codemirror_mode": {
    "name": "ipython",
    "version": 3
   },
   "file_extension": ".py",
   "mimetype": "text/x-python",
   "name": "python",
   "nbconvert_exporter": "python",
   "pygments_lexer": "ipython3",
   "version": "3.9.5"
  }
 },
 "nbformat": 4,
 "nbformat_minor": 4
}
