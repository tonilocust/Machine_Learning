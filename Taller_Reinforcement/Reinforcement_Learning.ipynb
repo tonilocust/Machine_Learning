{
 "cells": [
  {
   "attachments": {},
   "cell_type": "markdown",
   "metadata": {},
   "source": [
    "## ¿Qué es el Aprendizaje por Refuerzo?\n",
    "\n",
    "\n",
    "Seguramente ya conocerás las 2 grandes áreas de aprendizaje tradicional del Machine Learning, el aprendizaje supervisado y el aprendizaje no supervisado. Parece difícil que aquí hubiera espacio para otras opciones; sin embargo sí la hay y es el Aprendizaje por refuerzo. En aprendizaje por refuerzo (ó Reinforcement Learning en inglés) no tenemos una “etiqueta de salida”, por lo que no es de tipo supervisado y si bien estos algoritmos aprenden por sí mismos, tampoco son de tipo no supervisado, en donde se intenta clasificar grupos teniendo en cuenta alguna distancia entre muestras.\n",
    "\n",
    "![foto1](img/areas-ml.png)\n",
    "\n",
    "![foto4](img/1_YIETknPBlQQBF40DJxL8QA.png)\n",
    "\n",
    "Si nos ponemos a pensar, los problemas de ML supervisados y no supervisados son específicos de un caso de negocio en particular, sea de clasificación ó predicción, están muy delimitados, por ejemplo, clasificar “perros ó gatos“, ó agrupar “k=5” clusters. En contraste, en el mundo real contamos con múltiples variables que por lo general se interrelacionan y que dependen de otros casos de negocio y dan lugar a escenarios más grandes en donde tomar decisiones. Para conducir un coche no basta una inteligencia que pueda detectar un semáforo en rojo, verde ó amarillo; tendremos muchísimos factores -todos a la vez- a los que prestar atención: a qué velocidad vamos, estamos ante una curva?, hay peatones?, es de noche y debemos encender las luces?.\n",
    "\n",
    "Una solución sería tener múltiples máquinas de ML supervisadas y que interactúan entre si -y esto no estaría mal- ó podemos cambiar el enfoque… Y ahí aparece el Reinforcement Learning (RL) como una alternativa, tal vez de las más ambiciosas en las que se intenta integrar el Machine Learning en el mundo real, sobre todo aplicado a robots y maquinaria industrial.\n",
    "\n",
    "El Reinforcement Learning entonces, intentará hacer aprender a la máquina basándose en un esquema de “premios y castigos” -cómo con el perro de Pablov- en un entorno en donde hay que tomar acciones y que está afectado por múltiples variables que cambian con el tiempo.\n",
    "\n",
    "![foto2](img/496302-1548589.jpg)\n",
    "\n",
    "\n",
    "## Diferencias con “los clásicos”\n",
    "\n",
    "En los modelos de Aprendizaje Supervisado (o no supervisado) como redes neuronales, árboles, knn, etc, se intenta “minimizar la función coste”, reducir el error.\n",
    "\n",
    "En cambio en el RL se intenta “maximizar la recompensa“. Y esto puede ser, a pesar de a veces cometer errores ó de no ser óptimos.\n",
    "\n",
    "Componentes del RL\n",
    "El Reinforcement Learning propone un nuevo enfoque para hacer que nuestra máquina aprenda, para ello, postula los siguientes 2 componentes:\n",
    "\n",
    "el Agente: será nuestro modelo que queremos entrenar y que aprenda a tomar decisiones.\n",
    "\n",
    "Ambiente: será el entorno en donde interactúa y “se mueve” el agente. El ambiente contiene las limitaciones y reglas posibles a cada momento.\n",
    "Entre ellos hay una relación que se retroalimenta y cuenta con los siguientes nexos:\n",
    "\n",
    "Acción: las posibles acciones que puede tomar en un momento determinado el Agente.\n",
    "\n",
    "Estado (del ambiente): son los indicadores del ambiente de cómo están los diversos elementos que lo componen en ese momento.\n",
    "\n",
    "Recompensas (ó castigos!): a raíz de cada acción tomada por el Agente, podremos obtener un premio ó una penalización que orientarán al Agente en si lo está haciendo bien ó mal.\n",
    "\n",
    "![foto3](img/premio-castigo.png)\n",
    "\n"
   ]
  },
  {
   "attachments": {},
   "cell_type": "markdown",
   "metadata": {},
   "source": [
    "## Empecemos a trabajar Obreros.."
   ]
  },
  {
   "cell_type": "code",
   "execution_count": 1,
   "metadata": {},
   "outputs": [],
   "source": [
    "import gym\n",
    "import numpy as np\n",
    "import matplotlib.pyplot as plt\n",
    "import random\n",
    "import warnings\n",
    "warnings.filterwarnings(\"ignore\")"
   ]
  },
  {
   "attachments": {},
   "cell_type": "markdown",
   "metadata": {},
   "source": [
    "### Cart Pole.\n",
    "\n",
    "![foto5](img/0-923627-95182.gif)\n",
    "\n",
    "Se trata de un péndulo que está en posición vertical y debemos mover el carro de abajo para que no caiga a ninguno de los lados.\n",
    "\n",
    "Este entorno es un problema clásico y como tal, ya está diseñado por nosotros en diferentes librerías. Nosotros usaremos OpenAI Gym. Se trata de una librería que provee de varios entornos interesantes para poner a prueba nuestros algoritmos, con representación gráfica de los mismos.\n",
    "\n",
    "Este entorno se caracteriza por tener cuatro entradas: posición del carro, velocidad del carro, ángulo del péndulo y velocidad angular del péndulo. Y dos acciones: acelerar a la izquierda y acelerar a la derecha. Las recompensas son 1 por cada acción tomada. El episodio finaliza cuando el ángulo del péndulo supera los 12 grados, el carro se aleja demasiado del centro y cuando el episodio alcanza los 200 pasos.\n",
    "\n",
    "Vamos a ver como funciona la interfaz Gym para que luego seamos capaces de crear nuestros propios entornos. Esta se compone de:\n",
    "\n",
    "Una clase que hereda de **gym.Env**\n",
    "\n",
    "Un constructor donde inicializamos, como mínimo, self.action_space, self.observation_space y opcionalmente self.reward_range y parámetros internos del entorno nuestro. Estas dos primeras deben ser de algún subtipo **gym.spaces**. Los más normales son **Discrete**, que es básicamente un valor activado sobre N posibles y Box, que es una matriz de características (podemos especificar la forma para que sea unidimensional, o que tenga más dimensiones), que contiene números. \n",
    "Es muy habitual que las observaciones sean de tipo Box, ya que se miden varias características a la vez, con números decimales y **Discrete** sea para las acciones ya que tomamos una acción de N posibles. Pero otras combinaciones son posibles y existen más tipos de **gym.spaces**. Si vamos a introducir características diferentes dentro del mismo Box es muy conveniente normalizar los datos entre -1 y 1. self.reward_range, al contrario, es una tupla en la que se especifica el valor máximo y el mínimo que pueden alcanzar las recompensas.\n",
    "\n",
    "Un método **reset**, que reinicia el entorno y devuelve una observación inicial. Estas observaciones, deberán devolverse con NumPy si son de tipo Box y coincidir con lo declarado en el constructor en cuanto a forma y tipos.\n",
    "\n",
    "Un método **step** que toma una acción y devuelve una tupla con cuatro valores: nueva observación, recompensa, un boolean de si el episodio ha acabado ya o no y un diccionario de información extra (no usado por los algoritmos).\n",
    "\n",
    "Opcionalmente pueden llevar instrucciones sobre como renderizar el entorno y así ver en vivo o en vídeo el funcionamiento de los algoritmos. Principalmente se controla a través del método **render**."
   ]
  },
  {
   "attachments": {},
   "cell_type": "markdown",
   "metadata": {},
   "source": [
    "[cartpole](https://github.com/openai/gym/blob/master/gym/envs/classic_control/cartpole.py)"
   ]
  },
  {
   "cell_type": "code",
   "execution_count": 2,
   "metadata": {},
   "outputs": [
    {
     "name": "stdout",
     "output_type": "stream",
     "text": [
      "Action Space Discrete(2)\n",
      "State Space Box([-4.8000002e+00 -3.4028235e+38 -4.1887903e-01 -3.4028235e+38], [4.8000002e+00 3.4028235e+38 4.1887903e-01 3.4028235e+38], (4,), float32)\n"
     ]
    }
   ],
   "source": [
    "env=gym.make('CartPole-v0') # Crea el entorno de juego correspondiente\n",
    "\n",
    "env.seed(1) #Opcional, establezca un número aleatorio para que el proceso se pueda repetir\n",
    "\n",
    "env=env.unwrapped #Opcional, agregue restricciones al medio ambiente, beneficioso para la capacitación\n",
    "\n",
    "# ---------------------- Espacio de acción y espacio de estado --------------------- #\n",
    "\n",
    "print(\"Action Space {}\".format(env.action_space)) # Posibles Movimientos\n",
    "\n",
    "print(\"State Space {}\".format(env.observation_space))"
   ]
  },
  {
   "cell_type": "code",
   "execution_count": 3,
   "metadata": {},
   "outputs": [],
   "source": [
    "env = gym.make('CartPole-v0')"
   ]
  },
  {
   "cell_type": "code",
   "execution_count": 4,
   "metadata": {},
   "outputs": [],
   "source": [
    "env.reset()\n",
    "for _ in range(100):\n",
    "    env.render()\n",
    "    env.step(env.action_space.sample())"
   ]
  },
  {
   "cell_type": "code",
   "execution_count": 5,
   "metadata": {},
   "outputs": [],
   "source": [
    "env.close()"
   ]
  },
  {
   "attachments": {},
   "cell_type": "markdown",
   "metadata": {},
   "source": [
    "Bien ahora tenemos un carrito idiota que no hace nada solo moverse..."
   ]
  },
  {
   "attachments": {},
   "cell_type": "markdown",
   "metadata": {},
   "source": [
    "Si queremos tomar acciones que son mejores que las aleatorias en cada paso, entonces sería bueno comprender realmente cómo nuestras acciones afectan el medio ambiente. A\n",
    "La función de paso del entorno devolverá la información que necesitamos. La función paso devuelve cuatro valores, la siguiente es la información específica:\n",
    "\n",
    "Observación (objet): un objeto relacionado con el entorno describe el entorno que observa, como la información de píxeles de la cámara, el ángulo y la velocidad angular del robot y el estado del tablero en un juego de mesa.\n",
    "\n",
    "recompensa (float): La suma de todas las recompensas obtenidas de acciones anteriores. Los diferentes entornos tienen diferentes métodos de cálculo, pero el objetivo siempre ha sido aumentar tus recompensas totales.\n",
    "\n",
    "done (booleano): para determinar si es el momento de restablecer el entorno, la mayoría de las tareas se dividen en episodios claramente definidos, y done es True para indicar que el episodio ha terminado.\n",
    "\n",
    "info (dict): información de diagnóstico para depuración. A veces también es útil para aprender (por ejemplo, puede contener la probabilidad original después del último cambio de estado del entorno). Pero la evaluación formal del agente no permite el uso de esta información para el aprendizaje"
   ]
  },
  {
   "attachments": {},
   "cell_type": "markdown",
   "metadata": {},
   "source": [
    "[cartpole.py](./cartpole.py)"
   ]
  },
  {
   "cell_type": "code",
   "execution_count": 7,
   "metadata": {},
   "outputs": [
    {
     "name": "stdout",
     "output_type": "stream",
     "text": [
      "[-0.03494446  0.02992036  0.0361635   0.02328484]\n",
      "[-0.03434605 -0.16570105  0.03662919  0.32715484]\n",
      "[-0.03766007 -0.36132482  0.04317229  0.63116026]\n",
      "[-0.04488657 -0.55702174  0.05579549  0.9371208 ]\n",
      "[-0.056027   -0.7528499   0.07453791  1.2468013 ]\n",
      "[-0.071084   -0.55875874  0.09947394  0.97836685]\n",
      "[-0.08225918 -0.75506353  0.11904127  1.3005655 ]\n",
      "[-0.09736045 -0.95147794  0.14505258  1.6280175 ]\n",
      "[-0.11639    -0.7583287   0.17761293  1.3838323 ]\n",
      "[-0.13155659 -0.5658104   0.20528959  1.151542  ]\n",
      "Episode finished after 10 timesteps\n",
      "[ 0.02402956  0.00345985 -0.00604836  0.03795605]\n",
      "[ 0.02409875 -0.19157486 -0.00528924  0.32872453]\n",
      "[ 0.02026726 -0.38662112  0.00128525  0.6197348 ]\n",
      "[ 0.01253483 -0.581761    0.01367994  0.91282225]\n",
      "[ 0.00089961 -0.38682675  0.03193639  0.62447   ]\n",
      "[-0.00683692 -0.58237964  0.04442579  0.92703754]\n",
      "[-0.01848451 -0.38788486  0.06296654  0.64864004]\n",
      "[-0.02624221 -0.5838248   0.07593934  0.9604675 ]\n",
      "[-0.03791871 -0.38980123  0.09514869  0.6925756 ]\n",
      "[-0.04571473 -0.5861054   0.1090002   1.0136315 ]\n",
      "[-0.05743684 -0.39259285  0.12927283  0.7570679 ]\n",
      "[-0.0652887  -0.589237    0.14441419  1.0874733 ]\n",
      "[-0.07707344 -0.39628384  0.16616365  0.8433668 ]\n",
      "[-0.08499911 -0.20377187  0.183031    0.60720384]\n",
      "[-0.08907455 -0.01161694  0.19517507  0.37729704]\n",
      "[-0.08930689 -0.20889756  0.20272101  0.7246174 ]\n",
      "Episode finished after 16 timesteps\n",
      "[-0.0283707   0.00334454 -0.04119939  0.02680124]\n",
      "[-0.02830381 -0.19116311 -0.04066337  0.30620593]\n",
      "[-0.03212707 -0.38568273 -0.03453925  0.5857924 ]\n",
      "[-0.03984073 -0.5803043  -0.0228234   0.86739814]\n",
      "[-0.05144681 -0.7751084  -0.00547544  1.1528187 ]\n",
      "[-0.06694898 -0.5799154   0.01758094  0.8584239 ]\n",
      "[-0.07854729 -0.7752724   0.03474941  1.1565826 ]\n",
      "[-0.09405274 -0.5806203   0.05788106  0.8749949 ]\n",
      "[-0.10566514 -0.7764793   0.07538096  1.185299  ]\n",
      "[-0.12119473 -0.97249365  0.09908694  1.5006266 ]\n",
      "[-0.14064461 -1.1686696   0.12909947  1.822531  ]\n",
      "[-0.16401799 -0.975196    0.1655501   1.5725856 ]\n",
      "[-0.18352191 -0.7823907   0.1970018   1.3357815 ]\n",
      "Episode finished after 13 timesteps\n",
      "[ 0.04031722  0.01029143 -0.0334032  -0.02184455]\n",
      "[ 0.04052305  0.2058761  -0.03384009 -0.3248766 ]\n",
      "[ 0.04464057  0.40146312 -0.04033762 -0.62803626]\n",
      "[ 0.05266983  0.59712416 -0.05289835 -0.9331451 ]\n",
      "[ 0.06461231  0.7929184  -0.07156125 -1.2419704 ]\n",
      "[ 0.08047068  0.9888822  -0.09640066 -1.556185  ]\n",
      "[ 0.10024833  1.1850178  -0.12752436 -1.8773203 ]\n",
      "[ 0.12394869  1.3812792  -0.16507076 -2.2067127 ]\n",
      "[ 0.15157427  1.1880829  -0.20920502 -1.9691681 ]\n",
      "Episode finished after 9 timesteps\n",
      "[-0.01852668  0.03815702 -0.01453981 -0.03751925]\n",
      "[-0.01776354  0.23348443 -0.0152902  -0.33475393]\n",
      "[-0.01309385  0.03858339 -0.02198528 -0.04693169]\n",
      "[-0.01232219 -0.15621652 -0.02292391  0.23873441]\n",
      "[-0.01544652  0.03922529 -0.01814922 -0.06109032]\n",
      "[-0.01466201  0.23460269 -0.01937103 -0.35944375]\n",
      "[-0.00996996  0.03976139 -0.0265599  -0.07293135]\n",
      "[-0.00917473 -0.15496992 -0.02801853  0.21125491]\n",
      "[-0.01227413  0.0405412  -0.02379343 -0.09013304]\n",
      "[-0.0114633   0.23599596 -0.02559609 -0.3902268 ]\n",
      "[-0.00674338  0.43147168 -0.03340063 -0.69086874]\n",
      "[ 0.00188605  0.6270408  -0.04721801 -0.99387676]\n",
      "[ 0.01442686  0.43258122 -0.06709554 -0.7163894 ]\n",
      "[ 0.02307849  0.2384489  -0.08142333 -0.4455575 ]\n",
      "[ 0.02784747  0.04456762 -0.09033448 -0.17961109]\n",
      "[ 0.02873882  0.24085833 -0.0939267  -0.49936888]\n",
      "[ 0.03355598  0.43717027 -0.10391408 -0.82011265]\n",
      "[ 0.04229939  0.6335491  -0.12031633 -1.1435877 ]\n",
      "[ 0.05497037  0.8300197  -0.14318809 -1.4714509 ]\n",
      "[ 0.07157077  0.63690966 -0.17261711 -1.2267038 ]\n",
      "[ 0.08430896  0.8337812  -0.19715118 -1.5681201 ]\n",
      "Episode finished after 21 timesteps\n",
      "[0.02265429 0.02608853 0.04225465 0.02834946]\n",
      "[ 0.02317606  0.22057985  0.04282163 -0.25070795]\n",
      "[0.02758766 0.02487339 0.03780748 0.05516835]\n",
      "[ 0.02808512  0.21943341  0.03891084 -0.2253504 ]\n",
      "[ 0.03247379  0.41397828  0.03440383 -0.5055099 ]\n",
      "[ 0.04075336  0.60859895  0.02429364 -0.7871554 ]\n",
      "[ 0.05292534  0.8033789   0.00855053 -1.0720975 ]\n",
      "[ 0.06899291  0.9983868  -0.01289142 -1.3620847 ]\n",
      "[ 0.08896065  1.1936679  -0.04013312 -1.6587721 ]\n",
      "[ 0.11283401  1.3892341  -0.07330856 -1.9636811 ]\n",
      "[ 0.14061868  1.5850512  -0.11258218 -2.2781513 ]\n",
      "[ 0.17231971  1.3911405  -0.1581452  -2.0221558 ]\n",
      "[ 0.20014252  1.1979712  -0.19858833 -1.782319  ]\n",
      "Episode finished after 13 timesteps\n",
      "[-0.01946263 -0.0089667  -0.04778412 -0.02968902]\n",
      "[-0.01964197  0.18680678 -0.04837791 -0.33705723]\n",
      "[-0.01590583  0.3825826  -0.05511905 -0.6445949 ]\n",
      "[-0.00825418  0.18827036 -0.06801095 -0.369766  ]\n",
      "[-0.00448877  0.38428938 -0.07540627 -0.68309456]\n",
      "[ 0.00319701  0.5803729  -0.08906816 -0.9985326 ]\n",
      "[ 0.01480447  0.77656543 -0.10903881 -1.3178061 ]\n",
      "[ 0.03033578  0.9728843  -0.13539493 -1.6425295 ]\n",
      "[ 0.04979347  0.77958286 -0.16824552 -1.3949156 ]\n",
      "[ 0.06538513  0.58690596 -0.19614384 -1.1592124 ]\n",
      "Episode finished after 10 timesteps\n",
      "[ 0.0245258  -0.04603884  0.04497939 -0.04798879]\n",
      "[ 0.02360502  0.14841025  0.04401961 -0.32614794]\n",
      "[ 0.02657322 -0.0473099   0.03749665 -0.01991453]\n",
      "[ 0.02562703  0.14725481  0.03709836 -0.30053502]\n",
      "[ 0.02857212  0.34182888  0.03108766 -0.5812909 ]\n",
      "[ 0.0354087   0.53650177  0.01946184 -0.8640208 ]\n",
      "[ 0.04613874  0.34112036  0.00218143 -0.5652828 ]\n",
      "[ 0.05296114  0.14596787 -0.00912423 -0.2719134 ]\n",
      "[ 0.0558805   0.34121883 -0.0145625  -0.5674601 ]\n",
      "[ 0.06270488  0.14630415 -0.0259117  -0.27940035]\n",
      "[ 0.06563096  0.34178597 -0.03149971 -0.58014184]\n",
      "[ 0.07246668  0.53733486 -0.04310254 -0.882579  ]\n",
      "[ 0.08321337  0.7330148  -0.06075412 -1.1884947 ]\n",
      "[ 0.09787367  0.5387308  -0.08452402 -0.91545695]\n",
      "[ 0.10864829  0.73488784 -0.10283316 -1.2334626 ]\n",
      "[ 0.12334605  0.5412272  -0.12750241 -0.97468597]\n",
      "[ 0.13417059  0.7378076  -0.14699613 -1.3045471 ]\n",
      "[ 0.14892673  0.5448233  -0.17308708 -1.0612539 ]\n",
      "[ 0.15982321  0.35236284 -0.19431214 -0.8275108 ]\n",
      "Episode finished after 19 timesteps\n",
      "[-0.03273525 -0.03128589  0.01661751  0.04219807]\n",
      "[-0.03336097 -0.22664213  0.01746147  0.3400773 ]\n",
      "[-0.03789381 -0.03177294  0.02426302  0.05295147]\n",
      "[-0.03852927 -0.22723423  0.02532205  0.35318977]\n",
      "[-0.04307395 -0.03248134  0.03238584  0.06859794]\n",
      "[-0.04372358  0.1621617   0.0337578  -0.21369374]\n",
      "[-0.04048034  0.35678515  0.02948393 -0.4955397 ]\n",
      "[-0.03334464  0.16126011  0.01957313 -0.19371256]\n",
      "[-0.03011944 -0.03413629  0.01569888  0.10508002]\n",
      "[-0.03080216  0.16075721  0.01780048 -0.18260892]\n",
      "[-0.02758702  0.35562     0.0141483  -0.4696237 ]\n",
      "[-0.02047462  0.16030106  0.00475583 -0.1725152 ]\n",
      "[-0.0172686   0.35535464  0.00130552 -0.46369404]\n",
      "[-0.01016151  0.55045813 -0.00796836 -0.7559652 ]\n",
      "[ 8.4765663e-04  7.4568897e-01 -2.3087660e-02 -1.0511448e+00]\n",
      "[ 0.01576144  0.9411094  -0.04411056 -1.3509846 ]\n",
      "[ 0.03458362  0.74656844 -0.07113025 -1.0724212 ]\n",
      "[ 0.04951499  0.9425549  -0.09257867 -1.3865521 ]\n",
      "[ 0.06836609  0.74870086 -0.12030972 -1.1241957 ]\n",
      "[ 0.08334011  0.9451766  -0.14279363 -1.4520646 ]\n",
      "[ 0.10224364  0.7520682  -0.17183492 -1.207189  ]\n",
      "[ 0.11728501  0.55953115 -0.1959787  -0.972908  ]\n",
      "Episode finished after 22 timesteps\n",
      "[ 0.04808638  0.0484731  -0.01275833 -0.00905201]\n",
      "[ 0.04905584  0.24377568 -0.01293937 -0.30573288]\n",
      "[ 0.05393136  0.4390796  -0.01905403 -0.6024683 ]\n",
      "[ 0.06271295  0.63446283 -0.0311034  -0.90109146]\n",
      "[ 0.07540221  0.82999206 -0.04912523 -1.2033864 ]\n",
      "[ 0.09200205  1.0257136  -0.07319295 -1.5110514 ]\n",
      "[ 0.11251632  1.2216419  -0.10341398 -1.8256565 ]\n",
      "[ 0.13694915  1.027808   -0.13992712 -1.5668086 ]\n",
      "[ 0.15750532  1.2242968  -0.17126329 -1.8996657 ]\n",
      "[ 0.18199125  1.0313933  -0.2092566  -1.6646491 ]\n",
      "Episode finished after 10 timesteps\n",
      "[-0.00152507  0.0161425   0.03245939 -0.02994631]\n",
      "[-0.00120222  0.2107843   0.03186046 -0.3122138 ]\n",
      "[ 0.00301347  0.01522328  0.02561619 -0.00965577]\n",
      "[ 0.00331793 -0.1802565   0.02542307  0.29099804]\n",
      "[-2.8719843e-04 -3.7573156e-01  3.1243032e-02  5.9158945e-01]\n",
      "[-0.00780183 -0.57127666  0.04307482  0.8939479 ]\n",
      "[-0.01922736 -0.7669555   0.06095378  1.199854  ]\n",
      "[-0.03456647 -0.9628107   0.08495086  1.5110005 ]\n",
      "[-0.05382269 -0.7688144   0.11517087  1.246001  ]\n",
      "[-0.06919897 -0.96520966  0.14009088  1.5724276 ]\n",
      "[-0.08850317 -1.1616974   0.17153944  1.905324  ]\n",
      "Episode finished after 11 timesteps\n",
      "[-0.00268696  0.00030571  0.00032554 -0.01306321]\n",
      "[-2.6808432e-03 -1.9482091e-01  6.4278378e-05  2.7972242e-01]\n",
      "[-0.00657726  0.00030013  0.00565873 -0.01294024]\n",
      "[-0.00657126  0.19534047  0.00539992 -0.3038324 ]\n",
      "[-0.00266445  0.00014198 -0.00067673 -0.00945138]\n",
      "[-0.00266161  0.19527364 -0.00086575 -0.30234775]\n",
      "[ 0.00124386  0.00016403 -0.00691271 -0.00993799]\n",
      "[ 0.00124714  0.19538443 -0.00711147 -0.30479392]\n",
      "[ 0.00515483  0.390607   -0.01320735 -0.5997111 ]\n",
      "[ 0.01296697  0.19567229 -0.02520157 -0.3112174 ]\n",
      "[ 0.01688042  0.00091829 -0.03142592 -0.02658764]\n",
      "[ 0.01689878 -0.19373924 -0.03195767  0.25601676]\n",
      "[ 0.013024    0.00182408 -0.02683734 -0.04657236]\n",
      "[ 0.01306048  0.19732037 -0.02776878 -0.34760043]\n",
      "[ 0.01700689  0.00260417 -0.03472079 -0.06380172]\n",
      "[ 0.01705897 -0.1920032  -0.03599682  0.21772756]\n",
      "[ 0.01321891  0.00361434 -0.03164227 -0.08608946]\n",
      "[ 0.01329119 -0.19104008 -0.03336406  0.19644475]\n",
      "[ 0.00947039  0.00454282 -0.02943517 -0.10657355]\n",
      "[ 0.00956125  0.20007394 -0.03156664 -0.4083959 ]\n",
      "[ 0.01356273  0.00541346 -0.03973456 -0.12582967]\n",
      "[ 0.013671    0.20108145 -0.04225115 -0.4307789 ]\n",
      "[ 0.01769263  0.39677542 -0.05086673 -0.736476  ]\n",
      "[ 0.02562813  0.2023916  -0.06559625 -0.46022576]\n",
      "[ 0.02967597  0.39837644 -0.07480077 -0.7728423 ]\n",
      "[ 0.0376435   0.20435898 -0.09025761 -0.50460076]\n",
      "[ 0.04173068  0.40062928 -0.10034963 -0.82430756]\n",
      "[ 0.04974326  0.59697014 -0.11683578 -1.1467905 ]\n",
      "[ 0.06168266  0.7934076  -0.1397716  -1.4737096 ]\n",
      "[ 0.07755081  0.9899338  -0.16924578 -1.8065832 ]\n",
      "[ 0.09734949  0.79705703 -0.20537744 -1.5709229 ]\n",
      "Episode finished after 31 timesteps\n",
      "[-0.00524402  0.02315509 -0.03225411 -0.01753845]\n",
      "[-0.00478091 -0.17148982 -0.03260488  0.264796  ]\n",
      "[-0.00821071 -0.36613157 -0.02730896  0.5470193 ]\n",
      "[-0.01553334 -0.17063682 -0.01636857  0.24585868]\n",
      "[-0.01894608 -0.3655212  -0.0114514   0.53333396]\n",
      "[-2.6256504e-02 -5.6048024e-01 -7.8472041e-04  8.2238668e-01]\n",
      "[-0.03746611 -0.75559145  0.01566301  1.1148227 ]\n",
      "[-0.05257794 -0.9509155   0.03795947  1.4123776 ]\n",
      "[-0.07159625 -0.75628406  0.06620702  1.1317981 ]\n",
      "[-0.08672193 -0.9522073   0.08884298  1.4444898 ]\n",
      "[-0.10576607 -0.7582839   0.11773278  1.1808374 ]\n",
      "[-0.12093175 -0.56487036  0.14134952  0.92725897]\n",
      "[-0.13222916 -0.7615887   0.1598947   1.2608122 ]\n",
      "[-0.14746094 -0.958353    0.18511096  1.5990027 ]\n",
      "Episode finished after 14 timesteps\n",
      "[ 0.00553412 -0.03372134  0.01880071  0.03785104]\n",
      "[ 0.00485969  0.16112603  0.01955773 -0.24884129]\n",
      "[ 0.00808221 -0.03426968  0.0145809   0.04994584]\n",
      "[ 0.00739682 -0.22959764  0.01557982  0.34719327]\n",
      "[ 0.00280487 -0.4249377   0.02252368  0.6447481 ]\n",
      "[-0.00569389 -0.62036616  0.03541864  0.9444378 ]\n",
      "[-0.01810121 -0.42573878  0.0543074   0.66309077]\n",
      "[-0.02661599 -0.23141277  0.06756922  0.38799   ]\n",
      "[-0.03124424 -0.03731174  0.07532901  0.11735307]\n",
      "[-0.03199048  0.1566546   0.07767608 -0.15064554]\n",
      "[-0.02885739 -0.03948874  0.07466317  0.16549613]\n",
      "[-0.02964716 -0.23559566  0.07797309  0.48076755]\n",
      "[-0.03435907 -0.4317267   0.08758844  0.7969711 ]\n",
      "[-0.04299361 -0.23790878  0.10352786  0.5330768 ]\n",
      "[-0.04775178 -0.04438356  0.1141894   0.2747261 ]\n",
      "[-0.04863945  0.14893968  0.11968392  0.02012853]\n",
      "[-0.04566066  0.34216005  0.12008649 -0.23252554]\n",
      "[-0.03881746  0.5353797   0.11543598 -0.48504713]\n",
      "[-0.02810987  0.3388341   0.10573504 -0.15832803]\n",
      "[-0.02133318  0.14236975  0.10256848  0.16575094]\n",
      "[-0.01848579  0.33588532  0.10588349 -0.09289458]\n",
      "[-0.01176808  0.13941762  0.1040256   0.23122811]\n",
      "[-0.00897973 -0.05702507  0.10865017  0.5548277 ]\n",
      "[-0.01012023 -0.2534914   0.11974672  0.8796697 ]\n",
      "[-0.01519006 -0.06018208  0.13734011  0.6269037 ]\n",
      "[-0.0163937   0.13278273  0.14987819  0.3804332 ]\n",
      "[-0.01373805  0.32549393  0.15748686  0.13850641]\n",
      "[-0.00722817  0.12850805  0.16025698  0.47643858]\n",
      "[-0.00465801 -0.06847074  0.16978575  0.81503487]\n",
      "[-0.00602742 -0.2654601   0.18608645  1.1559477 ]\n",
      "[-0.01133662 -0.46245503  0.2092054   1.5007328 ]\n",
      "Episode finished after 31 timesteps\n",
      "[ 0.04359885 -0.0274511  -0.02710731  0.03279355]\n",
      "[ 0.04304983 -0.22217403 -0.02645144  0.31680208]\n",
      "[ 0.03860635 -0.41690943 -0.0201154   0.6010272 ]\n",
      "[ 0.03026816 -0.6117443  -0.00809486  0.8873068 ]\n",
      "[ 0.01803327 -0.4165134   0.00965128  0.59209025]\n",
      "[ 0.009703   -0.61176914  0.02149308  0.8877976 ]\n",
      "[-0.00253238 -0.4169454   0.03924904  0.60194796]\n",
      "[-0.01087129 -0.22239381  0.05128799  0.3218816 ]\n",
      "[-0.01531917 -0.0280383   0.05772563  0.04580374]\n",
      "[-0.01587993  0.16621043  0.0586417  -0.22812212]\n",
      "[-0.01255572  0.36044747  0.05407926 -0.50174606]\n",
      "[-0.00534677  0.16460659  0.04404434 -0.19252264]\n",
      "[-0.00205464 -0.03111686  0.04019389  0.11372264]\n",
      "[-0.00267698 -0.22679101  0.04246834  0.4188106 ]\n",
      "[-0.0072128  -0.4224882   0.05084455  0.7245737 ]\n",
      "[-0.01566256 -0.22810489  0.06533603  0.44831738]\n",
      "[-0.02022466 -0.42408726  0.07430238  0.76085883]\n",
      "[-0.02870641 -0.6201499   0.08951955  1.0759661 ]\n",
      "[-0.04110941 -0.8163332   0.11103887  1.3953463 ]\n",
      "[-0.05743607 -0.62275404  0.1389458   1.1393442 ]\n",
      "[-0.06989115 -0.4296948   0.16173269  0.893265  ]\n",
      "[-0.07848504 -0.23709217  0.17959799  0.6554737 ]\n",
      "[-0.08322689 -0.4341997   0.19270746  0.9988979 ]\n",
      "Episode finished after 23 timesteps\n",
      "[ 0.02823533 -0.00438117 -0.03609979  0.04700653]\n",
      "[ 0.0281477  -0.19896738 -0.03515966  0.32808465]\n",
      "[ 0.02416836 -0.00336298 -0.02859797  0.02452457]\n",
      "[ 0.0241011   0.19215718 -0.02810748 -0.2770424 ]\n",
      "[ 0.02794424 -0.00255274 -0.03364832  0.0066446 ]\n",
      "[ 0.02789319 -0.19717637 -0.03351543  0.28852406]\n",
      "[ 0.02394966 -0.39180475 -0.02774495  0.57045096]\n",
      "[ 0.01611356 -0.5865269  -0.01633593  0.85426575]\n",
      "[ 0.00438303 -0.3911861   0.00074938  0.5564912 ]\n",
      "[-0.00344069 -0.58631855  0.01187921  0.8494101 ]\n",
      "[-0.01516707 -0.7816005   0.02886741  1.1458048 ]\n",
      "[-0.03079908 -0.9770873   0.05178351  1.4473987 ]\n",
      "[-0.05034082 -1.1728064   0.08073148  1.7558013 ]\n",
      "[-0.07379695 -0.9786871   0.11584751  1.48928   ]\n",
      "[-0.09337069 -1.1750135   0.1456331   1.8157789 ]\n",
      "[-0.11687096 -0.9817818   0.18194868  1.5716643 ]\n",
      "Episode finished after 16 timesteps\n",
      "[-0.00643732 -0.031812    0.04237119 -0.04105334]\n",
      "[-0.00707356 -0.22751512  0.04155012  0.26469126]\n",
      "[-0.01162387 -0.03301009  0.04684395 -0.01460224]\n",
      "[-0.01228407 -0.22877145  0.0465519   0.29248476]\n",
      "[-0.0168595  -0.42452517  0.05240159  0.59947854]\n",
      "[-0.02535    -0.230174    0.06439117  0.32375097]\n",
      "[-0.02995348 -0.42615092  0.07086619  0.6360251 ]\n",
      "[-0.0384765  -0.62218595  0.08358669  0.95015675]\n",
      "[-0.05092022 -0.8183275   0.10258982  1.2678878 ]\n",
      "[-0.06728677 -0.62465453  0.12794758  1.0090142 ]\n",
      "[-0.07977986 -0.82123053  0.14812787  1.3389821 ]\n",
      "[-0.09620447 -1.0178744   0.1749075   1.6741081 ]\n",
      "[-0.11656196 -1.2145423   0.20838967  2.0157702 ]\n",
      "Episode finished after 13 timesteps\n",
      "[-0.01191908 -0.03606464  0.02865553  0.0163883 ]\n",
      "[-0.01264037 -0.23158558  0.0289833   0.31797287]\n",
      "[-0.01727208 -0.03688817  0.03534276  0.03456931]\n",
      "[-0.01800985  0.1577096   0.03603414 -0.24675645]\n",
      "[-0.01485565 -0.03790797  0.03109902  0.05707117]\n",
      "[-0.01561381  0.1567546   0.03224044 -0.22563985]\n",
      "[-0.01247872  0.3514013   0.02772764 -0.5079811 ]\n",
      "[-0.00545069  0.15589987  0.01756802 -0.20669082]\n",
      "[-0.0023327   0.35076624  0.0134342  -0.49378055]\n",
      "[ 0.00468263  0.5456962   0.00355859 -0.7821995 ]\n",
      "[ 0.01559655  0.3505255  -0.0120854  -0.48839915]\n",
      "[ 0.02260706  0.15557612 -0.02185338 -0.19954945]\n",
      "[ 0.02571858  0.3510037  -0.02584437 -0.49904522]\n",
      "[ 0.03273866  0.15625547 -0.03582527 -0.21461782]\n",
      "[ 0.03586377  0.3518708  -0.04011763 -0.5183829 ]\n",
      "[ 0.04290118  0.15733597 -0.05048529 -0.23860686]\n",
      "[ 0.0460479  -0.03702977 -0.05525742  0.03773392]\n",
      "[ 0.04530731  0.15883924 -0.05450275 -0.2718586 ]\n",
      "[ 0.04848409  0.35469484 -0.05993992 -0.58122164]\n",
      "[ 0.05557799  0.55060315 -0.07156435 -0.89216816]\n",
      "[ 0.06659006  0.35652116 -0.08940771 -0.6228123 ]\n",
      "[ 0.07372048  0.16275385 -0.10186396 -0.3595731 ]\n",
      "[ 0.07697555  0.35916516 -0.10905542 -0.68255913]\n",
      "[ 0.08415885  0.16571307 -0.12270661 -0.4261036 ]\n",
      "[ 0.08747312 -0.02747661 -0.13122867 -0.17448327]\n",
      "[ 0.08692358  0.16925545 -0.13471834 -0.5055147 ]\n",
      "[ 0.0903087  -0.02373647 -0.14482863 -0.25813726]\n",
      "[ 0.08983397 -0.21652585 -0.14999138 -0.01441168]\n",
      "[ 0.08550344 -0.40921402 -0.15027961  0.22744313]\n",
      "[ 0.07731917 -0.6019046  -0.14573075  0.46920523]\n",
      "[ 0.06528108 -0.7946997  -0.13634665  0.71263915]\n",
      "[ 0.04938708 -0.5979798  -0.12209386  0.380336  ]\n",
      "[ 0.03742748 -0.7911756  -0.11448714  0.6321659 ]\n",
      "[ 0.02160397 -0.5946582  -0.10184383  0.3057339 ]\n",
      "[ 0.00971081 -0.39824358 -0.09572915 -0.01725179]\n",
      "[ 0.00174594 -0.2018884  -0.09607419 -0.33853745]\n",
      "[-0.00229183 -0.3955213  -0.10284493 -0.07762987]\n",
      "[-0.01020226 -0.19908689 -0.10439753 -0.40090773]\n",
      "[-0.01418399 -0.39258507 -0.11241569 -0.14287786]\n",
      "[-0.0220357  -0.19604766 -0.11527324 -0.4688038 ]\n",
      "[-2.59566493e-02  4.97945584e-04 -1.24649316e-01 -7.95480967e-01]\n",
      "[-0.02594669  0.19708999 -0.14055894 -1.1246332 ]\n",
      "[-0.02200489  0.39374602 -0.1630516  -1.4578964 ]\n",
      "[-0.01412997  0.5904493  -0.19220953 -1.7967628 ]\n",
      "Episode finished after 44 timesteps\n",
      "[0.01963325 0.00083136 0.01438315 0.02012886]\n",
      "[ 0.01964987  0.19574413  0.01478573 -0.26798153]\n",
      "[0.02356476 0.00041431 0.0094261  0.029328  ]\n",
      "[ 0.02357304  0.19539982  0.01001266 -0.26036605]\n",
      "[ 0.02748104  0.39037743  0.00480534 -0.5498741 ]\n",
      "[ 0.03528859  0.1951883  -0.00619214 -0.25568104]\n",
      "[ 0.03919236  0.39039811 -0.01130577 -0.5503106 ]\n",
      "[ 0.04700032  0.19543678 -0.02231198 -0.26121113]\n",
      "[ 0.05090905  0.39087    -0.0275362  -0.56084716]\n",
      "[ 0.05872645  0.58636737 -0.03875314 -0.8620767 ]\n",
      "[ 0.0704538   0.78199494 -0.05599468 -1.1666883 ]\n",
      "[ 0.0860937   0.5876446  -0.07932845 -0.8920735 ]\n",
      "[ 0.09784659  0.39368317 -0.09716991 -0.62534446]\n",
      "[ 0.10572025  0.5900177  -0.10967681 -0.94698   ]\n",
      "[ 0.11752061  0.786432   -0.12861641 -1.2720116 ]\n",
      "[ 0.13324925  0.59316456 -0.15405664 -1.0222139 ]\n",
      "[ 0.14511254  0.78996557 -0.17450091 -1.3590331 ]\n",
      "[ 0.16091186  0.5974076  -0.20168158 -1.125626  ]\n",
      "Episode finished after 18 timesteps\n",
      "[-0.03962299 -0.04655337 -0.02663156 -0.04990818]\n",
      "[-0.04055406  0.14894013 -0.02762972 -0.3508732 ]\n",
      "[-0.03757526 -0.04577822 -0.03464719 -0.06702926]\n",
      "[-0.03849082  0.14982289 -0.03598777 -0.37043908]\n",
      "[-0.03549436  0.34543717 -0.04339655 -0.67424864]\n",
      "[-0.02858562  0.54113454 -0.05688152 -0.9802729 ]\n",
      "[-0.01776293  0.73697084 -0.07648698 -1.2902664 ]\n",
      "[-0.00302351  0.5429004  -0.10229231 -1.022477  ]\n",
      "[ 0.0078345   0.3492788  -0.12274185 -0.76358443]\n",
      "[ 0.01482007  0.5458582  -0.13801354 -1.0922307 ]\n",
      "[ 0.02573724  0.742502   -0.15985815 -1.4248388 ]\n",
      "[ 0.04058728  0.9391977  -0.18835492 -1.762919  ]\n",
      "Episode finished after 12 timesteps\n"
     ]
    }
   ],
   "source": [
    "for i_episode in range(20):\n",
    "    observation = env.reset()\n",
    "    for t in range(100):\n",
    "        env.render()\n",
    "        print(observation)\n",
    "        action = env.action_space.sample() ## modificar!!!\n",
    "        observation, reward, done, info = env.step(action)\n",
    "        if done:\n",
    "            print(\"Episode finished after {} timesteps\".format(t+1))\n",
    "            break\n",
    "env.close()"
   ]
  },
  {
   "attachments": {},
   "cell_type": "markdown",
   "metadata": {},
   "source": [
    "## Stable Baselines\n",
    "\n",
    "Este algoritmo, DQN, es muy popular, y se encuentra implementado en diferentes librerías. Una de las más interesantes es Stable Baselines 3, que intenta ser el sklearn del aprendizaje por refuerzo. Usa PyTorch internamente. Con Stable Baselines 3, debemos proporcionar un entorno que siga la interfaz Gym y ajustar los hiperparámetros. En el caso de DQN los hiperparámetros más importantes son:\n",
    "\n",
    "- **policy** - La política a usar del modelo. Casi siempre MlpPolicy. Si la entrada son imágenes, CnnPolicy.\n",
    "- **env** - El entorno sobre el que vamos a aprender. Debe implementar la interfaz OpenAI Gym\n",
    "- **learning_rate** - Ratio de aprendizaje de la red neuronal\n",
    "- **buffer_size** - El tamaño del buffer que almacenará las transiciones del \"experience replay\".\n",
    "- **batch_size** - Tamaño del batch que se usa para reentrenar.\n",
    "- **learning_starts** - Cuantos steps debe dar el modelo antes de empezar a aprender la red neuronal.\n",
    "- **gamma** - el factor de descuento. En posts anteriores hemos hablado de él.\n",
    "- **train_freq** - Cada cuantos steps se reentrena el modelo.\n",
    "- **gradient_steps** - Cuantos pasos de gradiente se dan al entrenar. Por defecto, 1.\n",
    "- **target_update_interval** - Cada cuantos steps se actualiza el \"fixed Q-target\".\n",
    "- **policy_kwargs** - Ajustes de la política. En el caso de MlpPolicy podremos ajustar la forma de la red, \n",
    "                    así como las funciones de activación   y más detalles."
   ]
  },
  {
   "cell_type": "code",
   "execution_count": null,
   "metadata": {},
   "outputs": [],
   "source": [
    "from stable_baselines3 import DQN"
   ]
  },
  {
   "cell_type": "code",
   "execution_count": null,
   "metadata": {},
   "outputs": [],
   "source": [
    "env = gym.make(\"CartPole-v1\")\n",
    "env.reset()\n",
    "for _ in range(100):\n",
    "    env.render()\n",
    "    env.step(env.action_space.sample())"
   ]
  },
  {
   "cell_type": "code",
   "execution_count": null,
   "metadata": {},
   "outputs": [],
   "source": [
    "env.close()"
   ]
  },
  {
   "cell_type": "code",
   "execution_count": null,
   "metadata": {},
   "outputs": [],
   "source": [
    "model = DQN(\n",
    "    \"MlpPolicy\",\n",
    "    env,\n",
    "    learning_rate=1e-3,\n",
    "    buffer_size=50000,\n",
    "    learning_starts=10000,\n",
    "    batch_size=64,\n",
    "    gamma=0.999,\n",
    "    gradient_steps=1,\n",
    "    train_freq=20,\n",
    "    target_update_interval=2000,\n",
    "    verbose=1\n",
    "    )\n",
    "model.learn(total_timesteps=500_000)\n",
    "model.save(\"dqn_cartpole\")"
   ]
  },
  {
   "cell_type": "code",
   "execution_count": null,
   "metadata": {},
   "outputs": [],
   "source": [
    "model = DQN.load(\"dqn_cartpole\")\n",
    "\n",
    "obs = env.reset()\n",
    "for i in range(1000):\n",
    "    action, _state = model.predict(obs, deterministic=True)\n",
    "    obs, reward, done, info = env.step(action)\n",
    "    env.render()\n",
    "    if done:\n",
    "        obs = env.reset()"
   ]
  },
  {
   "cell_type": "code",
   "execution_count": null,
   "metadata": {},
   "outputs": [],
   "source": [
    "env.close()"
   ]
  },
  {
   "attachments": {},
   "cell_type": "markdown",
   "metadata": {},
   "source": [
    "Ahora vamos con otro ejemplo.."
   ]
  },
  {
   "attachments": {},
   "cell_type": "markdown",
   "metadata": {},
   "source": [
    "## MountainCar\n",
    "\n",
    "![foto7](img/MountainCar.gif)"
   ]
  },
  {
   "cell_type": "code",
   "execution_count": null,
   "metadata": {},
   "outputs": [],
   "source": [
    "env = gym.make('MountainCar-v0')"
   ]
  },
  {
   "cell_type": "code",
   "execution_count": null,
   "metadata": {},
   "outputs": [],
   "source": [
    "env.reset()\n",
    "for i in range(300):\n",
    "    env.render()\n",
    "    env.step(env.action_space.sample()) # accion random\n"
   ]
  },
  {
   "cell_type": "code",
   "execution_count": null,
   "metadata": {},
   "outputs": [],
   "source": [
    "env.close()"
   ]
  },
  {
   "cell_type": "code",
   "execution_count": null,
   "metadata": {},
   "outputs": [],
   "source": [
    "for i_episode in range(20):\n",
    "    observation = env.reset()\n",
    "    for t in range(100):\n",
    "        env.render()\n",
    "        print(observation)\n",
    "        action = env.action_space.sample()\n",
    "        observation, reward, done, info = env.step(action)\n",
    "        if done:\n",
    "            print(\"Episode finished after {} timesteps\".format(t+1))\n",
    "            break"
   ]
  },
  {
   "attachments": {},
   "cell_type": "markdown",
   "metadata": {},
   "source": [
    "[mountaincar.py](./mountaincar.py)"
   ]
  },
  {
   "attachments": {},
   "cell_type": "markdown",
   "metadata": {},
   "source": [
    "Otro ejemplo.."
   ]
  },
  {
   "attachments": {},
   "cell_type": "markdown",
   "metadata": {},
   "source": [
    "## Taxi\n",
    "\n",
    "![foto8](img/ezgif.com-video-to-gif1.gif)"
   ]
  },
  {
   "cell_type": "code",
   "execution_count": null,
   "metadata": {},
   "outputs": [],
   "source": [
    "env = gym.make(\"Taxi-v3\").env\n",
    "env.render()"
   ]
  },
  {
   "attachments": {},
   "cell_type": "markdown",
   "metadata": {},
   "source": [
    "Hay 4 ubicaciones (etiquetadas con letras diferentes), y nuestro trabajo es recoger al pasajero en una ubicación y dejarlo en otra. Recibimos +20 puntos por una entrega exitosa y perdemos 1 punto por cada paso de tiempo que toma. También hay una penalización de 10 puntos por acciones ilegales de recogida y entrega."
   ]
  },
  {
   "cell_type": "code",
   "execution_count": null,
   "metadata": {},
   "outputs": [],
   "source": [
    "print(\"Action Space {}\".format(env.action_space))\n",
    "print(\"State Space {}\".format(env.observation_space))\n"
   ]
  },
  {
   "cell_type": "code",
   "execution_count": null,
   "metadata": {},
   "outputs": [],
   "source": [
    "print(env.s)"
   ]
  },
  {
   "attachments": {},
   "cell_type": "markdown",
   "metadata": {},
   "source": [
    "\n",
    "Como se verifica en las impresiones, tenemos un espacio de acción de tamaño 6 y un espacio de estado de tamaño 500. Como verá, nuestro algoritmo RL no necesitará más información que estas dos cosas. Todo lo que necesitamos es una forma de identificar un estado de manera única asignando un número único a cada estado posible, y RL aprende a elegir un número de acción del 0 al 5 donde:\n",
    "\n",
    "- 0 = sur\n",
    "- 1 = norte\n",
    "- 2 = este\n",
    "- 3 = oeste\n",
    "- 4 = recoger\n",
    "- 5 = dejar"
   ]
  },
  {
   "cell_type": "code",
   "execution_count": null,
   "metadata": {},
   "outputs": [],
   "source": [
    "state = env.encode(3, 1, 2, 0) # (taxi row, taxi column, passenger index, destination index)\n",
    "print(\"State:\", state)\n",
    "\n",
    "env.s = state\n",
    "env.render()"
   ]
  },
  {
   "cell_type": "code",
   "execution_count": null,
   "metadata": {},
   "outputs": [],
   "source": [
    "env.s = 328  # set environment to illustration's state\n",
    "\n",
    "epochs = 0\n",
    "penalties, reward = 0, 0\n",
    "\n",
    "frames = [] # for animation\n",
    "\n",
    "done = False\n",
    "\n",
    "while not done:\n",
    "    action = env.action_space.sample()\n",
    "    state, reward, done, info = env.step(action)\n",
    "    # Añade +1 a la variable penaltie cuando el reward sea -10\n",
    "    if reward == -10:\n",
    "        penalties = penalties + 1\n",
    "    # Put each rendered frame into dict for animation\n",
    "    frames.append({\n",
    "        'frame': env.render(mode='ansi'),\n",
    "        'state': state,\n",
    "        'action': action,\n",
    "        'reward': reward\n",
    "        }\n",
    "    )\n",
    "\n",
    "    epochs += 1\n",
    "\n",
    "print(\"Timesteps taken: {}\".format(epochs))\n",
    "print(\"Penalties incurred: {}\".format(penalties))"
   ]
  },
  {
   "cell_type": "code",
   "execution_count": null,
   "metadata": {},
   "outputs": [],
   "source": [
    "from IPython.display import clear_output\n",
    "from time import sleep\n",
    "\n",
    "def print_frames(frames):\n",
    "    for i, frame in enumerate(frames):\n",
    "        clear_output(wait=True)\n",
    "        print(frame['frame'])\n",
    "        print(f\"Timestep: {i + 1}\")\n",
    "        print(f\"State: {frame['state']}\")\n",
    "        print(f\"Action: {frame['action']}\")\n",
    "        print(f\"Reward: {frame['reward']}\")\n",
    "        sleep(.1)\n",
    "        \n",
    "print_frames(frames)"
   ]
  },
  {
   "cell_type": "code",
   "execution_count": null,
   "metadata": {},
   "outputs": [],
   "source": [
    "# Crea un array2d de ceros del tamaño de los diferentes estados y las diferentes posibles acciones\n",
    "q_table = np.zeros([env.observation_space.n, env.action_space.n])\n",
    "q_table"
   ]
  },
  {
   "cell_type": "code",
   "execution_count": null,
   "metadata": {},
   "outputs": [],
   "source": [
    "random.uniform(0, 1)"
   ]
  },
  {
   "cell_type": "code",
   "execution_count": null,
   "metadata": {},
   "outputs": [],
   "source": [
    "%%time\n",
    "\"\"\"Training the agent\"\"\"\n",
    "\n",
    "import random\n",
    "from IPython.display import clear_output\n",
    "q_table = np.zeros([env.observation_space.n, env.action_space.n])\n",
    "\n",
    "# Hyperparameters\n",
    "alpha = 0.1\n",
    "gamma = 0.6\n",
    "epsilon = 0.1\n",
    "\n",
    "# For plotting metrics\n",
    "all_epochs = []\n",
    "all_penalties = []\n",
    "\n",
    "for i in range(1, 100001):\n",
    "    state = env.reset()\n",
    "\n",
    "    epochs, penalties, reward, = 0, 0, 0\n",
    "    done = False\n",
    "    \n",
    "    while not done:\n",
    "        if random.uniform(0, 1) < epsilon:\n",
    "            action = env.action_space.sample() # Explore action space\n",
    "        else:\n",
    "            action = np.argmax(q_table[state]) # Exploit learned values\n",
    "\n",
    "        next_state, reward, done, info = env.step(action) \n",
    "        \n",
    "        old_value = q_table[state, action]\n",
    "        next_max = np.max(q_table[next_state])\n",
    "        \n",
    "        new_value = (1 - alpha) * old_value + alpha * (reward + gamma * next_max)\n",
    "        q_table[state, action] = new_value\n",
    "\n",
    "        if reward == -10:\n",
    "            penalties += 1\n",
    "\n",
    "        state = next_state\n",
    "        epochs += 1\n",
    "        \n",
    "    if i % 100 == 0:\n",
    "        clear_output(wait=True)\n",
    "        print(f\"Episode: {i}\")\n",
    "\n",
    "print(\"Training finished.\\n\")"
   ]
  },
  {
   "cell_type": "code",
   "execution_count": null,
   "metadata": {},
   "outputs": [],
   "source": [
    "\"\"\"Evaluate agent's performance after Q-learning\"\"\"\n",
    "\n",
    "total_epochs, total_penalties = 0, 0\n",
    "episodes = 100\n",
    "\n",
    "for _ in range(episodes):\n",
    "    env.reset()\n",
    "    # Crea el estado inicial\n",
    "    state = env.encode(3, 1, 2, 0)\n",
    "    env.s = state\n",
    "    # Inicializa las epochs, penalties y rewards\n",
    "    epochs, penalties, reward = 0, 0, 0\n",
    "\n",
    "    done = False\n",
    "    actions = []\n",
    "    while not done:\n",
    "        # Elige la accion que te indique el maximo valor de la q_table\n",
    "        action = np.argmax(q_table[state])\n",
    "        actions.append(action)\n",
    "        # Ejecuta la accion\n",
    "        state, reward, done, info = env.step(action)\n",
    "\n",
    "        # Actualiza el valor de penalties si el reward es -10\n",
    "        if reward == -10:\n",
    "            penalties += 1\n",
    "\n",
    "        epochs += 1\n",
    "\n",
    "    total_penalties += penalties\n",
    "    total_epochs += epochs\n",
    "\n",
    "print(f\"Results after {episodes} episodes:\")\n",
    "print(f\"Average timesteps per episode: {total_epochs / episodes}\")\n",
    "print(f\"Average penalties per episode: {total_penalties / episodes}\")"
   ]
  },
  {
   "cell_type": "code",
   "execution_count": null,
   "metadata": {},
   "outputs": [],
   "source": [
    "actions"
   ]
  },
  {
   "cell_type": "code",
   "execution_count": null,
   "metadata": {},
   "outputs": [],
   "source": [
    "\"\"\"Evaluate agent's performance after Q-learning\"\"\"\n",
    "\n",
    "total_epochs, total_penalties = 0, 0\n",
    "episodes = 100\n",
    "\n",
    "for _ in range(episodes):\n",
    "    env.reset()\n",
    "    # Crea el estado inicial\n",
    "    state = env.encode(3, 1, 2, 0)\n",
    "    env.s = state\n",
    "    # Inicializa las epochs, penalties y rewards\n",
    "    epochs, penalties, reward = 0, 0, 0\n",
    "\n",
    "    done = False\n",
    "    actions = []\n",
    "    while not done:\n",
    "        # Elige la accion que te indique el maximo valor de la q_table\n",
    "        action = env.action_space.sample()\n",
    "        actions.append(action)\n",
    "        # Ejecuta la accion\n",
    "        state, reward, done, info = env.step(action)\n",
    "\n",
    "        # Actualiza el valor de penalties si el reward es -10\n",
    "        if reward == -10:\n",
    "            penalties += 1\n",
    "\n",
    "        epochs += 1\n",
    "\n",
    "    total_penalties += penalties\n",
    "    total_epochs += epochs\n",
    "\n",
    "print(f\"Results after {episodes} episodes:\")\n",
    "print(f\"Average timesteps per episode: {total_epochs / episodes}\")\n",
    "print(f\"Average penalties per episode: {total_penalties / episodes}\")"
   ]
  },
  {
   "attachments": {},
   "cell_type": "markdown",
   "metadata": {},
   "source": [
    "ahora vamos con algo mas dificil"
   ]
  },
  {
   "attachments": {},
   "cell_type": "markdown",
   "metadata": {},
   "source": [
    "## Mario\n",
    "\n",
    "![foto9](img/DDQN-1.gif)"
   ]
  },
  {
   "attachments": {},
   "cell_type": "markdown",
   "metadata": {},
   "source": [
    "Homer le asignamos una tarea?"
   ]
  },
  {
   "attachments": {},
   "cell_type": "markdown",
   "metadata": {},
   "source": [
    "# ..."
   ]
  },
  {
   "attachments": {},
   "cell_type": "markdown",
   "metadata": {},
   "source": [
    "![foto10](img/homero-homer.gif)"
   ]
  },
  {
   "attachments": {},
   "cell_type": "markdown",
   "metadata": {},
   "source": [
    "## FrozenLake"
   ]
  },
  {
   "cell_type": "code",
   "execution_count": null,
   "metadata": {},
   "outputs": [],
   "source": [
    "# crear e inicializar el env\n",
    "env = gym.make('FrozenLake-v1', is_slippery=False)"
   ]
  },
  {
   "cell_type": "code",
   "execution_count": null,
   "metadata": {},
   "outputs": [],
   "source": [
    "env.reset()"
   ]
  },
  {
   "cell_type": "code",
   "execution_count": null,
   "metadata": {},
   "outputs": [],
   "source": [
    "env.render()"
   ]
  },
  {
   "cell_type": "code",
   "execution_count": null,
   "metadata": {},
   "outputs": [],
   "source": [
    "is_done = False\n",
    "t = 0\n",
    "while not is_done:\n",
    "    action = env.action_space.sample()\n",
    "    state, reward, is_done, _ = env.step(action)\n",
    "    env.render()\n",
    "    t += 1\n",
    "print('\\nlast state =', state)\n",
    "print('reward = ', reward)\n",
    "print('time steps =', t)"
   ]
  },
  {
   "cell_type": "code",
   "execution_count": null,
   "metadata": {},
   "outputs": [],
   "source": [
    "state, reward, is_done, _ = env.step(action)"
   ]
  }
 ],
 "metadata": {
  "kernelspec": {
   "display_name": "Python 3.9.5 ('gym2')",
   "language": "python",
   "name": "python3"
  },
  "language_info": {
   "codemirror_mode": {
    "name": "ipython",
    "version": 3
   },
   "file_extension": ".py",
   "mimetype": "text/x-python",
   "name": "python",
   "nbconvert_exporter": "python",
   "pygments_lexer": "ipython3",
   "version": "3.9.5"
  },
  "orig_nbformat": 4,
  "vscode": {
   "interpreter": {
    "hash": "24ee5c73f77eef4e3a5ee5c61305a81c0babeecbea2e6c0042728077252baa6b"
   }
  }
 },
 "nbformat": 4,
 "nbformat_minor": 2
}
