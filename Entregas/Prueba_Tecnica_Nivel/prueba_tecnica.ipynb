{
 "cells": [
  {
   "attachments": {},
   "cell_type": "markdown",
   "metadata": {},
   "source": [
    "Estimado candidato,\n",
    "\n",
    "Estamos encantados de que estés considerando unirte a nuestro equipo de ciencia de datos. Como parte de nuestro proceso de evaluación, te pedimos que completes la siguiente prueba técnica.\n",
    "\n",
    "**Descripción de la tarea:**\n",
    "\n",
    "Se te proporciona un conjunto de datos anónimos que consta de varias columnas nombradas como 'col1', 'col2', 'col3', etc., hasta 'col20', y una columna 'target' que representa la variable objetivo. Tu tarea es realizar un análisis exploratorio de datos (EDA) y construir un modelo de aprendizaje automático para predecir la variable 'target'.\n",
    "\n",
    "**Detalles de la tarea:**\n",
    "\n",
    "1. **Análisis exploratorio de datos (EDA):** Realiza un análisis exploratorio detallado de los datos. Esto debe incluir, pero no está limitado a:\n",
    "   - Estadísticas descriptivas de las variables (mínimo, máximo, media, mediana, desviación estándar, etc.).\n",
    "   - Verificación de valores perdidos o anómalos.\n",
    "   - Análisis de correlación entre las variables.\n",
    "   - Visualizaciones para entender mejor las distribuciones y relaciones de los datos.\n",
    "\n",
    "2. **Preprocesamiento de datos:** Prepárate para realizar cualquier limpieza o transformación necesaria de los datos basándote en tu EDA.\n",
    "\n",
    "3. **Creación de un modelo de línea base (Baseline):** Entrena varios modelos de aprendizaje automático para predecir la variable 'target'. Comienza con modelos sencillos como la regresión logística y avanza hacia modelos más complejos como los árboles de decisión, random forest, SVM, XGBoost, etc.\n",
    "\n",
    "4. **Evaluación del modelo:** Evalúa el rendimiento de cada modelo utilizando métricas apropiadas. Por ejemplo, si 'target' es una variable binaria, podrías considerar la precisión, la sensibilidad, la especificidad, el AUC-ROC, etc.\n",
    "\n",
    "5. **Selección del modelo:** Selecciona el modelo que creas que funciona mejor. Justifica tu elección basándote en las métricas de evaluación y cualquier otra consideración pertinente.\n",
    "\n",
    "6. **Predicción:** Usa tu modelo seleccionado para hacer predicciones en el conjunto de datos.\n",
    "\n",
    "**Entregables:**\n",
    "\n",
    "Por favor, proporciona el código que hayas utilizado para completar esta tarea, junto con un informe detallado que explique tu enfoque y los resultados. El informe debe estar bien estructurado y ser fácil de seguir, permitiendo a los evaluadores entender tu proceso de pensamiento y las decisiones que hayas tomado.\n",
    "\n",
    "¡Buena suerte y esperamos ver tu solución!"
   ]
  },
  {
   "cell_type": "code",
   "execution_count": null,
   "metadata": {},
   "outputs": [],
   "source": []
  }
 ],
 "metadata": {
  "language_info": {
   "name": "python"
  },
  "orig_nbformat": 4
 },
 "nbformat": 4,
 "nbformat_minor": 2
}
